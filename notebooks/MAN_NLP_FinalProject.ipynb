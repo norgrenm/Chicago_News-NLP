{
 "cells": [
  {
   "cell_type": "markdown",
   "id": "centered-arizona",
   "metadata": {},
   "source": [
    "# NLP: Final Project\n",
    "\n",
    "### By: Matt Norgren"
   ]
  },
  {
   "cell_type": "markdown",
   "id": "fifty-enclosure",
   "metadata": {},
   "source": [
    "### Instructions"
   ]
  },
  {
   "cell_type": "markdown",
   "id": "visible-halloween",
   "metadata": {},
   "source": [
    "The news articles are related to either Chicago and / or Illinois.\n",
    "\n",
    "    - Detect major topics\n",
    "    - Identify top reasons for population decline (negative sentiment)\n",
    "    - Suggest corrective actions\n",
    "    - Demonstrate how the city / state can attract new businesses (positive sentiment)\n",
    "    - Leverage appropriate NLP techniques to identify organizations and people and apply targeted sentiment\n",
    "        - Why businesses should stay in IL or move into IL?\n",
    "            - Create appropriate visualization to summarize your recommendations (i.e. word cloud chart or bubble chart)\n",
    "        - Why residents should stay in IL or move into IL?\n",
    "            - Create appropriate visualization to summarize your recommendations (i.e. word cloud chart or bubble chart)"
   ]
  },
  {
   "cell_type": "markdown",
   "id": "corresponding-continent",
   "metadata": {},
   "source": [
    "### Import Packages"
   ]
  },
  {
   "cell_type": "code",
   "execution_count": 1,
   "id": "arabic-victoria",
   "metadata": {},
   "outputs": [
    {
     "name": "stdout",
     "output_type": "stream",
     "text": [
      "Number of cores present: 8\n",
      "3.8.8 | packaged by conda-forge | (default, Feb 20 2021, 15:50:57) \n",
      "[Clang 11.0.1 ]\n"
     ]
    }
   ],
   "source": [
    "## Import standard packages for cleaning data/ preparation\n",
    "import pandas as pd\n",
    "import numpy as np\n",
    "import json, glob, pickle, re, sys, string\n",
    "from __future__ import division\n",
    "## Standard logic for iteration\n",
    "import itertools\n",
    "from itertools import combinations\n",
    "## Base computing and graphing\n",
    "import matplotlib.pyplot as plt\n",
    "import seaborn as sns\n",
    "## Standard logic for iteration \n",
    "from collections.abc import Iterable\n",
    "from collections import Counter\n",
    "## Ability to confirm directories and establish random variables\n",
    "from os import path, mkdir\n",
    "import random, warnings, tqdm, math\n",
    "#warnings.simplefilter('ignore')\n",
    "## Setup for multiprocessing LDA / check for how many cores present\n",
    "import multiprocessing\n",
    "num_processors = multiprocessing.cpu_count()\n",
    "print(\"Number of cores present:\",num_processors)\n",
    "print(sys.version)\n",
    "warnings.filterwarnings(\"ignore\", category=DeprecationWarning)"
   ]
  },
  {
   "cell_type": "code",
   "execution_count": 2,
   "id": "interesting-wyoming",
   "metadata": {},
   "outputs": [],
   "source": [
    "## Summarization\n",
    "import summa"
   ]
  },
  {
   "cell_type": "code",
   "execution_count": 3,
   "id": "correct-methodology",
   "metadata": {},
   "outputs": [],
   "source": [
    "## NLTK, TextBlob, gensim set for LDA\n",
    "import nltk as nltk \n",
    "from nltk.text import Text\n",
    "#nltk.download('punkt')\n",
    "#nltk.download('wordnet')\n",
    "#nltk.download('vader_lexicon')\n",
    "from nltk.sentiment.vader import SentimentIntensityAnalyzer\n",
    "from vaderSentiment.vaderSentiment import SentimentIntensityAnalyzer\n",
    "sid = SentimentIntensityAnalyzer()\n",
    "##\n",
    "nltk.data.path.append('/Users/man/Python/MiniForge/nltk_data/')\n",
    "from nltk.corpus import stopwords, wordnet\n",
    "from nltk.stem.wordnet import WordNetLemmatizer\n",
    "## Keyword extraction\n",
    "from rake_nltk import Rake\n",
    "##\n",
    "import gensim\n",
    "from gensim import corpora, models\n",
    "from gensim.models.ldamulticore import LdaMulticore\n",
    "from gensim.test.utils import common_texts, datapath\n",
    "from gensim.corpora.dictionary import Dictionary\n",
    "import pyLDAvis.gensim\n",
    "##\n",
    "from textblob import TextBlob\n",
    "from textblob.sentiments import NaiveBayesAnalyzer\n",
    "#TextBlob(sentence).sentiment\n",
    "##\n",
    "from langdetect import detect"
   ]
  },
  {
   "cell_type": "code",
   "execution_count": 4,
   "id": "occupied-shadow",
   "metadata": {},
   "outputs": [
    {
     "name": "stderr",
     "output_type": "stream",
     "text": [
      "/Users/man/Python/MiniForge/envs/python38-Forge/lib/python3.8/site-packages/ipykernel/ipkernel.py:283: DeprecationWarning: `should_run_async` will not call `transform_cell` automatically in the future. Please pass the result to `transformed_cell` argument and any exception that happen during thetransform in `preprocessing_exc_tuple` in IPython 7.17 and above.\n",
      "  and should_run_async(code)\n"
     ]
    }
   ],
   "source": [
    "## Sentiment pre-classifier // Labeling\n",
    "import snorkel\n",
    "#from snorkel.labeling.model import LabelModel\n",
    "#from snorkel.labeling import PandasLFApplier"
   ]
  },
  {
   "cell_type": "code",
   "execution_count": 5,
   "id": "medieval-argentina",
   "metadata": {},
   "outputs": [
    {
     "name": "stderr",
     "output_type": "stream",
     "text": [
      "/Users/man/Python/MiniForge/envs/python38-Forge/lib/python3.8/site-packages/ipykernel/ipkernel.py:283: DeprecationWarning: `should_run_async` will not call `transform_cell` automatically in the future. Please pass the result to `transformed_cell` argument and any exception that happen during thetransform in `preprocessing_exc_tuple` in IPython 7.17 and above.\n",
      "  and should_run_async(code)\n"
     ]
    }
   ],
   "source": [
    "## \n",
    "from tqdm.auto import tqdm\n",
    "tqdm.pandas()\n",
    "from tqdm.notebook import tqdm, trange\n",
    "import time  "
   ]
  },
  {
   "cell_type": "code",
   "execution_count": 6,
   "id": "fuzzy-nirvana",
   "metadata": {},
   "outputs": [
    {
     "name": "stderr",
     "output_type": "stream",
     "text": [
      "/Users/man/Python/MiniForge/envs/python38-Forge/lib/python3.8/site-packages/ipykernel/ipkernel.py:283: DeprecationWarning: `should_run_async` will not call `transform_cell` automatically in the future. Please pass the result to `transformed_cell` argument and any exception that happen during thetransform in `preprocessing_exc_tuple` in IPython 7.17 and above.\n",
      "  and should_run_async(code)\n"
     ]
    }
   ],
   "source": [
    "## Spacy based packages and methods -- related to \n",
    "warnings.filterwarnings(\"ignore\", category=DeprecationWarning)\n",
    "import spacy \n",
    "from spacy.kb import KnowledgeBase\n",
    "from spacy import displacy\n",
    "from spacy.util import minibatch, compounding\n",
    "from joblib import Parallel, delayed"
   ]
  },
  {
   "cell_type": "code",
   "execution_count": 7,
   "id": "meaningful-spotlight",
   "metadata": {},
   "outputs": [],
   "source": [
    "## Sentiment Analysis based packages\n",
    "import sklearn, wordcloud, eli5\n",
    "from sklearn.model_selection import train_test_split\n",
    "from sklearn.feature_extraction.text import CountVectorizer, HashingVectorizer, TfidfTransformer, TfidfVectorizer\n",
    "from sklearn.naive_bayes import MultinomialNB\n",
    "from sklearn.metrics import classification_report, confusion_matrix, accuracy_score\n",
    "from sklearn.linear_model import LogisticRegression, SGDClassifier\n",
    "from sklearn import metrics\n",
    "from joblib import dump, load\n",
    "from urllib.request import urlretrieve\n",
    "import urllib"
   ]
  },
  {
   "cell_type": "code",
   "execution_count": 8,
   "id": "federal-large",
   "metadata": {},
   "outputs": [],
   "source": [
    "## Keras and Tensorflow\n",
    "import tensorflow as tf\n",
    "from tensorflow.keras.wrappers.scikit_learn import KerasClassifier\n",
    "from tensorflow.keras.preprocessing.text import Tokenizer, text_to_word_sequence\n",
    "from tensorflow.keras.preprocessing import sequence\n",
    "from tensorflow.keras.layers import Dense, Input, LSTM, Embedding, Dropout, Activation, GRU, Convolution1D, Flatten, LeakyReLU\n",
    "from tensorflow.keras.layers import Bidirectional, GlobalMaxPool1D, GlobalAveragePooling1D, MaxPooling1D, GlobalMaxPooling1D\n",
    "from tensorflow.keras.layers import Concatenate\n",
    "from tensorflow.keras.models import Model, Sequential\n",
    "from tensorflow.keras import initializers, regularizers, constraints, optimizers, layers\n",
    "from tensorflow.keras import callbacks\n",
    "from tensorflow.keras.models import Sequential\n",
    "from tensorflow.keras.wrappers.scikit_learn import KerasClassifier\n",
    "from tensorflow.keras.callbacks import EarlyStopping, ModelCheckpoint\n",
    "from keras.models import load_model\n",
    "from tensorflow.keras.datasets import imdb\n",
    "from tensorflow.keras.utils import model_to_dot"
   ]
  },
  {
   "cell_type": "markdown",
   "id": "contemporary-franchise",
   "metadata": {},
   "source": [
    "## Executive Summary of Actions"
   ]
  },
  {
   "cell_type": "markdown",
   "id": "coral-concord",
   "metadata": {},
   "source": [
    "### Import Data"
   ]
  },
  {
   "cell_type": "code",
   "execution_count": 10,
   "id": "ranking-northwest",
   "metadata": {
    "tags": []
   },
   "outputs": [
    {
     "data": {
      "text/html": [
       "<div>\n",
       "<style scoped>\n",
       "    .dataframe tbody tr th:only-of-type {\n",
       "        vertical-align: middle;\n",
       "    }\n",
       "\n",
       "    .dataframe tbody tr th {\n",
       "        vertical-align: top;\n",
       "    }\n",
       "\n",
       "    .dataframe thead th {\n",
       "        text-align: right;\n",
       "    }\n",
       "</style>\n",
       "<table border=\"1\" class=\"dataframe\">\n",
       "  <thead>\n",
       "    <tr style=\"text-align: right;\">\n",
       "      <th></th>\n",
       "      <th>crawled_date</th>\n",
       "      <th>language</th>\n",
       "      <th>text</th>\n",
       "      <th>title</th>\n",
       "    </tr>\n",
       "  </thead>\n",
       "  <tbody>\n",
       "    <tr>\n",
       "      <th>0</th>\n",
       "      <td>1589155200000</td>\n",
       "      <td>english</td>\n",
       "      <td>\\nGov. Jay “Fatso” Pritzker called on all Illi...</td>\n",
       "      <td>All In Illinois</td>\n",
       "    </tr>\n",
       "    <tr>\n",
       "      <th>1</th>\n",
       "      <td>1589155200000</td>\n",
       "      <td>english</td>\n",
       "      <td>May 10, 2020 -The Illinois Department of Publi...</td>\n",
       "      <td>The Illinois Department of Public Health Annou...</td>\n",
       "    </tr>\n",
       "    <tr>\n",
       "      <th>2</th>\n",
       "      <td>1589155200000</td>\n",
       "      <td>english</td>\n",
       "      <td>Gloria Lawrence said: May 10, 2020 at 1:31 AM\\...</td>\n",
       "      <td>Foto Friday: Alton, Illinois</td>\n",
       "    </tr>\n",
       "    <tr>\n",
       "      <th>3</th>\n",
       "      <td>1589155200000</td>\n",
       "      <td>english</td>\n",
       "      <td>NBA to follow German soccer league model with ...</td>\n",
       "      <td>Chris Broussard on Michael Jordan returning to...</td>\n",
       "    </tr>\n",
       "    <tr>\n",
       "      <th>4</th>\n",
       "      <td>1589155200000</td>\n",
       "      <td>english</td>\n",
       "      <td>Search Minggu, 10 Mei 2020 Pork chops vs. peop...</td>\n",
       "      <td>Pork chops vs. people: Can Americans’ appetite...</td>\n",
       "    </tr>\n",
       "  </tbody>\n",
       "</table>\n",
       "</div>"
      ],
      "text/plain": [
       "    crawled_date language                                               text  \\\n",
       "0  1589155200000  english  \\nGov. Jay “Fatso” Pritzker called on all Illi...   \n",
       "1  1589155200000  english  May 10, 2020 -The Illinois Department of Publi...   \n",
       "2  1589155200000  english  Gloria Lawrence said: May 10, 2020 at 1:31 AM\\...   \n",
       "3  1589155200000  english  NBA to follow German soccer league model with ...   \n",
       "4  1589155200000  english  Search Minggu, 10 Mei 2020 Pork chops vs. peop...   \n",
       "\n",
       "                                               title  \n",
       "0                                    All In Illinois  \n",
       "1  The Illinois Department of Public Health Annou...  \n",
       "2                       Foto Friday: Alton, Illinois  \n",
       "3  Chris Broussard on Michael Jordan returning to...  \n",
       "4  Pork chops vs. people: Can Americans’ appetite...  "
      ]
     },
     "execution_count": 10,
     "metadata": {},
     "output_type": "execute_result"
    }
   ],
   "source": [
    "## Import data utilizing JSON method\n",
    "df = pd.read_json('/Users/man/OneDrive - The University of Chicago/Prior_Quarters/2021_Winter/NLP[MSCA_32018]/Final_Project/Archive/news_chicago_il.json', orient='records', lines=True)\n",
    "df.head()"
   ]
  },
  {
   "cell_type": "markdown",
   "id": "experimental-council",
   "metadata": {},
   "source": [
    " ### Summary Statistics for RAW"
   ]
  },
  {
   "cell_type": "code",
   "execution_count": 11,
   "id": "human-float",
   "metadata": {},
   "outputs": [
    {
     "name": "stdout",
     "output_type": "stream",
     "text": [
      "By Language:           crawled_date    text   title\n",
      "language                              \n",
      "english         373069  373069  373069\n"
     ]
    }
   ],
   "source": [
    "## Count of unique by language\n",
    "print(\"By Language:\",df.groupby(df['language']).count())"
   ]
  },
  {
   "cell_type": "code",
   "execution_count": 12,
   "id": "offshore-emergency",
   "metadata": {},
   "outputs": [
    {
     "data": {
      "text/plain": [
       "77.67314625444622"
      ]
     },
     "execution_count": 12,
     "metadata": {},
     "output_type": "execute_result"
    }
   ],
   "source": [
    "## Average character length per article title\n",
    "df['len'] =  df['title'].map(lambda calc: len(calc))\n",
    "article_len = sum(df['len']) / len(df['len'])\n",
    "article_len"
   ]
  },
  {
   "cell_type": "code",
   "execution_count": 13,
   "id": "multiple-technology",
   "metadata": {},
   "outputs": [
    {
     "data": {
      "text/plain": [
       "2316.408085367586"
      ]
     },
     "execution_count": 13,
     "metadata": {},
     "output_type": "execute_result"
    }
   ],
   "source": [
    "## Average character length per article text set\n",
    "df['len2'] =  df['text'].map(lambda calc: len(calc))\n",
    "article_len2 = sum(df['len2']) / len(df['len2'])\n",
    "article_len2"
   ]
  },
  {
   "cell_type": "code",
   "execution_count": 14,
   "id": "wireless-preservation",
   "metadata": {
    "tags": []
   },
   "outputs": [],
   "source": [
    "## Drop added test columns\n",
    "df.drop(['len','len2'],axis=1, inplace=True)"
   ]
  },
  {
   "cell_type": "code",
   "execution_count": 14,
   "id": "extreme-century",
   "metadata": {
    "tags": []
   },
   "outputs": [],
   "source": [
    "## Interesting that the average title is 77 characters long. It should lend to a \n",
    "## significant amount sentiment analysis // at minimum deeper overview of the topics"
   ]
  },
  {
   "cell_type": "code",
   "execution_count": 15,
   "id": "protective-needle",
   "metadata": {},
   "outputs": [
    {
     "data": {
      "text/plain": [
       "893157490.9999999"
      ]
     },
     "execution_count": 15,
     "metadata": {},
     "output_type": "execute_result"
    }
   ],
   "source": [
    "## Averages extrapolated\n",
    "extrapolated = article_len + article_len2\n",
    "extrapolated * len(df)"
   ]
  },
  {
   "cell_type": "code",
   "execution_count": 16,
   "id": "commercial-click",
   "metadata": {},
   "outputs": [
    {
     "data": {
      "text/plain": [
       "(373069, 2)"
      ]
     },
     "execution_count": 16,
     "metadata": {},
     "output_type": "execute_result"
    }
   ],
   "source": [
    "## Subset the df to just text and title\n",
    "df = df[['text','title']]\n",
    "df.shape"
   ]
  },
  {
   "cell_type": "markdown",
   "id": "entire-concept",
   "metadata": {},
   "source": [
    "### Data Cleaning & Setup for Ingestion "
   ]
  },
  {
   "cell_type": "code",
   "execution_count": 17,
   "id": "artistic-montgomery",
   "metadata": {},
   "outputs": [
    {
     "data": {
      "text/plain": [
       "(373069, 2)"
      ]
     },
     "execution_count": 17,
     "metadata": {},
     "output_type": "execute_result"
    }
   ],
   "source": [
    "## Remove all null values and only return records where the new dataframe is not null or NaN\n",
    "df = df[df.text.notnull()]\n",
    "df = df[df.title.notnull()]\n",
    "df.shape\n",
    "## Clean already regarding nulls"
   ]
  },
  {
   "cell_type": "code",
   "execution_count": 18,
   "id": "pharmaceutical-galaxy",
   "metadata": {},
   "outputs": [
    {
     "data": {
      "text/plain": [
       "0    All In Illinois \\nGov. Jay “Fatso” Pritzker ca...\n",
       "1    The Illinois Department of Public Health Annou...\n",
       "2    Foto Friday: Alton, Illinois Gloria Lawrence s...\n",
       "3    Chris Broussard on Michael Jordan returning to...\n",
       "4    Pork chops vs. people: Can Americans’ appetite...\n",
       "5    4 Dead, at Least 17 Injured in Shootings Acros...\n",
       "6    CITY OF LASALLE: Restore Illinois City of Lasa...\n",
       "7    Who Ya Got: 72-Win Chicago Bulls or 73-Win Gol...\n",
       "8    You know I had to do it >:DI love Chicago so f...\n",
       "9    Developer behind botched Chicago demolition fa...\n",
       "Name: combo, dtype: object"
      ]
     },
     "execution_count": 18,
     "metadata": {},
     "output_type": "execute_result"
    }
   ],
   "source": [
    "## Data Prep for feed - concatenated\n",
    "## Combine the title and text column for one unified record per article -- add space in between so that there is clear delineation\n",
    "df['combo'] = df['title'] + \" \" +  df['text']\n",
    "df['combo'].head(10)"
   ]
  },
  {
   "cell_type": "code",
   "execution_count": 19,
   "id": "combined-bradford",
   "metadata": {},
   "outputs": [],
   "source": [
    "## Create function that defines a langauge for the above\n",
    "def lang_detect(x):\n",
    "    try:\n",
    "        return detect(x)\n",
    "    except:\n",
    "        return '--'"
   ]
  },
  {
   "cell_type": "code",
   "execution_count": 20,
   "id": "exceptional-jacob",
   "metadata": {},
   "outputs": [
    {
     "name": "stdout",
     "output_type": "stream",
     "text": [
      "CPU times: user 29min 33s, sys: 6.97 s, total: 29min 40s\n",
      "Wall time: 35min 17s\n"
     ]
    }
   ],
   "source": [
    "%time df['lang'] = df['combo'].apply(lambda x: lang_detect(x))"
   ]
  },
  {
   "cell_type": "code",
   "execution_count": 21,
   "id": "cognitive-verse",
   "metadata": {},
   "outputs": [
    {
     "data": {
      "text/plain": [
       "(370556, 4)"
      ]
     },
     "execution_count": 21,
     "metadata": {},
     "output_type": "execute_result"
    }
   ],
   "source": [
    "df = df[df['lang']=='en'].reset_index(drop=True)\n",
    "df.shape"
   ]
  },
  {
   "cell_type": "code",
   "execution_count": 22,
   "id": "phantom-holly",
   "metadata": {
    "tags": []
   },
   "outputs": [
    {
     "data": {
      "text/plain": [
       "0    All In Illinois .  Gov. Jay Fatso Pritzker cal...\n",
       "1    The Illinois Department of Public Health Annou...\n",
       "2    Foto Friday: Alton, Illinois Gloria Lawrence s...\n",
       "3    Chris Broussard on Michael Jordan returning to...\n",
       "4    Pork chops vs. people: Can Americans appetite ...\n",
       "5    4 Dead, at Least 17 Injured in Shootings Acros...\n",
       "6    CITY OF LASALLE: Restore Illinois City of Lasa...\n",
       "7    Who Ya Got: 72Win Chicago Bulls or 73Win Golde...\n",
       "8    You know I had to do it :DI love Chicago so fr...\n",
       "9    Developer behind botched Chicago demolition fa...\n",
       "Name: combo, dtype: object"
      ]
     },
     "execution_count": 22,
     "metadata": {},
     "output_type": "execute_result"
    }
   ],
   "source": [
    "## Remove /n characters to avoid problems with analysis\n",
    "df['combo'] = df['combo'].map(lambda x: re.sub(r'\\n', '.  ', str(x)))\n",
    "## Remove special characters to avoid problems with analysis -- utilizing the map function \n",
    "## Should it be a space?\n",
    "df['combo'] = df['combo'].map(lambda x: re.sub('[^a-zA-Z0-9 @ . , : - _]', '', str(x)))\n",
    "df['combo'].head(10)"
   ]
  },
  {
   "cell_type": "code",
   "execution_count": 23,
   "id": "thirty-guest",
   "metadata": {
    "tags": []
   },
   "outputs": [],
   "source": [
    "## Save and set for reload of pandas df so that language detect doesnt need to re-run\n",
    "#df.to_csv('Lang-check.txt', sep=',', header=None, mode='w')"
   ]
  },
  {
   "cell_type": "code",
   "execution_count": 24,
   "id": "mysterious-vietnamese",
   "metadata": {},
   "outputs": [],
   "source": [
    "## Load lang-check.csv as dataframe - no need to run before this line\n",
    "#df = pd.read_csv('Lang-Check.csv')"
   ]
  },
  {
   "cell_type": "code",
   "execution_count": 26,
   "id": "stuck-defense",
   "metadata": {},
   "outputs": [
    {
     "ename": "NameError",
     "evalue": "name 'stop_free' is not defined",
     "output_type": "error",
     "traceback": [
      "\u001b[0;31m---------------------------------------------------------------------------\u001b[0m",
      "\u001b[0;31mNameError\u001b[0m                                 Traceback (most recent call last)",
      "\u001b[0;32m<timed exec>\u001b[0m in \u001b[0;36m<module>\u001b[0;34m\u001b[0m\n",
      "\u001b[0;32m<timed exec>\u001b[0m in \u001b[0;36m<listcomp>\u001b[0;34m(.0)\u001b[0m\n",
      "\u001b[0;32m<ipython-input-26-7a9260afc139>\u001b[0m in \u001b[0;36mclean\u001b[0;34m(doc)\u001b[0m\n\u001b[1;32m     11\u001b[0m \u001b[0;32mdef\u001b[0m \u001b[0mclean\u001b[0m\u001b[0;34m(\u001b[0m\u001b[0mdoc\u001b[0m\u001b[0;34m)\u001b[0m\u001b[0;34m:\u001b[0m\u001b[0;34m\u001b[0m\u001b[0;34m\u001b[0m\u001b[0m\n\u001b[1;32m     12\u001b[0m     \u001b[0;31m#stop_free = \" \".join([i for i in doc.lower().split() if i not in stop])\u001b[0m\u001b[0;34m\u001b[0m\u001b[0;34m\u001b[0m\u001b[0;34m\u001b[0m\u001b[0m\n\u001b[0;32m---> 13\u001b[0;31m     \u001b[0mpunc_free\u001b[0m \u001b[0;34m=\u001b[0m \u001b[0;34m''\u001b[0m\u001b[0;34m.\u001b[0m\u001b[0mjoin\u001b[0m\u001b[0;34m(\u001b[0m\u001b[0mch\u001b[0m \u001b[0;32mfor\u001b[0m \u001b[0mch\u001b[0m \u001b[0;32min\u001b[0m \u001b[0mstop_free\u001b[0m \u001b[0;32mif\u001b[0m \u001b[0mch\u001b[0m \u001b[0;32mnot\u001b[0m \u001b[0;32min\u001b[0m \u001b[0mexclude\u001b[0m\u001b[0;34m)\u001b[0m\u001b[0;34m\u001b[0m\u001b[0;34m\u001b[0m\u001b[0m\n\u001b[0m\u001b[1;32m     14\u001b[0m     \u001b[0mnormalized\u001b[0m \u001b[0;34m=\u001b[0m \u001b[0;34m\" \"\u001b[0m\u001b[0;34m.\u001b[0m\u001b[0mjoin\u001b[0m\u001b[0;34m(\u001b[0m\u001b[0mlemma\u001b[0m\u001b[0;34m.\u001b[0m\u001b[0mlemmatize\u001b[0m\u001b[0;34m(\u001b[0m\u001b[0mword\u001b[0m\u001b[0;34m)\u001b[0m \u001b[0;32mfor\u001b[0m \u001b[0mword\u001b[0m \u001b[0;32min\u001b[0m \u001b[0mpunc_free\u001b[0m\u001b[0;34m.\u001b[0m\u001b[0msplit\u001b[0m\u001b[0;34m(\u001b[0m\u001b[0;34m)\u001b[0m\u001b[0;34m)\u001b[0m\u001b[0;34m\u001b[0m\u001b[0;34m\u001b[0m\u001b[0m\n\u001b[1;32m     15\u001b[0m     \u001b[0;32mreturn\u001b[0m \u001b[0mnormalized\u001b[0m\u001b[0;34m\u001b[0m\u001b[0;34m\u001b[0m\u001b[0m\n",
      "\u001b[0;31mNameError\u001b[0m: name 'stop_free' is not defined"
     ]
    },
    {
     "ename": "NameError",
     "evalue": "name 'stop_free' is not defined",
     "output_type": "error",
     "traceback": [
      "\u001b[0;31m---------------------------------------------------------------------------\u001b[0m",
      "\u001b[0;31mNameError\u001b[0m                                 Traceback (most recent call last)",
      "\u001b[0;32m<timed exec>\u001b[0m in \u001b[0;36m<module>\u001b[0;34m\u001b[0m\n",
      "\u001b[0;32m<timed exec>\u001b[0m in \u001b[0;36m<listcomp>\u001b[0;34m(.0)\u001b[0m\n",
      "\u001b[0;32m<ipython-input-26-7a9260afc139>\u001b[0m in \u001b[0;36mclean\u001b[0;34m(doc)\u001b[0m\n\u001b[1;32m     11\u001b[0m \u001b[0;32mdef\u001b[0m \u001b[0mclean\u001b[0m\u001b[0;34m(\u001b[0m\u001b[0mdoc\u001b[0m\u001b[0;34m)\u001b[0m\u001b[0;34m:\u001b[0m\u001b[0;34m\u001b[0m\u001b[0;34m\u001b[0m\u001b[0m\n\u001b[1;32m     12\u001b[0m     \u001b[0;31m#stop_free = \" \".join([i for i in doc.lower().split() if i not in stop])\u001b[0m\u001b[0;34m\u001b[0m\u001b[0;34m\u001b[0m\u001b[0;34m\u001b[0m\u001b[0m\n\u001b[0;32m---> 13\u001b[0;31m     \u001b[0mpunc_free\u001b[0m \u001b[0;34m=\u001b[0m \u001b[0;34m''\u001b[0m\u001b[0;34m.\u001b[0m\u001b[0mjoin\u001b[0m\u001b[0;34m(\u001b[0m\u001b[0mch\u001b[0m \u001b[0;32mfor\u001b[0m \u001b[0mch\u001b[0m \u001b[0;32min\u001b[0m \u001b[0mstop_free\u001b[0m \u001b[0;32mif\u001b[0m \u001b[0mch\u001b[0m \u001b[0;32mnot\u001b[0m \u001b[0;32min\u001b[0m \u001b[0mexclude\u001b[0m\u001b[0;34m)\u001b[0m\u001b[0;34m\u001b[0m\u001b[0;34m\u001b[0m\u001b[0m\n\u001b[0m\u001b[1;32m     14\u001b[0m     \u001b[0mnormalized\u001b[0m \u001b[0;34m=\u001b[0m \u001b[0;34m\" \"\u001b[0m\u001b[0;34m.\u001b[0m\u001b[0mjoin\u001b[0m\u001b[0;34m(\u001b[0m\u001b[0mlemma\u001b[0m\u001b[0;34m.\u001b[0m\u001b[0mlemmatize\u001b[0m\u001b[0;34m(\u001b[0m\u001b[0mword\u001b[0m\u001b[0;34m)\u001b[0m \u001b[0;32mfor\u001b[0m \u001b[0mword\u001b[0m \u001b[0;32min\u001b[0m \u001b[0mpunc_free\u001b[0m\u001b[0;34m.\u001b[0m\u001b[0msplit\u001b[0m\u001b[0;34m(\u001b[0m\u001b[0;34m)\u001b[0m\u001b[0;34m)\u001b[0m\u001b[0;34m\u001b[0m\u001b[0;34m\u001b[0m\u001b[0m\n\u001b[1;32m     15\u001b[0m     \u001b[0;32mreturn\u001b[0m \u001b[0mnormalized\u001b[0m\u001b[0;34m\u001b[0m\u001b[0;34m\u001b[0m\u001b[0m\n",
      "\u001b[0;31mNameError\u001b[0m: name 'stop_free' is not defined"
     ]
    },
    {
     "data": {
      "text/plain": [
       "0"
      ]
     },
     "execution_count": 26,
     "metadata": {},
     "output_type": "execute_result"
    }
   ],
   "source": [
    "## StopWord Removal\n",
    "doc_clean = []\n",
    "## Establish variables articulating stop words / exclusions for punctuation and a \n",
    "## lemmatizer -- then write a function called doc_clean with results of the \n",
    "## cleaning function\n",
    "\n",
    "#stop = set(stopwords.words('english'))\n",
    "exclude = set(string.punctuation)\n",
    "lemma = WordNetLemmatizer()\n",
    "\n",
    "def clean(doc):\n",
    "    #stop_free = \" \".join([i for i in doc.lower().split() if i not in stop])\n",
    "    punc_free = ''.join(ch for ch in stop_free if ch not in exclude)\n",
    "    normalized = \" \".join(lemma.lemmatize(word) for word in punc_free.split())\n",
    "    return normalized\n",
    "\n",
    "%time doc_clean = [clean(doc).split() for doc in df['combo']]\n",
    "%time df['doc_clean'] = [clean(doc) for doc in df['combo']]\n",
    "len(doc_clean)"
   ]
  },
  {
   "cell_type": "code",
   "execution_count": null,
   "id": "quarterly-genome",
   "metadata": {
    "tags": []
   },
   "outputs": [],
   "source": [
    "## Reduce df to combo and clean set in order to reduce overall size \n",
    "df = df[['combo','doc_clean']]\n",
    "df"
   ]
  },
  {
   "cell_type": "code",
   "execution_count": 27,
   "id": "convinced-education",
   "metadata": {
    "tags": []
   },
   "outputs": [],
   "source": [
    "##Save DF to reload for testing \n",
    "#df.to_csv('doc_clean.csv')"
   ]
  },
  {
   "cell_type": "code",
   "execution_count": 28,
   "id": "peripheral-cleaning",
   "metadata": {},
   "outputs": [],
   "source": [
    "## Import doc_clean csv\n",
    "#df = pd.read_csv('doc_clean.csv')\n",
    "#df.drop([\"Unnamed: 0\"], axis=1)\n",
    "#doc_clean = list(df['doc_clean'])"
   ]
  },
  {
   "cell_type": "code",
   "execution_count": 29,
   "id": "brown-nancy",
   "metadata": {},
   "outputs": [],
   "source": [
    "## Create a doc_clean to mimic earlier functions in order to serve as a load point\n",
    "#combo = []\n",
    "\n",
    "#for i in range(len(df['combo'])):\n",
    "#    A = (df['combo'][i])\n",
    "#    AA = A.split()\n",
    "#    combo.append(AA)"
   ]
  },
  {
   "cell_type": "code",
   "execution_count": 24,
   "id": "urban-tunnel",
   "metadata": {},
   "outputs": [
    {
     "ename": "SyntaxError",
     "evalue": "invalid syntax (<ipython-input-24-0ce748bb5ba7>, line 7)",
     "output_type": "error",
     "traceback": [
      "\u001b[0;36m  File \u001b[0;32m\"<ipython-input-24-0ce748bb5ba7>\"\u001b[0;36m, line \u001b[0;32m7\u001b[0m\n\u001b[0;31m    doc_clean.append(AA)`\u001b[0m\n\u001b[0m                        ^\u001b[0m\n\u001b[0;31mSyntaxError\u001b[0m\u001b[0;31m:\u001b[0m invalid syntax\n"
     ]
    }
   ],
   "source": [
    "## Create a doc_clean to mimic earlier functions in order to serve as a load point\n",
    "doc_clean = []\n",
    "\n",
    "for i in range(len(df['doc_clean'])):\n",
    "    A = (df['doc_clean'][i])\n",
    "    AA = A.split()\n",
    "    doc_clean.append(AA)"
   ]
  },
  {
   "cell_type": "code",
   "execution_count": null,
   "id": "beneficial-calvin",
   "metadata": {},
   "outputs": [],
   "source": [
    "#doc_clean"
   ]
  },
  {
   "cell_type": "markdown",
   "id": "composed-amendment",
   "metadata": {},
   "source": [
    "### Create sub-sample for testing"
   ]
  },
  {
   "cell_type": "code",
   "execution_count": 28,
   "id": "australian-calculator",
   "metadata": {},
   "outputs": [
    {
     "data": {
      "text/html": [
       "<div>\n",
       "<style scoped>\n",
       "    .dataframe tbody tr th:only-of-type {\n",
       "        vertical-align: middle;\n",
       "    }\n",
       "\n",
       "    .dataframe tbody tr th {\n",
       "        vertical-align: top;\n",
       "    }\n",
       "\n",
       "    .dataframe thead th {\n",
       "        text-align: right;\n",
       "    }\n",
       "</style>\n",
       "<table border=\"1\" class=\"dataframe\">\n",
       "  <thead>\n",
       "    <tr style=\"text-align: right;\">\n",
       "      <th></th>\n",
       "      <th>Unnamed: 0</th>\n",
       "      <th>combo</th>\n",
       "      <th>doc_clean</th>\n",
       "    </tr>\n",
       "  </thead>\n",
       "  <tbody>\n",
       "    <tr>\n",
       "      <th>0</th>\n",
       "      <td>0</td>\n",
       "      <td>All In Illinois .  Gov. Jay Fatso Pritzker cal...</td>\n",
       "      <td>illinois gov jay fatso pritzker called illinoi...</td>\n",
       "    </tr>\n",
       "    <tr>\n",
       "      <th>1</th>\n",
       "      <td>1</td>\n",
       "      <td>The Illinois Department of Public Health Annou...</td>\n",
       "      <td>illinois department public health announces 16...</td>\n",
       "    </tr>\n",
       "    <tr>\n",
       "      <th>2</th>\n",
       "      <td>2</td>\n",
       "      <td>Foto Friday: Alton, Illinois Gloria Lawrence s...</td>\n",
       "      <td>foto friday alton illinois gloria lawrence sai...</td>\n",
       "    </tr>\n",
       "    <tr>\n",
       "      <th>3</th>\n",
       "      <td>3</td>\n",
       "      <td>Chris Broussard on Michael Jordan returning to...</td>\n",
       "      <td>chris broussard michael jordan returning chica...</td>\n",
       "    </tr>\n",
       "    <tr>\n",
       "      <th>4</th>\n",
       "      <td>4</td>\n",
       "      <td>Pork chops vs. people: Can Americans appetite ...</td>\n",
       "      <td>pork chop v people american appetite meat fill...</td>\n",
       "    </tr>\n",
       "  </tbody>\n",
       "</table>\n",
       "</div>"
      ],
      "text/plain": [
       "   Unnamed: 0                                              combo  \\\n",
       "0           0  All In Illinois .  Gov. Jay Fatso Pritzker cal...   \n",
       "1           1  The Illinois Department of Public Health Annou...   \n",
       "2           2  Foto Friday: Alton, Illinois Gloria Lawrence s...   \n",
       "3           3  Chris Broussard on Michael Jordan returning to...   \n",
       "4           4  Pork chops vs. people: Can Americans appetite ...   \n",
       "\n",
       "                                           doc_clean  \n",
       "0  illinois gov jay fatso pritzker called illinoi...  \n",
       "1  illinois department public health announces 16...  \n",
       "2  foto friday alton illinois gloria lawrence sai...  \n",
       "3  chris broussard michael jordan returning chica...  \n",
       "4  pork chop v people american appetite meat fill...  "
      ]
     },
     "execution_count": 28,
     "metadata": {},
     "output_type": "execute_result"
    }
   ],
   "source": [
    "df = pd.read_csv('/Users/man/OneDrive - The University of Chicago/Prior_Quarters/2021_Winter/NLP[MSCA_32018]/Final_Project/Archive/doc_clean.csv') \n",
    "df.head()"
   ]
  },
  {
   "cell_type": "code",
   "execution_count": 29,
   "id": "adjustable-worth",
   "metadata": {},
   "outputs": [],
   "source": [
    "## Create a doc_clean to mimic earlier functions in order to serve as a load point\n",
    "doc_clean = []\n",
    "\n",
    "for i in range(len(df['doc_clean'])):\n",
    "    A = (df['doc_clean'][i])\n",
    "    AA = A.split()\n",
    "    doc_clean.append(AA)"
   ]
  },
  {
   "cell_type": "code",
   "execution_count": 30,
   "id": "secondary-exclusive",
   "metadata": {},
   "outputs": [
    {
     "data": {
      "text/plain": [
       "129704"
      ]
     },
     "execution_count": 30,
     "metadata": {},
     "output_type": "execute_result"
    }
   ],
   "source": [
    "## Establish a 35% setup to run through LDA for topic generation\n",
    "## Create variable called random sample to be callable\n",
    "perc = int(len(doc_clean)*0.35)\n",
    "rs1 = random.sample(doc_clean,perc)\n",
    "len(rs1)"
   ]
  },
  {
   "cell_type": "code",
   "execution_count": 32,
   "id": "confidential-sudan",
   "metadata": {},
   "outputs": [],
   "source": [
    "df2 = pd.DataFrame(rs1)"
   ]
  },
  {
   "cell_type": "code",
   "execution_count": 34,
   "id": "limited-consequence",
   "metadata": {},
   "outputs": [
    {
     "ename": "KeyboardInterrupt",
     "evalue": "",
     "output_type": "error",
     "traceback": [
      "\u001b[0;31m---------------------------------------------------------------------------\u001b[0m",
      "\u001b[0;31mKeyboardInterrupt\u001b[0m                         Traceback (most recent call last)",
      "\u001b[0;32m<ipython-input-34-855a40f252c1>\u001b[0m in \u001b[0;36m<module>\u001b[0;34m\u001b[0m\n\u001b[0;32m----> 1\u001b[0;31m \u001b[0mdf2\u001b[0m\u001b[0;34m.\u001b[0m\u001b[0mto_csv\u001b[0m\u001b[0;34m(\u001b[0m\u001b[0;34m'doc_clean.txt'\u001b[0m\u001b[0;34m,\u001b[0m \u001b[0mheader\u001b[0m\u001b[0;34m=\u001b[0m\u001b[0;32mNone\u001b[0m\u001b[0;34m,\u001b[0m \u001b[0mindex\u001b[0m\u001b[0;34m=\u001b[0m\u001b[0;32mNone\u001b[0m\u001b[0;34m,\u001b[0m \u001b[0msep\u001b[0m\u001b[0;34m=\u001b[0m\u001b[0;34m' '\u001b[0m\u001b[0;34m,\u001b[0m \u001b[0mmode\u001b[0m\u001b[0;34m=\u001b[0m\u001b[0;34m'a'\u001b[0m\u001b[0;34m)\u001b[0m\u001b[0;34m\u001b[0m\u001b[0;34m\u001b[0m\u001b[0m\n\u001b[0m",
      "\u001b[0;32m~/Python/MiniForge/envs/python38-Forge/lib/python3.8/site-packages/pandas/core/generic.py\u001b[0m in \u001b[0;36mto_csv\u001b[0;34m(self, path_or_buf, sep, na_rep, float_format, columns, header, index, index_label, mode, encoding, compression, quoting, quotechar, line_terminator, chunksize, date_format, doublequote, escapechar, decimal, errors, storage_options)\u001b[0m\n\u001b[1;32m   3385\u001b[0m         )\n\u001b[1;32m   3386\u001b[0m \u001b[0;34m\u001b[0m\u001b[0m\n\u001b[0;32m-> 3387\u001b[0;31m         return DataFrameRenderer(formatter).to_csv(\n\u001b[0m\u001b[1;32m   3388\u001b[0m             \u001b[0mpath_or_buf\u001b[0m\u001b[0;34m,\u001b[0m\u001b[0;34m\u001b[0m\u001b[0;34m\u001b[0m\u001b[0m\n\u001b[1;32m   3389\u001b[0m             \u001b[0mline_terminator\u001b[0m\u001b[0;34m=\u001b[0m\u001b[0mline_terminator\u001b[0m\u001b[0;34m,\u001b[0m\u001b[0;34m\u001b[0m\u001b[0;34m\u001b[0m\u001b[0m\n",
      "\u001b[0;32m~/Python/MiniForge/envs/python38-Forge/lib/python3.8/site-packages/pandas/io/formats/format.py\u001b[0m in \u001b[0;36mto_csv\u001b[0;34m(self, path_or_buf, encoding, sep, columns, index_label, mode, compression, quoting, quotechar, line_terminator, chunksize, date_format, doublequote, escapechar, errors, storage_options)\u001b[0m\n\u001b[1;32m   1081\u001b[0m             \u001b[0mformatter\u001b[0m\u001b[0;34m=\u001b[0m\u001b[0mself\u001b[0m\u001b[0;34m.\u001b[0m\u001b[0mfmt\u001b[0m\u001b[0;34m,\u001b[0m\u001b[0;34m\u001b[0m\u001b[0;34m\u001b[0m\u001b[0m\n\u001b[1;32m   1082\u001b[0m         )\n\u001b[0;32m-> 1083\u001b[0;31m         \u001b[0mcsv_formatter\u001b[0m\u001b[0;34m.\u001b[0m\u001b[0msave\u001b[0m\u001b[0;34m(\u001b[0m\u001b[0;34m)\u001b[0m\u001b[0;34m\u001b[0m\u001b[0;34m\u001b[0m\u001b[0m\n\u001b[0m\u001b[1;32m   1084\u001b[0m \u001b[0;34m\u001b[0m\u001b[0m\n\u001b[1;32m   1085\u001b[0m         \u001b[0;32mif\u001b[0m \u001b[0mcreated_buffer\u001b[0m\u001b[0;34m:\u001b[0m\u001b[0;34m\u001b[0m\u001b[0;34m\u001b[0m\u001b[0m\n",
      "\u001b[0;32m~/Python/MiniForge/envs/python38-Forge/lib/python3.8/site-packages/pandas/io/formats/csvs.py\u001b[0m in \u001b[0;36msave\u001b[0;34m(self)\u001b[0m\n\u001b[1;32m    246\u001b[0m             )\n\u001b[1;32m    247\u001b[0m \u001b[0;34m\u001b[0m\u001b[0m\n\u001b[0;32m--> 248\u001b[0;31m             \u001b[0mself\u001b[0m\u001b[0;34m.\u001b[0m\u001b[0m_save\u001b[0m\u001b[0;34m(\u001b[0m\u001b[0;34m)\u001b[0m\u001b[0;34m\u001b[0m\u001b[0;34m\u001b[0m\u001b[0m\n\u001b[0m\u001b[1;32m    249\u001b[0m \u001b[0;34m\u001b[0m\u001b[0m\n\u001b[1;32m    250\u001b[0m     \u001b[0;32mdef\u001b[0m \u001b[0m_save\u001b[0m\u001b[0;34m(\u001b[0m\u001b[0mself\u001b[0m\u001b[0;34m)\u001b[0m \u001b[0;34m->\u001b[0m \u001b[0;32mNone\u001b[0m\u001b[0;34m:\u001b[0m\u001b[0;34m\u001b[0m\u001b[0;34m\u001b[0m\u001b[0m\n",
      "\u001b[0;32m~/Python/MiniForge/envs/python38-Forge/lib/python3.8/site-packages/pandas/io/formats/csvs.py\u001b[0m in \u001b[0;36m_save\u001b[0;34m(self)\u001b[0m\n\u001b[1;32m    251\u001b[0m         \u001b[0;32mif\u001b[0m \u001b[0mself\u001b[0m\u001b[0;34m.\u001b[0m\u001b[0m_need_to_save_header\u001b[0m\u001b[0;34m:\u001b[0m\u001b[0;34m\u001b[0m\u001b[0;34m\u001b[0m\u001b[0m\n\u001b[1;32m    252\u001b[0m             \u001b[0mself\u001b[0m\u001b[0;34m.\u001b[0m\u001b[0m_save_header\u001b[0m\u001b[0;34m(\u001b[0m\u001b[0;34m)\u001b[0m\u001b[0;34m\u001b[0m\u001b[0;34m\u001b[0m\u001b[0m\n\u001b[0;32m--> 253\u001b[0;31m         \u001b[0mself\u001b[0m\u001b[0;34m.\u001b[0m\u001b[0m_save_body\u001b[0m\u001b[0;34m(\u001b[0m\u001b[0;34m)\u001b[0m\u001b[0;34m\u001b[0m\u001b[0;34m\u001b[0m\u001b[0m\n\u001b[0m\u001b[1;32m    254\u001b[0m \u001b[0;34m\u001b[0m\u001b[0m\n\u001b[1;32m    255\u001b[0m     \u001b[0;32mdef\u001b[0m \u001b[0m_save_header\u001b[0m\u001b[0;34m(\u001b[0m\u001b[0mself\u001b[0m\u001b[0;34m)\u001b[0m \u001b[0;34m->\u001b[0m \u001b[0;32mNone\u001b[0m\u001b[0;34m:\u001b[0m\u001b[0;34m\u001b[0m\u001b[0;34m\u001b[0m\u001b[0m\n",
      "\u001b[0;32m~/Python/MiniForge/envs/python38-Forge/lib/python3.8/site-packages/pandas/io/formats/csvs.py\u001b[0m in \u001b[0;36m_save_body\u001b[0;34m(self)\u001b[0m\n\u001b[1;32m    289\u001b[0m             \u001b[0;32mif\u001b[0m \u001b[0mstart_i\u001b[0m \u001b[0;34m>=\u001b[0m \u001b[0mend_i\u001b[0m\u001b[0;34m:\u001b[0m\u001b[0;34m\u001b[0m\u001b[0;34m\u001b[0m\u001b[0m\n\u001b[1;32m    290\u001b[0m                 \u001b[0;32mbreak\u001b[0m\u001b[0;34m\u001b[0m\u001b[0;34m\u001b[0m\u001b[0m\n\u001b[0;32m--> 291\u001b[0;31m             \u001b[0mself\u001b[0m\u001b[0;34m.\u001b[0m\u001b[0m_save_chunk\u001b[0m\u001b[0;34m(\u001b[0m\u001b[0mstart_i\u001b[0m\u001b[0;34m,\u001b[0m \u001b[0mend_i\u001b[0m\u001b[0;34m)\u001b[0m\u001b[0;34m\u001b[0m\u001b[0;34m\u001b[0m\u001b[0m\n\u001b[0m\u001b[1;32m    292\u001b[0m \u001b[0;34m\u001b[0m\u001b[0m\n\u001b[1;32m    293\u001b[0m     \u001b[0;32mdef\u001b[0m \u001b[0m_save_chunk\u001b[0m\u001b[0;34m(\u001b[0m\u001b[0mself\u001b[0m\u001b[0;34m,\u001b[0m \u001b[0mstart_i\u001b[0m\u001b[0;34m:\u001b[0m \u001b[0mint\u001b[0m\u001b[0;34m,\u001b[0m \u001b[0mend_i\u001b[0m\u001b[0;34m:\u001b[0m \u001b[0mint\u001b[0m\u001b[0;34m)\u001b[0m \u001b[0;34m->\u001b[0m \u001b[0;32mNone\u001b[0m\u001b[0;34m:\u001b[0m\u001b[0;34m\u001b[0m\u001b[0;34m\u001b[0m\u001b[0m\n",
      "\u001b[0;32m~/Python/MiniForge/envs/python38-Forge/lib/python3.8/site-packages/pandas/io/formats/csvs.py\u001b[0m in \u001b[0;36m_save_chunk\u001b[0;34m(self, start_i, end_i)\u001b[0m\n\u001b[1;32m    297\u001b[0m \u001b[0;34m\u001b[0m\u001b[0m\n\u001b[1;32m    298\u001b[0m         \u001b[0mres\u001b[0m \u001b[0;34m=\u001b[0m \u001b[0mdf\u001b[0m\u001b[0;34m.\u001b[0m\u001b[0m_mgr\u001b[0m\u001b[0;34m.\u001b[0m\u001b[0mto_native_types\u001b[0m\u001b[0;34m(\u001b[0m\u001b[0;34m**\u001b[0m\u001b[0mself\u001b[0m\u001b[0;34m.\u001b[0m\u001b[0m_number_format\u001b[0m\u001b[0;34m)\u001b[0m\u001b[0;34m\u001b[0m\u001b[0;34m\u001b[0m\u001b[0m\n\u001b[0;32m--> 299\u001b[0;31m         \u001b[0mdata\u001b[0m \u001b[0;34m=\u001b[0m \u001b[0;34m[\u001b[0m\u001b[0mres\u001b[0m\u001b[0;34m.\u001b[0m\u001b[0miget_values\u001b[0m\u001b[0;34m(\u001b[0m\u001b[0mi\u001b[0m\u001b[0;34m)\u001b[0m \u001b[0;32mfor\u001b[0m \u001b[0mi\u001b[0m \u001b[0;32min\u001b[0m \u001b[0mrange\u001b[0m\u001b[0;34m(\u001b[0m\u001b[0mlen\u001b[0m\u001b[0;34m(\u001b[0m\u001b[0mres\u001b[0m\u001b[0;34m.\u001b[0m\u001b[0mitems\u001b[0m\u001b[0;34m)\u001b[0m\u001b[0;34m)\u001b[0m\u001b[0;34m]\u001b[0m\u001b[0;34m\u001b[0m\u001b[0;34m\u001b[0m\u001b[0m\n\u001b[0m\u001b[1;32m    300\u001b[0m \u001b[0;34m\u001b[0m\u001b[0m\n\u001b[1;32m    301\u001b[0m         \u001b[0mix\u001b[0m \u001b[0;34m=\u001b[0m \u001b[0mself\u001b[0m\u001b[0;34m.\u001b[0m\u001b[0mdata_index\u001b[0m\u001b[0;34m[\u001b[0m\u001b[0mslicer\u001b[0m\u001b[0;34m]\u001b[0m\u001b[0;34m.\u001b[0m\u001b[0m_format_native_types\u001b[0m\u001b[0;34m(\u001b[0m\u001b[0;34m**\u001b[0m\u001b[0mself\u001b[0m\u001b[0;34m.\u001b[0m\u001b[0m_number_format\u001b[0m\u001b[0;34m)\u001b[0m\u001b[0;34m\u001b[0m\u001b[0;34m\u001b[0m\u001b[0m\n",
      "\u001b[0;32m~/Python/MiniForge/envs/python38-Forge/lib/python3.8/site-packages/pandas/io/formats/csvs.py\u001b[0m in \u001b[0;36m<listcomp>\u001b[0;34m(.0)\u001b[0m\n\u001b[1;32m    297\u001b[0m \u001b[0;34m\u001b[0m\u001b[0m\n\u001b[1;32m    298\u001b[0m         \u001b[0mres\u001b[0m \u001b[0;34m=\u001b[0m \u001b[0mdf\u001b[0m\u001b[0;34m.\u001b[0m\u001b[0m_mgr\u001b[0m\u001b[0;34m.\u001b[0m\u001b[0mto_native_types\u001b[0m\u001b[0;34m(\u001b[0m\u001b[0;34m**\u001b[0m\u001b[0mself\u001b[0m\u001b[0;34m.\u001b[0m\u001b[0m_number_format\u001b[0m\u001b[0;34m)\u001b[0m\u001b[0;34m\u001b[0m\u001b[0;34m\u001b[0m\u001b[0m\n\u001b[0;32m--> 299\u001b[0;31m         \u001b[0mdata\u001b[0m \u001b[0;34m=\u001b[0m \u001b[0;34m[\u001b[0m\u001b[0mres\u001b[0m\u001b[0;34m.\u001b[0m\u001b[0miget_values\u001b[0m\u001b[0;34m(\u001b[0m\u001b[0mi\u001b[0m\u001b[0;34m)\u001b[0m \u001b[0;32mfor\u001b[0m \u001b[0mi\u001b[0m \u001b[0;32min\u001b[0m \u001b[0mrange\u001b[0m\u001b[0;34m(\u001b[0m\u001b[0mlen\u001b[0m\u001b[0;34m(\u001b[0m\u001b[0mres\u001b[0m\u001b[0;34m.\u001b[0m\u001b[0mitems\u001b[0m\u001b[0;34m)\u001b[0m\u001b[0;34m)\u001b[0m\u001b[0;34m]\u001b[0m\u001b[0;34m\u001b[0m\u001b[0;34m\u001b[0m\u001b[0m\n\u001b[0m\u001b[1;32m    300\u001b[0m \u001b[0;34m\u001b[0m\u001b[0m\n\u001b[1;32m    301\u001b[0m         \u001b[0mix\u001b[0m \u001b[0;34m=\u001b[0m \u001b[0mself\u001b[0m\u001b[0;34m.\u001b[0m\u001b[0mdata_index\u001b[0m\u001b[0;34m[\u001b[0m\u001b[0mslicer\u001b[0m\u001b[0;34m]\u001b[0m\u001b[0;34m.\u001b[0m\u001b[0m_format_native_types\u001b[0m\u001b[0;34m(\u001b[0m\u001b[0;34m**\u001b[0m\u001b[0mself\u001b[0m\u001b[0;34m.\u001b[0m\u001b[0m_number_format\u001b[0m\u001b[0;34m)\u001b[0m\u001b[0;34m\u001b[0m\u001b[0;34m\u001b[0m\u001b[0m\n",
      "\u001b[0;31mKeyboardInterrupt\u001b[0m: "
     ]
    }
   ],
   "source": [
    "df2.to_csv('doc_clean.txt', header=None, index=None, sep=' ', mode='a')"
   ]
  },
  {
   "cell_type": "code",
   "execution_count": 35,
   "id": "desperate-feeding",
   "metadata": {},
   "outputs": [],
   "source": [
    "df2min = df2.sample(frac=0.1, replace = True)"
   ]
  },
  {
   "cell_type": "code",
   "execution_count": 36,
   "id": "incomplete-reality",
   "metadata": {},
   "outputs": [],
   "source": [
    "df2min.to_csv('doc_clean-min.txt', header=None, index=None, sep=' ', mode='a')"
   ]
  },
  {
   "cell_type": "markdown",
   "id": "cosmetic-class",
   "metadata": {},
   "source": [
    "### Summa"
   ]
  },
  {
   "cell_type": "code",
   "execution_count": 102,
   "id": "solid-nursing",
   "metadata": {},
   "outputs": [
    {
     "ename": "KeyboardInterrupt",
     "evalue": "",
     "output_type": "error",
     "traceback": [
      "\u001b[0;31m--------------------------------------------------------------------------\u001b[0m",
      "\u001b[0;31mKeyboardInterrupt\u001b[0m                        Traceback (most recent call last)",
      "\u001b[0;32m<ipython-input-102-04f43a200e4f>\u001b[0m in \u001b[0;36m<module>\u001b[0;34m\u001b[0m\n\u001b[1;32m      4\u001b[0m \u001b[0;34m\u001b[0m\u001b[0m\n\u001b[1;32m      5\u001b[0m \u001b[0;32mfor\u001b[0m \u001b[0mi\u001b[0m \u001b[0;32min\u001b[0m \u001b[0mrange\u001b[0m\u001b[0;34m(\u001b[0m\u001b[0mlen\u001b[0m\u001b[0;34m(\u001b[0m\u001b[0mdoc_clean\u001b[0m\u001b[0;34m)\u001b[0m\u001b[0;34m)\u001b[0m\u001b[0;34m:\u001b[0m\u001b[0;34m\u001b[0m\u001b[0;34m\u001b[0m\u001b[0m\n\u001b[0;32m----> 6\u001b[0;31m             \u001b[0marticle2\u001b[0m \u001b[0;34m=\u001b[0m \u001b[0msumma\u001b[0m\u001b[0;34m.\u001b[0m\u001b[0msummarizer\u001b[0m\u001b[0;34m.\u001b[0m\u001b[0msummarize\u001b[0m\u001b[0;34m(\u001b[0m\u001b[0mstr\u001b[0m\u001b[0;34m(\u001b[0m\u001b[0mdoc_clean\u001b[0m\u001b[0;34m)\u001b[0m\u001b[0;34m)\u001b[0m\u001b[0;34m\u001b[0m\u001b[0;34m\u001b[0m\u001b[0m\n\u001b[0m\u001b[1;32m      7\u001b[0m             \u001b[0marticle_sum\u001b[0m\u001b[0;34m.\u001b[0m\u001b[0mappend\u001b[0m\u001b[0;34m(\u001b[0m\u001b[0marticle2\u001b[0m\u001b[0;34m)\u001b[0m\u001b[0;34m\u001b[0m\u001b[0;34m\u001b[0m\u001b[0m\n\u001b[1;32m      8\u001b[0m \u001b[0;34m\u001b[0m\u001b[0m\n",
      "\u001b[0;32m~/Python/MiniForge/envs/python38-Forge/lib/python3.8/site-packages/summa/summarizer.py\u001b[0m in \u001b[0;36msummarize\u001b[0;34m(text, ratio, words, language, split, scores, additional_stopwords)\u001b[0m\n\u001b[1;32m    115\u001b[0m \u001b[0;34m\u001b[0m\u001b[0m\n\u001b[1;32m    116\u001b[0m     \u001b[0;31m# Gets a list of processed sentences.\u001b[0m\u001b[0;34m\u001b[0m\u001b[0;34m\u001b[0m\u001b[0;34m\u001b[0m\u001b[0m\n\u001b[0;32m--> 117\u001b[0;31m     \u001b[0msentences\u001b[0m \u001b[0;34m=\u001b[0m \u001b[0m_clean_text_by_sentences\u001b[0m\u001b[0;34m(\u001b[0m\u001b[0mtext\u001b[0m\u001b[0;34m,\u001b[0m \u001b[0mlanguage\u001b[0m\u001b[0;34m,\u001b[0m \u001b[0madditional_stopwords\u001b[0m\u001b[0;34m)\u001b[0m\u001b[0;34m\u001b[0m\u001b[0;34m\u001b[0m\u001b[0m\n\u001b[0m\u001b[1;32m    118\u001b[0m \u001b[0;34m\u001b[0m\u001b[0m\n\u001b[1;32m    119\u001b[0m     \u001b[0;31m# Creates the graph and calculates the similarity coefficient for every pair of nodes.\u001b[0m\u001b[0;34m\u001b[0m\u001b[0;34m\u001b[0m\u001b[0;34m\u001b[0m\u001b[0m\n",
      "\u001b[0;32m~/Python/MiniForge/envs/python38-Forge/lib/python3.8/site-packages/summa/preprocessing/textcleaner.py\u001b[0m in \u001b[0;36mclean_text_by_sentences\u001b[0;34m(text, language, additional_stopwords)\u001b[0m\n\u001b[1;32m    164\u001b[0m     \u001b[0minit_textcleanner\u001b[0m\u001b[0;34m(\u001b[0m\u001b[0mlanguage\u001b[0m\u001b[0;34m,\u001b[0m \u001b[0madditional_stopwords\u001b[0m\u001b[0;34m)\u001b[0m\u001b[0;34m\u001b[0m\u001b[0;34m\u001b[0m\u001b[0m\n\u001b[1;32m    165\u001b[0m     \u001b[0moriginal_sentences\u001b[0m \u001b[0;34m=\u001b[0m \u001b[0msplit_sentences\u001b[0m\u001b[0;34m(\u001b[0m\u001b[0mtext\u001b[0m\u001b[0;34m)\u001b[0m\u001b[0;34m\u001b[0m\u001b[0;34m\u001b[0m\u001b[0m\n\u001b[0;32m--> 166\u001b[0;31m     \u001b[0mfiltered_sentences\u001b[0m \u001b[0;34m=\u001b[0m \u001b[0mfilter_words\u001b[0m\u001b[0;34m(\u001b[0m\u001b[0moriginal_sentences\u001b[0m\u001b[0;34m)\u001b[0m\u001b[0;34m\u001b[0m\u001b[0;34m\u001b[0m\u001b[0m\n\u001b[0m\u001b[1;32m    167\u001b[0m \u001b[0;34m\u001b[0m\u001b[0m\n\u001b[1;32m    168\u001b[0m     \u001b[0;32mreturn\u001b[0m \u001b[0mmerge_syntactic_units\u001b[0m\u001b[0;34m(\u001b[0m\u001b[0moriginal_sentences\u001b[0m\u001b[0;34m,\u001b[0m \u001b[0mfiltered_sentences\u001b[0m\u001b[0;34m)\u001b[0m\u001b[0;34m\u001b[0m\u001b[0;34m\u001b[0m\u001b[0m\n",
      "\u001b[0;32m~/Python/MiniForge/envs/python38-Forge/lib/python3.8/site-packages/summa/preprocessing/textcleaner.py\u001b[0m in \u001b[0;36mfilter_words\u001b[0;34m(sentences)\u001b[0m\n\u001b[1;32m    114\u001b[0m                stem_sentence]\n\u001b[1;32m    115\u001b[0m     \u001b[0mapply_filters_to_token\u001b[0m \u001b[0;34m=\u001b[0m \u001b[0;32mlambda\u001b[0m \u001b[0mtoken\u001b[0m\u001b[0;34m:\u001b[0m \u001b[0mapply_filters\u001b[0m\u001b[0;34m(\u001b[0m\u001b[0mtoken\u001b[0m\u001b[0;34m,\u001b[0m \u001b[0mfilters\u001b[0m\u001b[0;34m)\u001b[0m\u001b[0;34m\u001b[0m\u001b[0;34m\u001b[0m\u001b[0m\n\u001b[0;32m--> 116\u001b[0;31m     \u001b[0;32mreturn\u001b[0m \u001b[0mlist\u001b[0m\u001b[0;34m(\u001b[0m\u001b[0mmap\u001b[0m\u001b[0;34m(\u001b[0m\u001b[0mapply_filters_to_token\u001b[0m\u001b[0;34m,\u001b[0m \u001b[0msentences\u001b[0m\u001b[0;34m)\u001b[0m\u001b[0;34m)\u001b[0m\u001b[0;34m\u001b[0m\u001b[0;34m\u001b[0m\u001b[0m\n\u001b[0m\u001b[1;32m    117\u001b[0m \u001b[0;34m\u001b[0m\u001b[0m\n\u001b[1;32m    118\u001b[0m \u001b[0;34m\u001b[0m\u001b[0m\n",
      "\u001b[0;32m~/Python/MiniForge/envs/python38-Forge/lib/python3.8/site-packages/summa/preprocessing/textcleaner.py\u001b[0m in \u001b[0;36m<lambda>\u001b[0;34m(token)\u001b[0m\n\u001b[1;32m    113\u001b[0m     filters = [lambda x: x.lower(), strip_numeric, strip_punctuation, remove_stopwords,\n\u001b[1;32m    114\u001b[0m                stem_sentence]\n\u001b[0;32m--> 115\u001b[0;31m     \u001b[0mapply_filters_to_token\u001b[0m \u001b[0;34m=\u001b[0m \u001b[0;32mlambda\u001b[0m \u001b[0mtoken\u001b[0m\u001b[0;34m:\u001b[0m \u001b[0mapply_filters\u001b[0m\u001b[0;34m(\u001b[0m\u001b[0mtoken\u001b[0m\u001b[0;34m,\u001b[0m \u001b[0mfilters\u001b[0m\u001b[0;34m)\u001b[0m\u001b[0;34m\u001b[0m\u001b[0;34m\u001b[0m\u001b[0m\n\u001b[0m\u001b[1;32m    116\u001b[0m     \u001b[0;32mreturn\u001b[0m \u001b[0mlist\u001b[0m\u001b[0;34m(\u001b[0m\u001b[0mmap\u001b[0m\u001b[0;34m(\u001b[0m\u001b[0mapply_filters_to_token\u001b[0m\u001b[0;34m,\u001b[0m \u001b[0msentences\u001b[0m\u001b[0;34m)\u001b[0m\u001b[0;34m)\u001b[0m\u001b[0;34m\u001b[0m\u001b[0;34m\u001b[0m\u001b[0m\n\u001b[1;32m    117\u001b[0m \u001b[0;34m\u001b[0m\u001b[0m\n",
      "\u001b[0;32m~/Python/MiniForge/envs/python38-Forge/lib/python3.8/site-packages/summa/preprocessing/textcleaner.py\u001b[0m in \u001b[0;36mapply_filters\u001b[0;34m(sentence, filters)\u001b[0m\n\u001b[1;32m    106\u001b[0m \u001b[0;32mdef\u001b[0m \u001b[0mapply_filters\u001b[0m\u001b[0;34m(\u001b[0m\u001b[0msentence\u001b[0m\u001b[0;34m,\u001b[0m \u001b[0mfilters\u001b[0m\u001b[0;34m)\u001b[0m\u001b[0;34m:\u001b[0m\u001b[0;34m\u001b[0m\u001b[0;34m\u001b[0m\u001b[0m\n\u001b[1;32m    107\u001b[0m     \u001b[0;32mfor\u001b[0m \u001b[0mf\u001b[0m \u001b[0;32min\u001b[0m \u001b[0mfilters\u001b[0m\u001b[0;34m:\u001b[0m\u001b[0;34m\u001b[0m\u001b[0;34m\u001b[0m\u001b[0m\n\u001b[0;32m--> 108\u001b[0;31m         \u001b[0msentence\u001b[0m \u001b[0;34m=\u001b[0m \u001b[0mf\u001b[0m\u001b[0;34m(\u001b[0m\u001b[0msentence\u001b[0m\u001b[0;34m)\u001b[0m\u001b[0;34m\u001b[0m\u001b[0;34m\u001b[0m\u001b[0m\n\u001b[0m\u001b[1;32m    109\u001b[0m     \u001b[0;32mreturn\u001b[0m \u001b[0msentence\u001b[0m\u001b[0;34m\u001b[0m\u001b[0;34m\u001b[0m\u001b[0m\n\u001b[1;32m    110\u001b[0m \u001b[0;34m\u001b[0m\u001b[0m\n",
      "\u001b[0;32m~/Python/MiniForge/envs/python38-Forge/lib/python3.8/site-packages/summa/preprocessing/textcleaner.py\u001b[0m in \u001b[0;36mstem_sentence\u001b[0;34m(sentence)\u001b[0m\n\u001b[1;32m    100\u001b[0m \u001b[0;34m\u001b[0m\u001b[0m\n\u001b[1;32m    101\u001b[0m \u001b[0;32mdef\u001b[0m \u001b[0mstem_sentence\u001b[0m\u001b[0;34m(\u001b[0m\u001b[0msentence\u001b[0m\u001b[0;34m)\u001b[0m\u001b[0;34m:\u001b[0m\u001b[0;34m\u001b[0m\u001b[0;34m\u001b[0m\u001b[0m\n\u001b[0;32m--> 102\u001b[0;31m     \u001b[0mword_stems\u001b[0m \u001b[0;34m=\u001b[0m \u001b[0;34m[\u001b[0m\u001b[0mSTEMMER\u001b[0m\u001b[0;34m.\u001b[0m\u001b[0mstem\u001b[0m\u001b[0;34m(\u001b[0m\u001b[0mword\u001b[0m\u001b[0;34m)\u001b[0m \u001b[0;32mfor\u001b[0m \u001b[0mword\u001b[0m \u001b[0;32min\u001b[0m \u001b[0msentence\u001b[0m\u001b[0;34m.\u001b[0m\u001b[0msplit\u001b[0m\u001b[0;34m(\u001b[0m\u001b[0;34m)\u001b[0m\u001b[0;34m]\u001b[0m\u001b[0;34m\u001b[0m\u001b[0;34m\u001b[0m\u001b[0m\n\u001b[0m\u001b[1;32m    103\u001b[0m     \u001b[0;32mreturn\u001b[0m \u001b[0;34m\" \"\u001b[0m\u001b[0;34m.\u001b[0m\u001b[0mjoin\u001b[0m\u001b[0;34m(\u001b[0m\u001b[0mword_stems\u001b[0m\u001b[0;34m)\u001b[0m\u001b[0;34m\u001b[0m\u001b[0;34m\u001b[0m\u001b[0m\n\u001b[1;32m    104\u001b[0m \u001b[0;34m\u001b[0m\u001b[0m\n",
      "\u001b[0;32m~/Python/MiniForge/envs/python38-Forge/lib/python3.8/site-packages/summa/preprocessing/textcleaner.py\u001b[0m in \u001b[0;36m<listcomp>\u001b[0;34m(.0)\u001b[0m\n\u001b[1;32m    100\u001b[0m \u001b[0;34m\u001b[0m\u001b[0m\n\u001b[1;32m    101\u001b[0m \u001b[0;32mdef\u001b[0m \u001b[0mstem_sentence\u001b[0m\u001b[0;34m(\u001b[0m\u001b[0msentence\u001b[0m\u001b[0;34m)\u001b[0m\u001b[0;34m:\u001b[0m\u001b[0;34m\u001b[0m\u001b[0;34m\u001b[0m\u001b[0m\n\u001b[0;32m--> 102\u001b[0;31m     \u001b[0mword_stems\u001b[0m \u001b[0;34m=\u001b[0m \u001b[0;34m[\u001b[0m\u001b[0mSTEMMER\u001b[0m\u001b[0;34m.\u001b[0m\u001b[0mstem\u001b[0m\u001b[0;34m(\u001b[0m\u001b[0mword\u001b[0m\u001b[0;34m)\u001b[0m \u001b[0;32mfor\u001b[0m \u001b[0mword\u001b[0m \u001b[0;32min\u001b[0m \u001b[0msentence\u001b[0m\u001b[0;34m.\u001b[0m\u001b[0msplit\u001b[0m\u001b[0;34m(\u001b[0m\u001b[0;34m)\u001b[0m\u001b[0;34m]\u001b[0m\u001b[0;34m\u001b[0m\u001b[0;34m\u001b[0m\u001b[0m\n\u001b[0m\u001b[1;32m    103\u001b[0m     \u001b[0;32mreturn\u001b[0m \u001b[0;34m\" \"\u001b[0m\u001b[0;34m.\u001b[0m\u001b[0mjoin\u001b[0m\u001b[0;34m(\u001b[0m\u001b[0mword_stems\u001b[0m\u001b[0;34m)\u001b[0m\u001b[0;34m\u001b[0m\u001b[0;34m\u001b[0m\u001b[0m\n\u001b[1;32m    104\u001b[0m \u001b[0;34m\u001b[0m\u001b[0m\n",
      "\u001b[0;32m~/Python/MiniForge/envs/python38-Forge/lib/python3.8/site-packages/summa/preprocessing/snowball.py\u001b[0m in \u001b[0;36mstem\u001b[0;34m(self, word)\u001b[0m\n\u001b[1;32m   1001\u001b[0m         \u001b[0;31m# STEP 4\u001b[0m\u001b[0;34m\u001b[0m\u001b[0;34m\u001b[0m\u001b[0;34m\u001b[0m\u001b[0m\n\u001b[1;32m   1002\u001b[0m         \u001b[0;32mfor\u001b[0m \u001b[0msuffix\u001b[0m \u001b[0;32min\u001b[0m \u001b[0mself\u001b[0m\u001b[0;34m.\u001b[0m\u001b[0m__step4_suffixes\u001b[0m\u001b[0;34m:\u001b[0m\u001b[0;34m\u001b[0m\u001b[0;34m\u001b[0m\u001b[0m\n\u001b[0;32m-> 1003\u001b[0;31m             \u001b[0;32mif\u001b[0m \u001b[0mword\u001b[0m\u001b[0;34m.\u001b[0m\u001b[0mendswith\u001b[0m\u001b[0;34m(\u001b[0m\u001b[0msuffix\u001b[0m\u001b[0;34m)\u001b[0m\u001b[0;34m:\u001b[0m\u001b[0;34m\u001b[0m\u001b[0;34m\u001b[0m\u001b[0m\n\u001b[0m\u001b[1;32m   1004\u001b[0m                 \u001b[0;32mif\u001b[0m \u001b[0mr2\u001b[0m\u001b[0;34m.\u001b[0m\u001b[0mendswith\u001b[0m\u001b[0;34m(\u001b[0m\u001b[0msuffix\u001b[0m\u001b[0;34m)\u001b[0m\u001b[0;34m:\u001b[0m\u001b[0;34m\u001b[0m\u001b[0;34m\u001b[0m\u001b[0m\n\u001b[1;32m   1005\u001b[0m                     \u001b[0;32mif\u001b[0m \u001b[0msuffix\u001b[0m \u001b[0;34m==\u001b[0m \u001b[0;34m\"ion\"\u001b[0m\u001b[0;34m:\u001b[0m\u001b[0;34m\u001b[0m\u001b[0;34m\u001b[0m\u001b[0m\n",
      "\u001b[0;31mKeyboardInterrupt\u001b[0m: "
     ]
    }
   ],
   "source": [
    "## Write loop for summarizer to subset and run through / iterate and store in a dictionary or list\n",
    "## Possible loop for entity isolation\n",
    "article_sum = []\n",
    "\n",
    "for i in range(len(doc_clean)):\n",
    "            article2 = summa.summarizer.summarize(str(doc_clean))\n",
    "            article_sum.append(article2)\n",
    "\n",
    "#df_summa = pd.DataFrame({'Entities':entities,'Labels':labels,'Position':position})"
   ]
  },
  {
   "cell_type": "code",
   "execution_count": null,
   "id": "hispanic-parallel",
   "metadata": {},
   "outputs": [],
   "source": [
    "len(article_sum)"
   ]
  },
  {
   "cell_type": "code",
   "execution_count": 99,
   "id": "hindu-productivity",
   "metadata": {},
   "outputs": [
    {
     "data": {
      "text/plain": [
       "'first horizon advisor inc sell 1917 share illinois tool work inc nyseitw first horizon advisor inc trimmed holding illinois tool work inc nyseitw 67 1st quarter according company recent filing security exchange commission sec institutional investor owned 26827 share industrial product company stock selling 1917 share quarter first horizon advisor inc holding illinois tool work worth 3811000 recent filing security exchange commission sec several institutional investor also modified holding itw cfm wealth partner llc bought new position share illinois tool work 4th quarter worth 25000 stonebridge financial planning group llc bought new stake illinois tool work 4th quarter valued 27000 allred capital management llc bought new stake illinois tool work 4th quarter valued 49000 savior llc bought new stake illinois tool work 4th quarter valued 50000 finally golden state wealth management llc bought new stake illinois tool work 1st quarter valued 51000 institutional investor 8037 company stock get illinois tool work alert news director richard h lenny purchased 1575 share stock transaction wednesday may 6th share acquired average price 15919 per share total value 25072425 acquisition disclosed legal filing security exchange commission available link also ceo ernest scott santi bought 6300 share stock transaction dated wednesday may 6th stock bought average cost 15842 per share total transaction 99804600 following acquisition chief executive officer directly owns 141994 share company stock valued approximately 2249468948 disclosure purchase found 079 stock owned insider share itw traded 406 friday reaching 16101 company stock trading volume 825015 share compared average volume 1434932 company debttoequity ratio 337 current ratio 271 quick ratio 236 stock market capitalization 5112 billion pe ratio 2088 peg ratio 389 beta 116 stock 50 day simple moving average 15049 twohundred day simple moving average 16910 illinois tool work inc 12month low 11594 12month high 19085 illinois tool work nyseitw last posted quarterly earnings data tuesday may 5th industrial product company reported 177 earnings per share eps quarter topping analyst consensus estimate 171 006 illinois tool work net margin 1806 return equity 8733 company revenue 323 billion quarter compared consensus estimate 329 billion quarter last year firm posted 181 earnings per share firm revenue 91 compared quarter last year analyst expect illinois tool work inc post 546 earnings per share current year company also recently declared quarterly dividend paid wednesday july 15th shareholder record tuesday june 30th issued dividend 107 per share represents 428 annualized dividend yield 266 illinois tool works dividend payout ratio currently 5523 number analyst weighed itw share cfra raised price objective share illinois tool work 14600 15700 gave company sell rating research note friday january 31st ubs group raised price objective share illinois tool work 16800 17600 gave company neutral rating research note thursday january 16th deutsche bank upgraded share illinois tool work sell rating hold rating raised price objective company 12400 14800 research note tuesday may 5th zacks investment research lowered share illinois tool work hold rating sell rating set 16700 price target company research note thursday finally morgan stanley lifted price target share illinois tool work 14800 16500 gave stock overweight rating research note thursday three analyst rated stock sell rating twelve assigned hold rating three issued buy rating stock company presently average rating hold average target price 15782 illinois tool work profile illinois tool work inc manufacture sell industrial product equipment worldwide operates seven segment automotive oem food equipment test measurement electronics welding polymer fluid construction product specialty product automotive oem segment offer plastic metal component fastener assembly automobile light truck industrial us featured article cac 40 index want see hedge fund holding itw visit holdingschannelcom get latest 13f filing insider trade illinois tool work inc nyseitw receive news rating illinois tool work daily enter email address receive concise daily summary latest news analyst rating illinois tool work related company marketbeatcoms free daily email newsletter'"
      ]
     },
     "execution_count": 99,
     "metadata": {},
     "output_type": "execute_result"
    }
   ],
   "source": [
    "df['doc_clean'][250]"
   ]
  },
  {
   "cell_type": "code",
   "execution_count": null,
   "id": "familiar-domestic",
   "metadata": {},
   "outputs": [],
   "source": [
    "article_sum[250]"
   ]
  },
  {
   "cell_type": "markdown",
   "id": "royal-swaziland",
   "metadata": {},
   "source": [
    "### Topic Modeling | LDA (latent dirichlet allocation)"
   ]
  },
  {
   "cell_type": "code",
   "execution_count": null,
   "id": "fifty-finish",
   "metadata": {},
   "outputs": [],
   "source": [
    "df = pd.read_csv()"
   ]
  },
  {
   "cell_type": "code",
   "execution_count": null,
   "id": "abstract-cheat",
   "metadata": {},
   "outputs": [],
   "source": [
    "## Create a doc_clean to mimic earlier functions in order to serve as a load point\n",
    "doc_clean = []\n",
    "\n",
    "for i in range(len(df['doc_clean'])):\n",
    "    A = (df['doc_clean'][i])\n",
    "    AA = A.split()\n",
    "    doc_clean.append(AA)"
   ]
  },
  {
   "cell_type": "code",
   "execution_count": null,
   "id": "studied-format",
   "metadata": {},
   "outputs": [],
   "source": []
  },
  {
   "cell_type": "code",
   "execution_count": 33,
   "id": "worth-digit",
   "metadata": {},
   "outputs": [],
   "source": [
    "# Creating the object for LDA model using gensim library\n",
    "LDA = gensim.models.ldamodel.LdaModel"
   ]
  },
  {
   "cell_type": "code",
   "execution_count": 36,
   "id": "engaged-metro",
   "metadata": {},
   "outputs": [
    {
     "name": "stdout",
     "output_type": "stream",
     "text": [
      "CPU times: user 637 ms, sys: 44.5 ms, total: 682 ms\n",
      "Wall time: 711 ms\n"
     ]
    }
   ],
   "source": [
    "## Creating specific list / train\n",
    "# Creating the term dictionary of our courpus, where every unique term is assigned an index. \n",
    "dictionary = corpora.Dictionary(doc_clean)\n",
    "## Build high / low filter to remove incredibly high occuring words/ very low\n",
    "# https://github.com/priya-dwivedi/Deep-Learning/blob/master/topic_modeling/LDA_Newsgroup.ipynb\n",
    "## This will remove all words occuring less than 15 times or present in more than 10% of the articles\n",
    "%time dictionary.filter_extremes(no_below=15, no_above=0.1, keep_n= 100000, keep_tokens=None)\n",
    "# Converting list of documents (corpus) into Document Term Matrix using dictionary prepared above.\n",
    "doc_term_matrix = [dictionary.doc2bow(doc) for doc in doc_clean]"
   ]
  },
  {
   "cell_type": "code",
   "execution_count": 37,
   "id": "atmospheric-arbor",
   "metadata": {},
   "outputs": [
    {
     "name": "stdout",
     "output_type": "stream",
     "text": [
      "CPU times: user 5min 20s, sys: 49.5 s, total: 6min 10s\n",
      "Wall time: 7min 51s\n"
     ]
    }
   ],
   "source": [
    "## Set to multicore in order to take advantage of large set\n",
    "N = 8\n",
    "num_topics = N\n",
    "chunksize = 10000\n",
    "iterations = 100\n",
    "passes = 20\n",
    "workers = num_processors-1\n",
    "eval_every = None\n",
    "\n",
    "%time ldamodel = LdaMulticore(corpus=doc_term_matrix,\\\n",
    "                       id2word=dictionary,\\\n",
    "                       chunksize=chunksize,\\\n",
    "                       eta='auto',\\\n",
    "                       num_topics=num_topics,\\\n",
    "                       iterations=iterations,\\\n",
    "                       passes=passes,\\\n",
    "                       eval_every=eval_every,\\\n",
    "                       workers = workers)"
   ]
  },
  {
   "cell_type": "code",
   "execution_count": 39,
   "id": "hearing-findings",
   "metadata": {},
   "outputs": [],
   "source": [
    "## Load a potentially pretrained model from disk.\n",
    "#ldamodel = LDA.load(G_LDA)"
   ]
  },
  {
   "cell_type": "code",
   "execution_count": 38,
   "id": "trained-thumb",
   "metadata": {},
   "outputs": [
    {
     "name": "stdout",
     "output_type": "stream",
     "text": [
      "(0, '0.005*\"loan\" + 0.003*\"customer\" + 0.003*\"product\" + 0.003*\"online\" + 0.003*\"experience\" + 0.003*\"market\" + 0.003*\"job\" + 0.003*\"offer\" + 0.003*\"system\" + 0.003*\"provide\"')\n",
      "(1, '0.009*\"pritzker\" + 0.008*\"rate\" + 0.007*\"credit\" + 0.006*\"region\" + 0.005*\"virus\" + 0.005*\"debt\" + 0.005*\"hospital\" + 0.005*\"test\" + 0.005*\"male\" + 0.005*\"care\"')\n",
      "(2, '0.009*\"bear\" + 0.008*\"0\" + 0.006*\"win\" + 0.005*\"real\" + 0.005*\"estate\" + 0.005*\"player\" + 0.005*\"coach\" + 0.005*\"sport\" + 0.005*\"play\" + 0.005*\"broker\"')\n",
      "(3, '0.004*\"white\" + 0.004*\"im\" + 0.004*\"cub\" + 0.004*\"think\" + 0.004*\"sox\" + 0.003*\"photo\" + 0.003*\"hair\" + 0.003*\"got\" + 0.003*\"there\" + 0.003*\"run\"')\n",
      "(4, '0.009*\"man\" + 0.008*\"shooting\" + 0.006*\"mayor\" + 0.006*\"lightfoot\" + 0.005*\"federal\" + 0.004*\"protest\" + 0.004*\"video\" + 0.004*\"violence\" + 0.004*\"street\" + 0.004*\"crime\"')\n",
      "(5, '0.027*\"stock\" + 0.023*\"quarter\" + 0.021*\"rating\" + 0.020*\"tool\" + 0.015*\"price\" + 0.013*\"inc\" + 0.011*\"average\" + 0.010*\"research\" + 0.010*\"ratio\" + 0.009*\"llc\"')\n",
      "(6, '0.008*\"election\" + 0.007*\"vote\" + 0.005*\"black\" + 0.005*\"court\" + 0.005*\"trump\" + 0.004*\"trial\" + 0.004*\"district\" + 0.004*\"american\" + 0.003*\"republican\" + 0.003*\"democratic\"')\n",
      "(7, '0.009*\"student\" + 0.005*\"district\" + 0.005*\"teacher\" + 0.005*\"park\" + 0.004*\"restaurant\" + 0.004*\"food\" + 0.004*\"union\" + 0.004*\"university\" + 0.003*\"class\" + 0.003*\"event\"')\n"
     ]
    }
   ],
   "source": [
    "## Print an example of the topics per line\n",
    "print(*ldamodel.print_topics(num_topics=N, num_words=10), sep='\\n')\n",
    "#B = list(ldamodel.print_topics(num_topics=N, num_words=10))"
   ]
  },
  {
   "cell_type": "code",
   "execution_count": 39,
   "id": "existing-commons",
   "metadata": {},
   "outputs": [
    {
     "data": {
      "text/html": [
       "\n",
       "<link rel=\"stylesheet\" type=\"text/css\" href=\"https://cdn.jsdelivr.net/gh/bmabey/pyLDAvis@3.2.2/pyLDAvis/js/ldavis.v1.0.0.css\">\n",
       "\n",
       "\n",
       "<div id=\"ldavis_el934251087173448204618015\"></div>\n",
       "<script type=\"text/javascript\">\n",
       "\n",
       "var ldavis_el934251087173448204618015_data = {\"mdsDat\": {\"x\": [-0.22213898350083613, 0.08375994588803322, 0.3332882571435949, 0.15453191263840854, -0.14908704723938793, -0.20200420198322502, 0.0359761013574975, -0.03432598430408495], \"y\": [0.016858673504684153, 0.17272696118048553, 0.02264871864813758, -0.1350699008108527, -0.24170231914613088, 0.40571746241993945, -0.24207082180766595, 0.000891226011402828], \"topics\": [1, 2, 3, 4, 5, 6, 7, 8], \"cluster\": [1, 1, 1, 1, 1, 1, 1, 1], \"Freq\": [16.306214935510944, 15.144813195903414, 9.918563032637236, 14.538065899895095, 12.963460788645056, 6.411511683275292, 11.27258882218783, 13.444781641945132]}, \"tinfo\": {\"Term\": [\"stock\", \"quarter\", \"rating\", \"tool\", \"price\", \"pritzker\", \"inc\", \"average\", \"student\", \"bear\", \"shooting\", \"man\", \"election\", \"research\", \"product\", \"ratio\", \"llc\", \"0\", \"vote\", \"rate\", \"hospital\", \"region\", \"debt\", \"virus\", \"analyst\", \"credit\", \"trump\", \"district\", \"owns\", \"lightfoot\", \"cbd\", \"lender\", \"seo\", \"forwardlooking\", \"hemp\", \"optimization\", \"sap\", \"rimini\", \"payday\", \"thc\", \"chicagoaneinu\", \"purchaser\", \"vape\", \"cresco\", \"homeadvisor\", \"reactor\", \"cultivation\", \"itto\", \"usto\", \"nickelanddime\", \"experiencefor\", \"60201847\", \"7578082\", \"9207220there\", \"materially\", \"optimisation\", \"functionality\", \"60606v9h8q4\", \"statesph\", \"mmr\", \"cannabis\", \"borrower\", \"warranty\", \"roofing\", \"epa\", \"quantum\", \"web\", \"dispensary\", \"technological\", \"actuarial\", \"adultuse\", \"unsecured\", \"financing\", \"roof\", \"marketing\", \"expertise\", \"contractor\", \"wastewater\", \"solar\", \"client\", \"roofer\", \"lending\", \"gutter\", \"loan\", \"quantity\", \"essay\", \"method\", \"engine\", \"quality\", \"application\", \"internet\", \"commercial\", \"repair\", \"customer\", \"obtain\", \"shingle\", \"development\", \"professional\", \"industry\", \"solution\", \"experience\", \"technology\", \"energy\", \"cash\", \"design\", \"account\", \"online\", \"provide\", \"project\", \"market\", \"cost\", \"site\", \"offer\", \"job\", \"money\", \"product\", \"website\", \"system\", \"water\", \"within\", \"property\", \"individual\", \"organization\", \"financial\", \"law\", \"counseling\", \"positivity\", \"idph\", \"icu\", \"2544100\", \"ventilator\", \"ezike\", \"sevenday\", \"medicalsurgical\", \"ngozi\", \"mitigation\", \"illinoisconsumercreditcounseling\", \"hospitalization\", \"repossession\", \"prefiling\", \"delinquent\", \"recourse\", \"pastdue\", \"utc05\", \"dmp\", \"servicemembers\", \"501c93\", \"fdcpa\", \"scra\", \"garnishment\", \"singleday\", \"jobless\", \"n95\", \"arwady\", \"antibody\", \"pritzker\", \"unemployment\", \"debt\", \"pritzkers\", \"dos\", \"eviction\", \"vaccine\", \"virus\", \"bankruptcy\", \"ides\", \"symptom\", \"jb\", \"stayathome\", \"statewide\", \"patient\", \"testing\", \"region\", \"tested\", \"disease\", \"female\", \"infection\", \"male\", \"rate\", \"bed\", \"test\", \"gov\", \"confirmed\", \"credit\", \"governor\", \"restriction\", \"80\", \"positive\", \"phase\", \"tax\", \"increase\", \"hospital\", \"care\", \"worker\", \"consumer\", \"resident\", \"mask\", \"medical\", \"illini\", \"reciprocity\", \"mred\", \"touchdown\", \"trubisky\", \"foles\", \"ncaa\", \"dosunmu\", \"blackhawks\", \"nhl\", \"remax\", \"fc\", \"thumbnail\", \"noncommercial\", \"idx\", \"amidei\", \"smartframe\", \"nagy\", \"cockburn\", \"badger\", \"packer\", \"ayo\", \"qb\", \"nfl\", \"3point\", \"bielema\", \"interception\", \"kofi\", \"oiler\", \"lovie\", \"scored\", \"penn\", \"quarterback\", \"00\", \"football\", \"bear\", \"rebound\", \"broker\", \"defensive\", \"logo\", \"tournament\", \"scoring\", \"coach\", \"basketball\", \"0\", \"win\", \"nebraska\", \"estate\", \"v\", \"offensive\", \"yard\", \"no\", \"sport\", \"player\", \"play\", \"real\", \"goal\", \"draft\", \"minnesota\", \"midwest\", \"match\", \"big\", \"lead\", \"league\", \"12\", \"11\", \"conference\", \"bull\", \"field\", \"album\", \"inning\", \"pitching\", \"strikeout\", \"karnisovas\", \"batting\", \"freestyle\", \"rodman\", \"russa\", \"boylen\", \"shortstop\", \"baseman\", \"clipin\", \"bullpen\", \"voight\", \"thunderstorm\", \"renteria\", \"halstead\", \"flute\", \"severide\", \"fielder\", \"outfielder\", \"meteorologist\", \"infield\", \"lil\", \"willson\", \"reliever\", \"yoan\", \"gust\", \"righthander\", \"episode\", \"med\", \"hair\", \"nl\", \"catcher\", \"pippen\", \"eloy\", \"psychic\", \"cub\", \"sox\", \"pd\", \"baseball\", \"song\", \"uploaded\", \"flickr\", \"kardashian\", \"hitter\", \"pitcher\", \"homer\", \"extension\", \"jordan\", \"abreu\", \"dance\", \"mlb\", \"im\", \"guy\", \"fan\", \"pitch\", \"love\", \"ive\", \"me\", \"pretty\", \"bit\", \"white\", \"think\", \"music\", \"got\", \"series\", \"bull\", \"feel\", \"something\", \"there\", \"photo\", \"he\", \"always\", \"hit\", \"run\", \"great\", \"little\", \"didnt\", \"field\", \"player\", \"fire\", \"never\", \"world\", \"getting\", \"left\", \"looting\", \"wounded\", \"rittenhouse\", \"homicide\", \"fatally\", \"kenosha\", \"gunshot\", \"cpd\", \"looter\", \"smollett\", \"gunfire\", \"carjacking\", \"firstdegree\", \"extradition\", \"gunman\", \"oshea\", \"aggravated\", \"pfleger\", \"chicagoillinois\", \"catanzara\", \"looted\", \"wounding\", \"freund\", \"vandalism\", \"jussie\", \"handgun\", \"burglary\", \"felon\", \"lausch\", \"vandalized\", \"arrested\", \"allegedly\", \"arrest\", \"raid\", \"gun\", \"stroger\", \"murder\", \"firearm\", \"offender\", \"victim\", \"killed\", \"crime\", \"suspect\", \"floyds\", \"incident\", \"custody\", \"violence\", \"shooting\", \"pronounced\", \"floyd\", \"man\", \"protester\", \"killing\", \"fired\", \"violent\", \"criminal\", \"protest\", \"dead\", \"charged\", \"lightfoot\", \"block\", \"mayor\", \"enforcement\", \"taken\", \"agent\", \"street\", \"video\", \"federal\", \"charge\", \"vehicle\", \"car\", \"south\", \"attorney\", \"black\", \"woman\", \"side\", \"trump\", \"condition\", \"west\", \"told\", \"hospital\", \"weekend\", \"law\", \"fire\", \"dividend\", \"stock\", \"nyseitw\", \"ratio\", \"itw\", \"beta\", \"hedge\", \"13f\", \"debttoequity\", \"oem\", \"etf\", \"owensillinois\", \"zacks\", \"bancshares\", \"exdividend\", \"midillinois\", \"works\", \"holdingschannelcom\", \"capitalization\", \"yearoveryear\", \"llcs\", \"rivet\", \"ishares\", \"11594\", \"deutsche\", \"pricetoearnings\", \"citigroup\", \"200day\", \"50day\", \"twohundred\", \"valued\", \"earns\", \"pe\", \"welding\", \"quarterly\", \"rating\", \"owns\", \"eps\", \"boosted\", \"consensus\", \"tool\", \"analyst\", \"quarter\", \"institutional\", \"earnings\", \"stake\", \"industrial\", \"investor\", \"inc\", \"price\", \"transaction\", \"insider\", \"target\", \"holding\", \"worth\", \"correction\", \"research\", \"co\", \"llc\", \"average\", \"equity\", \"sell\", \"product\", \"investment\", \"sold\", \"billion\", \"position\", \"fund\", \"hold\", \"buy\", \"management\", \"sorkin\", \"turnout\", \"seale\", \"abbie\", \"sorkins\", \"branico\", \"unopposed\", \"redmayne\", \"abdulmateen\", \"yahya\", \"langella\", \"madigans\", \"rylance\", \"ballot\", \"electoral\", \"antiwar\", \"lipinski\", \"mailin\", \"election\", \"kilbride\", \"gordonlevitt\", \"poet\", \"slavery\", \"dellinger\", \"kunstler\", \"kinzinger\", \"decking\", \"madigan\", \"hitler\", \"ginsburg\", \"voter\", \"biden\", \"vote\", \"obama\", \"sacha\", \"abortion\", \"bribery\", \"corruption\", \"sander\", \"presidential\", \"caucus\", \"voting\", \"democratic\", \"speaker\", \"baron\", \"1968\", \"republican\", \"supreme\", \"cast\", \"hoffman\", \"polling\", \"trial\", \"democrat\", \"political\", \"film\", \"senate\", \"senator\", \"sen\", \"politics\", \"committee\", \"rep\", \"deck\", \"campaign\", \"trump\", \"court\", \"black\", \"american\", \"justice\", \"associated\", \"judge\", \"former\", \"district\", \"party\", \"leader\", \"7\", \"law\", \"history\", \"board\", \"issue\", \"national\", \"ctu\", \"prek\", \"roundtrip\", \"k8\", \"sharkey\", \"prekindergarten\", \"uf\", \"salad\", \"diocese\", \"ord\", \"brewery\", \"grubhub\", \"cuisine\", \"steakhouse\", \"airfare\", \"beardstown\", \"pantry\", \"meteorite\", \"hyderabad\", \"idnr\", \"doordash\", \"casecase\", \"amtrak\", \"faa\", \"rws\", \"bushel\", \"unch\", \"e96\", \"inschool\", \"ctus\", \"cps\", \"soybean\", \"chef\", \"corn\", \"sandwich\", \"airline\", \"classroom\", \"wheat\", \"pumpkin\", \"preschool\", \"teacher\", \"tu\", \"janice\", \"pork\", \"sauce\", \"museum\", \"libertyville\", \"cheese\", \"chicken\", \"meal\", \"pizza\", \"elementary\", \"trinity\", \"cafe\", \"theatre\", \"student\", \"pier\", \"airport\", \"flight\", \"hotel\", \"river\", \"seating\", \"marathon\", \"educator\", \"ohare\", \"art\", \"learning\", \"remote\", \"inperson\", \"union\", \"restaurant\", \"food\", \"suck\", \"park\", \"campus\", \"class\", \"ticket\", \"district\", \"virtual\", \"village\", \"lake\", \"parent\", \"university\", \"event\", \"space\", \"building\", \"closed\", \"education\", \"open\", \"st\", \"north\", \"room\", \"il\", \"2021\", \"street\", \"location\", \"staff\", \"online\", \"south\"], \"Freq\": [115876.0, 106218.0, 95173.0, 93140.0, 81931.0, 92764.0, 68982.0, 78792.0, 101694.0, 64520.0, 79010.0, 87473.0, 60191.0, 64597.0, 69239.0, 42993.0, 59092.0, 67482.0, 52718.0, 94963.0, 83378.0, 66316.0, 55517.0, 56573.0, 37417.0, 93357.0, 70906.0, 93620.0, 34027.0, 74345.0, 15067.71625420527, 13769.824049330151, 5197.8990331332325, 4740.416811350014, 3810.1225385668877, 3198.846480018274, 2750.2302114013987, 2252.695421149139, 8733.062593128405, 2160.922709076151, 1878.6667882111672, 1852.8128866766722, 1481.6805933197231, 1346.6498187560019, 1363.8557298194933, 1283.6884094065645, 1197.2668417708699, 1070.2639057299025, 1050.1442661497676, 1043.8715882579104, 1043.6610779635505, 1040.903208800744, 1039.9276654724085, 1039.9276654724085, 1075.1133353011935, 921.8200114016432, 1044.2781848447328, 887.2615452553688, 887.2611445886494, 788.1773867538707, 13332.404973119636, 4259.405196071429, 2880.6289581557626, 25179.183907600513, 2628.057152395817, 2270.2027938522883, 16793.97695490027, 5355.47324052928, 1504.5165128571932, 1288.037005578636, 1482.9854846913856, 1205.7788459573173, 3260.2808683668272, 27173.755404125972, 15310.435665335768, 5849.330230831047, 10568.598250065537, 1976.9450456733132, 7413.877997185539, 21921.10318032312, 6015.529991361813, 3699.1753597047723, 2489.2516165355137, 52949.1801112305, 4187.170435635387, 4810.0882663821785, 10470.799029733076, 7755.5409327990355, 17927.56888002784, 18795.34888752035, 13349.683004192615, 17849.911335945082, 18318.62216240546, 34727.51416637993, 6781.268198763739, 7645.23065375404, 21011.816664970298, 20581.978844157118, 23020.578815095916, 20018.749135929153, 30104.82028891674, 17498.106724330748, 15851.716530142961, 13678.172018073039, 14265.872526320216, 18589.392090292757, 30639.71356461696, 28531.624532091242, 23475.838778986792, 30056.676175916564, 22826.745872263255, 28242.200843883318, 29455.586347507982, 29848.655143750744, 27757.280003557127, 30647.837162485645, 26873.905406279766, 28650.35522291064, 21378.194005968384, 22765.54707594569, 22947.70747537613, 21519.73128752139, 21300.772374449993, 21601.85193832462, 21165.856030301326, 42499.735057624865, 41917.7603392062, 19994.134896286694, 18367.932819604066, 13269.348672223628, 12447.82262337975, 12147.230156790396, 11391.991971499254, 9999.878960482083, 6181.545714707594, 15649.883915401364, 4647.969334763624, 10210.494696532489, 2967.6858355397776, 2729.4845907198355, 2725.52007252681, 2671.9697531211623, 2613.6737414038066, 2551.7320519968966, 2527.803235948313, 2480.949757929772, 2475.1120889917956, 2463.542435876564, 2456.863158998985, 2857.5572539079326, 2210.7699418851325, 1708.4519115468815, 1588.0675914235874, 7162.258020295884, 2073.2245005455775, 91667.63907792137, 17740.389213990835, 54467.51308611779, 15492.466613158938, 9070.363330022647, 4954.2765187242585, 33446.891581597825, 55017.85977924345, 14251.26548638059, 4082.3037099973203, 15403.970064677187, 36799.755202951375, 20229.56124630472, 21477.260646201437, 41290.61089309493, 40080.55313022803, 60407.251472888216, 24698.28446362839, 22380.35270485217, 48556.89248829558, 17431.397934811434, 51436.1240492579, 77467.38926291044, 32316.86605984134, 53851.433448859076, 38629.80085529882, 33032.67162353788, 70692.49476790216, 45502.13967672753, 25956.305841056732, 31347.89339609609, 36166.38732505998, 23986.30379515931, 41086.21477963885, 42865.33883493886, 54220.890700941454, 49749.55960050815, 37556.493814141206, 39487.72771277058, 40518.315485126936, 31174.17265656878, 33912.985788069454, 20797.94833518483, 17941.537274850485, 17867.98817221958, 10059.454140318376, 8056.60744672251, 7509.595939399422, 7825.064408744787, 7345.415200905779, 22090.034837538948, 7230.029333518595, 6069.182917784214, 6057.091238798965, 6046.213445997761, 6020.325266184458, 5959.836065922992, 5949.334566140615, 5948.415085375443, 6028.492189486308, 5280.999560551941, 4651.0558014663375, 4903.353056681342, 4239.351464893922, 3509.3129829187833, 19596.53246278866, 3308.944944183627, 3304.241866359734, 3509.7368487337717, 3238.0131252235574, 2845.6919735006622, 2757.0702882757882, 16658.9746903117, 8998.420130224173, 12990.609082361014, 5609.872250127495, 28123.57091324133, 61394.7429772447, 17393.272497307185, 31763.073871795707, 11483.76650001927, 20911.112319026655, 10921.48100560043, 9911.363145392386, 35861.2160196872, 25789.030307281093, 55027.681046584745, 39152.29581914803, 9307.619128940854, 36246.090858987816, 25994.61965536555, 10081.077145997051, 17410.03527895825, 25112.24567120026, 35796.16451028557, 36237.424811267214, 35083.168397624184, 36509.50377098484, 26035.045613756945, 13296.688553460488, 12691.96422545525, 14806.121903488322, 14608.375047833524, 23785.71646442455, 19532.095500327614, 17040.775235145564, 20444.96286695111, 20156.503267715532, 18649.879052306995, 18511.607550438068, 17688.156763670406, 6367.843729058124, 9360.645320319993, 3625.3664720592883, 3189.595673964892, 2547.112629055459, 2251.498841348481, 2217.7383320550816, 2066.976864951634, 2063.912767803907, 2018.0160389972566, 1991.6438560990027, 1980.2863779332197, 1939.263998408438, 1828.8404757739238, 1821.1306506573465, 1820.6655491736751, 1791.8611212815485, 1808.5447615990524, 1576.9628025772538, 1541.5570771600471, 1522.3887518349968, 1455.2415290949828, 1452.7638456151478, 1561.8150688182702, 1384.0625694998923, 1343.6783292150726, 1280.267493171379, 1218.1550832973085, 1203.9008302072643, 1187.3522193527615, 19775.867031584443, 8775.98803566554, 31554.613116693792, 2762.729961789196, 1784.5562416656546, 2737.2838380969865, 1584.9589758883865, 1675.717350506998, 42584.848450555255, 34588.28305387079, 12468.109073359732, 15425.166865437768, 10620.309317873849, 6225.93848006772, 10760.938859937613, 2678.976829978104, 2533.7234218585477, 5676.868388997681, 4458.38937787749, 24361.308703298826, 17637.79479670529, 3355.7382114549223, 8541.769501351358, 7784.029879250206, 43749.84779258094, 19646.03527413453, 23807.974253187716, 4845.48469799382, 24688.294336243125, 16642.64051433396, 14957.407659002505, 11260.519866931882, 12294.61293133647, 44025.322757489106, 38510.839514702006, 16188.83178041907, 31125.102255926475, 23826.65490067443, 25698.386735207063, 22080.456742906976, 21703.613374019664, 29498.662800557348, 33955.28779345162, 23479.16650837866, 18528.134208803724, 25446.930725444592, 26485.379025862178, 25484.73554576528, 21477.010787195402, 21517.17040704018, 22587.504521984418, 22077.176027065165, 21993.095966776455, 19702.91397060033, 20604.027162074748, 19418.797120060077, 19802.151623942147, 18125.918212767974, 15029.794314019895, 12588.974867988252, 12471.106339856618, 11268.145464517764, 9925.040329112093, 8445.310058948759, 7718.603802349301, 6915.833983836003, 5216.463916336207, 5030.740230668605, 4697.481866960543, 3949.340544203955, 3730.1143269092568, 3547.8605854367834, 3627.6545221080964, 2942.7392163830564, 2633.2669289771097, 2634.3896853936285, 2397.12903389333, 2367.90423988859, 2301.925864242694, 2159.1597156671264, 2117.262375595275, 1977.7099452555058, 1954.9063445239503, 1917.6297357504961, 1599.2252151874843, 1594.5500788743514, 1550.021931438873, 18449.469804479206, 9804.170988551743, 18361.137465799657, 6553.3737603214495, 34772.39512627056, 3952.1808172449264, 22304.056179669362, 7500.1596412149065, 5755.802360078007, 26231.257323005506, 30573.481833648348, 36414.60603664904, 16945.528665697293, 5122.9341786845, 19471.356520608882, 12440.977938440854, 38211.75019742322, 71040.40984490047, 7742.1179809899495, 17055.944089046734, 75203.06671833468, 22855.936571960465, 13269.658814136284, 22633.750059320624, 17444.98453868345, 21986.74065128656, 39096.451674709104, 19079.110379705755, 22100.492236008005, 51132.747021009476, 32789.67354904872, 53862.61381231061, 19650.100565275927, 29995.240364240573, 23488.751240224727, 37165.86921343621, 38871.39074255534, 48133.10474605222, 27620.95965276539, 26151.31788158752, 26766.298917293076, 32909.71623917439, 29958.1685068926, 35363.608178208175, 30507.73101621397, 28992.05979950078, 30005.985800593677, 26070.145089952573, 27285.67186733668, 26062.355616929388, 28328.576502039774, 25111.513950487744, 27028.931162667795, 25688.436448671753, 27253.506117976438, 115870.80588852736, 13026.564885375437, 42989.80454694442, 8386.15197683807, 7960.106636243158, 14925.315325173384, 7326.179215067735, 7185.941487611614, 7048.87119422351, 6669.742998141417, 6114.796752837728, 5431.944750819891, 5330.771875493424, 5008.333842679929, 4974.983277540721, 4766.799728621411, 4254.450757938955, 3885.450990610724, 3850.420420055049, 3559.686471453476, 3252.3084961970235, 3166.2564258102493, 3139.9989368029837, 2928.1914662223758, 2863.9870281645317, 2848.5579491626722, 2759.2086318362412, 2737.723467292589, 2558.416350557903, 29899.960549825293, 12515.720231621035, 4978.8418706262855, 4492.9757340137085, 14324.566561606181, 90501.98101570139, 32879.60504915303, 12711.154392098495, 8677.249905607892, 17892.274964399356, 86226.88975910784, 35599.877885539776, 97794.08674656998, 16127.427888049153, 22814.260813757937, 22486.892412460405, 28636.54606387602, 23918.292316226725, 56049.32022422718, 63077.5695725194, 20844.59977774684, 14754.044003288958, 31298.53166057725, 29950.312820191917, 29527.761084259007, 20014.103908866033, 43484.010971512, 17990.646402336683, 38492.7277344422, 46949.23526294322, 21476.88475101623, 22829.957332481757, 36871.66694012471, 21228.777316439988, 21096.127214347183, 24343.568358017277, 24537.26630284453, 24003.87302725434, 22468.546198772157, 21812.37767363163, 22473.33137849102, 10575.633813913142, 9981.02442085814, 4606.811288667258, 3878.9001900789963, 3393.0730438601677, 3315.0412747403893, 3243.2877226147066, 2661.6965503059423, 2401.440934468653, 2240.405211457611, 2111.917920939728, 2736.7435460903703, 2016.7546164913758, 20463.313492666155, 1807.9348217727247, 1778.8147792606, 1743.1449652092817, 3437.166366891193, 60159.72105493327, 1598.2735514237108, 1554.3124048807729, 1527.8967176894555, 1922.9443206536876, 1300.823826377429, 1246.4023455764966, 1331.472152608478, 1154.1833748841545, 14751.475741445896, 1045.8794230178678, 1030.1174045117978, 24280.23897487057, 19645.91724974226, 51219.6854162404, 6975.687836397752, 2710.7385699144256, 3897.9655128535687, 3159.095399057706, 5831.200764705498, 9098.960304869031, 8844.469711145015, 3958.6067117502644, 14869.802172179632, 25497.04265058495, 14404.070283884797, 3165.0822294938216, 5155.8903687075845, 26603.567039474026, 11865.773835809214, 16723.306970992795, 8768.758841499213, 4772.32328533438, 30123.809154358984, 24056.99654267224, 20582.867513917918, 23149.632539501476, 16115.590279323642, 7815.995261488077, 9169.665086972724, 9259.474191116542, 14783.694452875729, 16088.572651763692, 13323.72237930541, 17045.878759865005, 38114.24103989759, 38714.52128070302, 39205.585851016454, 28464.773306887295, 18381.919144625048, 24914.948476385223, 19345.530724888995, 20539.461331355556, 29998.486787192902, 18350.948409692963, 17444.10735121941, 20258.031994949644, 21029.152063905134, 17486.207058385688, 17420.406433925495, 17086.96271343297, 17054.69791196203, 5653.903888540327, 3166.3221473467524, 2661.7230979381693, 2026.451100589443, 1698.110337273524, 1511.0134257759091, 1464.8247231163177, 2363.9245243987293, 1340.6086739735958, 1148.2500962599127, 2682.1743268697082, 1103.4103083809136, 1078.9371119024022, 990.4665115879424, 954.637218086063, 864.5600243250474, 2344.278838619864, 774.2579233386626, 860.2831531131292, 759.5084625703671, 742.626149233875, 734.8488124520226, 1264.20576022928, 761.3309775247096, 625.5332634187224, 1605.7128462326866, 564.2204748533964, 529.269436138009, 528.1161258934641, 524.342884330599, 13974.079498116154, 3585.9969155990602, 7205.7098292818355, 5638.176239913162, 3653.717247586558, 8341.248174449602, 12510.519646892453, 2109.380023870821, 2150.8908676713836, 1342.3824281957639, 46733.11874503625, 1248.3833651387843, 2695.824160448868, 1842.5397581176646, 2033.3331031142518, 13874.211175763056, 4064.64177691437, 3165.3099326896854, 3905.1233541059373, 12486.141923663254, 7429.392354201659, 6057.953022488611, 6342.414412563594, 3147.519004734135, 7085.968799638013, 85100.43716375828, 2606.2492418721226, 16561.63421884408, 10779.266811745614, 18080.202518820228, 19721.489292389677, 9262.513626721095, 4638.374558828987, 6436.501747081529, 5993.081955832141, 19906.611988877296, 24191.422875136803, 14540.232562964276, 18634.228036361957, 34726.99279747704, 39389.14885074506, 35873.06927508237, 5907.042652838226, 46714.65256683297, 12772.728171660643, 28073.062584912983, 11318.667809636316, 49577.28653133669, 14113.35494921231, 11368.360942153011, 23359.677369993315, 15131.329979820906, 33731.231517875174, 26412.087575549056, 16532.48032243407, 23789.116441827868, 16881.550079069144, 18477.91037901351, 25301.368310915266, 20313.36899524759, 19606.374850157503, 16933.13126942137, 18882.45161314233, 19617.273997013228, 20253.62983047387, 16763.39952143739, 17823.052424479258, 17710.169611637233, 16874.192362084097], \"Total\": [115876.0, 106218.0, 95173.0, 93140.0, 81931.0, 92764.0, 68982.0, 78792.0, 101694.0, 64520.0, 79010.0, 87473.0, 60191.0, 64597.0, 69239.0, 42993.0, 59092.0, 67482.0, 52718.0, 94963.0, 83378.0, 66316.0, 55517.0, 56573.0, 37417.0, 93357.0, 70906.0, 93620.0, 34027.0, 74345.0, 15068.588528235354, 13771.14586765076, 5198.770822378795, 4741.289020405544, 3810.994250499437, 3199.7181754972235, 2751.1741946955376, 2253.567324851922, 8736.588713422494, 2161.8024152778075, 1879.5384373915876, 1853.6966972183316, 1482.5529626005575, 1347.5216101291583, 1364.753011539546, 1284.5727194999572, 1198.2136098212209, 1071.13568431812, 1051.0158212850665, 1044.743121833394, 1044.5325883043192, 1041.7747325355854, 1040.7991751377976, 1040.7991752277387, 1076.0226939355807, 922.6915343296291, 1045.2890147330152, 888.1351647385842, 888.1351126558558, 789.0492994393954, 13421.712301613743, 4268.323954739315, 2888.3659460160848, 25838.714198182108, 2638.030963738253, 2284.084398930847, 17245.913443810878, 5439.307516124719, 1509.5832439594767, 1290.5725420867332, 1488.2127527529415, 1207.8788394585094, 3299.017457691214, 28412.7508103091, 15857.305653524598, 5984.957952929966, 10992.652564571243, 1991.1869228896082, 7685.368335375318, 23523.540318484254, 6245.328866797515, 3794.2544429351806, 2531.242493884024, 61667.07638324078, 4351.545867553937, 5076.9245304036795, 11631.76516024498, 8481.380297850035, 21104.495040478912, 22246.711563206656, 15378.726664700405, 21513.041890342905, 22292.067082937578, 46323.6882669329, 7455.36731039516, 8578.692765581474, 27198.377744231533, 27222.50557947129, 32212.14133574242, 28018.6719065379, 48634.95624820939, 24648.48569881596, 21856.398511879655, 18248.173434128046, 19471.292914070073, 27965.819887418504, 56003.35971459055, 51214.704130878876, 39262.519756314505, 55900.56522688082, 37919.20588482919, 52944.98867396766, 57243.189240563406, 60062.56601546012, 54716.54657620133, 69239.77898163263, 54817.74018885918, 62043.793761026, 36579.86868342464, 48896.44285339496, 51322.25861117137, 43503.06384357937, 42561.73400275612, 54706.9195945875, 73742.86716053727, 42500.60697608699, 41918.64646876354, 19995.005199321466, 18368.80289866252, 13270.218433202874, 12448.693331907389, 12148.100153975984, 11392.91829222768, 10000.748806693244, 6182.416608528587, 15652.655750599844, 4648.8390775741045, 10213.036806742737, 2968.555765068831, 2730.3543327660877, 2726.390410271129, 2672.8399524289216, 2614.5435534762064, 2552.6017886094023, 2528.6732821773176, 2481.8195498246278, 2475.981822546427, 2464.4121712913397, 2457.7328926775613, 2858.6208096398664, 2211.6400619616015, 1709.3526292621368, 1588.999837561467, 7167.4430496496625, 2074.7286425539064, 92764.38921351646, 17758.765849152, 55517.9292227053, 15614.348317910708, 9143.980938391396, 4964.750259327693, 34190.80366972983, 56573.91222486003, 14459.951087634501, 4097.151318440509, 15685.638387229772, 38236.24365415352, 20780.73597872609, 22462.405860146344, 44209.65709577233, 43191.72213936571, 66316.48966293603, 26358.52767273324, 23821.663297715775, 53648.48008312595, 18648.095920246473, 59734.46822277927, 94963.68019175579, 36422.39240804115, 65705.64129946068, 45286.933152386875, 38312.12425103321, 93357.20160864688, 56626.642579006715, 29487.89248151852, 36964.53431588894, 45804.95239797518, 27263.554829002598, 56263.1736038703, 59915.36064338775, 83378.35791190805, 76948.0750203181, 53502.67182052407, 59756.94629982208, 65070.926105244005, 42356.19498800318, 59831.82871960927, 20798.831748765435, 17942.407649635003, 17868.85821720724, 10060.328729475019, 8057.479353826588, 7510.466375566724, 7825.983941360833, 7346.285391944547, 22092.743567959078, 7230.927590045851, 6070.053008847068, 6057.961509214164, 6047.083814934055, 6021.195582704563, 5960.706131653481, 5950.2046076947, 5949.2851252867495, 6029.473980384375, 5281.869747387208, 4651.926262770269, 4904.3136412957665, 4240.221635606015, 3510.183572243465, 19601.484425060004, 3309.8169501252687, 3305.1129707831706, 3510.6681388563743, 3238.8845331089574, 2846.5621527150893, 2757.9409159307284, 16706.891277051025, 9002.633847734207, 13072.046095381278, 5632.865870669483, 28810.15315554899, 64520.4436481768, 17859.71816638725, 33204.55449688188, 11731.237374816728, 21811.578312147813, 11424.214446577009, 10354.054924173692, 41292.82799073996, 29039.04182807175, 67482.6317327477, 50745.2936563957, 9883.368092951929, 47887.55956837385, 32895.37049118355, 10938.501888723937, 21527.016433628767, 34706.69306996787, 54662.97685214656, 59742.65913372827, 60016.625112521586, 64009.240375013265, 42236.37202218816, 16480.471794873065, 15815.363031720728, 20989.945737455004, 20866.154543500816, 56062.05403014753, 43215.26131782586, 31707.893319942596, 52783.15863940959, 52368.72560152043, 44395.800278995615, 44359.355195550634, 55044.56247395267, 6368.898181934699, 9362.807020937853, 3626.240424329916, 3190.59216206514, 2547.9810544199318, 2252.3701326630403, 2218.610480611037, 2067.8456835187976, 2064.7811225874657, 2018.884495197041, 1992.5122735786426, 1981.1548880543255, 1940.1323216107032, 1829.7089822608218, 1821.999039236463, 1821.5348730357541, 1792.7294120055092, 1809.4577169221723, 1577.8317385510277, 1542.4257520121691, 1523.2576912968718, 1456.1099655130674, 1453.6325234252254, 1562.792727241204, 1384.944658702747, 1344.5467240719288, 1281.1360123386428, 1219.0233809628785, 1204.7803616489412, 1188.221103561488, 20002.270811794493, 8839.860673350295, 32289.31664768805, 2769.1334973271014, 1786.4101451549711, 2752.5617102024285, 1586.2979106782857, 1678.3213683181489, 44083.5714165369, 35918.82070111619, 12808.645130851088, 15959.138512712723, 11044.322272754938, 6411.6328641697755, 11281.703026359535, 2715.8926039306325, 2568.69311280752, 5957.927180693278, 4666.077353338644, 28046.744943146736, 20366.35835224383, 3477.0577168722466, 9568.13152649864, 8735.042567275495, 57820.35105351365, 24080.019189691357, 29873.149622637826, 5253.21342281012, 32181.948811076905, 21645.402735567564, 20124.67635120836, 14674.704512829778, 16561.569505248222, 77898.92101057153, 67249.894788975, 23842.77958528344, 54813.04888513725, 39414.93183641359, 44359.355195550634, 36417.808565792795, 35685.18124397366, 56426.431377520705, 69313.95087822943, 43918.16171616137, 30753.890187533572, 50313.15254506127, 55017.1464191221, 54027.307403101906, 43095.830520033225, 43367.076183719386, 55044.56247395267, 59742.65913372827, 61586.969687176366, 43091.32844224093, 54532.7816449029, 41955.42213439372, 58460.62660103681, 18126.796948684205, 15030.672549393315, 12589.851356021309, 12471.983425013768, 11269.022133541243, 9925.952559746069, 8446.186679105696, 7719.484652691018, 6916.710769798556, 5217.340588463845, 5031.616756379344, 4698.358621198674, 3950.217026929282, 3730.990806135096, 3548.7371030167474, 3628.705723579007, 2943.617524388077, 2634.1434690772585, 2635.267075504404, 2398.0056163956715, 2368.78143984574, 2302.802267046581, 2160.036423336317, 2118.1702599785003, 1978.586709574543, 1955.7828902248389, 1918.506416144055, 1600.102075078132, 1595.4271290433755, 1550.9002372164482, 18608.674164276064, 9835.28850554307, 18538.140352913728, 6557.495795974589, 35405.712793210485, 3964.069470420187, 22776.898146472373, 7587.189409389727, 5808.736585057978, 26890.51920052618, 31453.50306314298, 37776.64930383122, 17385.664301782494, 5167.241944066521, 20227.42074484951, 12850.187140913338, 40956.39428612487, 79010.26523168826, 7929.800707537133, 18102.879938833197, 87473.77492829636, 24989.96153908559, 14116.832772845817, 24944.64515620421, 19034.124359816476, 24874.84326876838, 48709.405479251465, 21743.03288940344, 26094.923585150478, 74345.43439626235, 43463.31885151209, 80400.19481099273, 23661.48888324832, 44284.592534249045, 31942.531080226727, 63392.847278356756, 67784.00252577638, 93926.66400086856, 42127.77613686423, 38498.23951978366, 41520.97335827718, 62088.92350679624, 51994.119518766245, 84259.78571421118, 60495.54359543741, 62157.316177919194, 70906.37715940611, 47487.411989939494, 58080.86997470056, 51412.479071631125, 83378.35791190805, 44971.69760666742, 73742.86716053727, 61586.969687176366, 27254.405105664937, 115876.09355798275, 13027.445355291766, 42993.40437468458, 8387.03249188735, 7961.004717315052, 14927.081836463514, 7327.059682917406, 7186.8219400569, 7049.752714857917, 6670.623691884204, 6115.677531626794, 5432.825252439471, 5331.652364959359, 5009.214278618421, 4975.863878383446, 4767.680156751795, 4255.331193630274, 3886.3317031595957, 3851.3408150724736, 3560.5823439770775, 3253.1904498459385, 3167.137200859299, 3140.8794123562516, 2929.073381089255, 2864.8674576381923, 2849.4385715052454, 2760.0890629872247, 2738.6038993432294, 2559.2968306602193, 30063.515996580118, 12633.707112277241, 4981.670609952705, 4501.766831224645, 14528.98464509069, 95173.9549227807, 34027.5541850099, 12909.734263685918, 8803.859436900748, 18441.255221815616, 93140.57741358453, 37417.96668004163, 106218.43734526819, 16753.74752214793, 24234.089303702818, 24027.661123927654, 31565.1970652512, 26411.750203841606, 68982.3808136293, 81931.48055820649, 24020.266618415164, 16610.021795549546, 40480.25732656748, 39151.691231063975, 38862.730508829925, 24522.582518577587, 64597.67309362969, 21923.594791962598, 59092.73316248155, 78792.07384785717, 28423.87787885889, 31648.466151091066, 69239.77898163263, 31787.292558630164, 31439.938818086786, 44360.21457412867, 49473.314393552166, 52810.65269186807, 45633.330952804754, 38755.713609693514, 49112.607711149605, 10576.501431539291, 9981.892860797327, 4607.678841616633, 3879.768360460616, 3393.9405937690854, 3315.9090744453333, 3244.155224712413, 2662.5640897422495, 2402.3084699669844, 2241.2727820542896, 2112.785444608485, 2737.904178438027, 2017.622139232647, 20472.147419078403, 1808.802605417979, 1779.6823148838819, 1744.0125972027095, 3438.8889818404195, 60191.76801628929, 1599.141912731107, 1555.1799226629917, 1528.7681396171129, 1924.170408978865, 1301.6914473426048, 1247.2698615017368, 1332.4337075822777, 1155.052641388554, 14763.117655549127, 1046.7478229203457, 1030.985342032512, 24351.596748213644, 19822.463251625875, 52718.59351937132, 7051.257157698734, 2716.6870779376013, 3928.3817807589985, 3178.9210117308144, 5907.666932198604, 9313.863712319258, 9115.300523606642, 4019.30769207543, 15558.133652564316, 27165.140849946354, 15106.207721915189, 3203.1526986802655, 5303.497123935419, 29327.78181210403, 12670.035807715212, 18663.495565314333, 9410.956558027357, 4927.507986687653, 35211.25198787079, 27786.753743152287, 23882.447938582733, 27583.694990846525, 19354.9314156241, 8585.562787483892, 10340.69562272024, 10514.135017365232, 18178.497075525847, 20170.74044186258, 17291.807853373906, 23946.07899432812, 70906.37715940611, 82203.187151416, 84259.78571421118, 61590.16688271784, 31294.846900358065, 56345.06997437332, 37009.612490358035, 42941.61005427328, 93620.81086692294, 36496.98159907936, 37835.264023002994, 62657.93482020064, 73742.86716053727, 42162.22186879189, 41641.32226555663, 50288.45047012925, 61632.66573574048, 5654.773688110742, 3167.1925063494064, 2662.5915353056967, 2027.3194925937628, 1698.9790021516933, 1511.8819917818394, 1465.6943370247707, 2365.5040750386243, 1341.5326508807686, 1149.1185187987912, 2684.2876542499866, 1104.2803483969958, 1079.8094526985903, 991.3395679296773, 955.5056242872934, 865.4336653108255, 2346.842613305707, 775.1263649658948, 861.2490168537885, 760.378740845408, 743.4961461189157, 735.7173497509757, 1265.7641750211048, 762.2992768570186, 626.401774563194, 1608.0002647338383, 565.0889631347194, 530.1377909029695, 528.9863979637138, 525.2115847052461, 14070.57501797629, 3600.0336926706777, 7286.879583970665, 5693.465575456944, 3674.120848295795, 8468.097265205388, 12758.760192112368, 2118.846214054899, 2165.991416115166, 1346.1179504825113, 48631.9882221792, 1252.6873974484884, 2733.763012602561, 1862.0991235011243, 2059.089109345859, 14631.661729622794, 4190.688958164925, 3240.187662699609, 4025.470801382134, 13346.86086856956, 7825.194452240088, 6372.008307512936, 6702.226127752248, 3236.8440750362374, 7547.480140953907, 101694.06769798086, 2663.739516477514, 18798.468397867266, 11960.019927103765, 20815.72312351562, 23035.000768392252, 10222.433234250731, 4896.150437259141, 6964.116581772395, 6466.574584486288, 23962.287714047965, 29760.148612358502, 17011.50487292216, 23119.323018442115, 46733.34640025568, 54631.60199107474, 49465.41241618993, 6414.845100557858, 72603.70650105036, 15872.129267510933, 40661.229692544366, 14167.527171088917, 93620.81086692294, 19086.17815467917, 14430.075539330046, 40980.22345922262, 23219.743116330974, 77142.19086898415, 53812.109919268, 26578.287792353294, 49868.3779028718, 28428.869785712333, 33893.287693209364, 59686.298402100365, 48313.53547355869, 49118.725256109174, 32286.41004544677, 47535.12221279899, 55302.33063857202, 63392.847278356756, 35014.29645037693, 51474.76922604593, 56003.35971459055, 62088.92350679624], \"Category\": [\"Default\", \"Default\", \"Default\", \"Default\", \"Default\", \"Default\", \"Default\", \"Default\", \"Default\", \"Default\", \"Default\", \"Default\", \"Default\", \"Default\", \"Default\", \"Default\", \"Default\", \"Default\", \"Default\", \"Default\", \"Default\", \"Default\", \"Default\", \"Default\", \"Default\", \"Default\", \"Default\", \"Default\", \"Default\", \"Default\", \"Topic1\", \"Topic1\", \"Topic1\", \"Topic1\", \"Topic1\", \"Topic1\", \"Topic1\", \"Topic1\", \"Topic1\", \"Topic1\", \"Topic1\", \"Topic1\", \"Topic1\", \"Topic1\", \"Topic1\", \"Topic1\", \"Topic1\", \"Topic1\", \"Topic1\", \"Topic1\", \"Topic1\", \"Topic1\", \"Topic1\", \"Topic1\", \"Topic1\", \"Topic1\", \"Topic1\", \"Topic1\", \"Topic1\", \"Topic1\", \"Topic1\", \"Topic1\", \"Topic1\", \"Topic1\", \"Topic1\", \"Topic1\", \"Topic1\", \"Topic1\", \"Topic1\", \"Topic1\", \"Topic1\", \"Topic1\", \"Topic1\", \"Topic1\", \"Topic1\", \"Topic1\", \"Topic1\", \"Topic1\", \"Topic1\", \"Topic1\", \"Topic1\", \"Topic1\", \"Topic1\", \"Topic1\", \"Topic1\", \"Topic1\", \"Topic1\", \"Topic1\", \"Topic1\", \"Topic1\", \"Topic1\", \"Topic1\", \"Topic1\", \"Topic1\", \"Topic1\", \"Topic1\", \"Topic1\", \"Topic1\", \"Topic1\", \"Topic1\", \"Topic1\", \"Topic1\", \"Topic1\", \"Topic1\", \"Topic1\", \"Topic1\", \"Topic1\", \"Topic1\", \"Topic1\", \"Topic1\", \"Topic1\", \"Topic1\", \"Topic1\", \"Topic1\", \"Topic1\", \"Topic1\", \"Topic1\", \"Topic1\", \"Topic1\", \"Topic1\", \"Topic1\", \"Topic1\", \"Topic1\", \"Topic1\", \"Topic1\", \"Topic2\", \"Topic2\", \"Topic2\", \"Topic2\", \"Topic2\", \"Topic2\", \"Topic2\", \"Topic2\", \"Topic2\", \"Topic2\", \"Topic2\", \"Topic2\", \"Topic2\", \"Topic2\", \"Topic2\", \"Topic2\", \"Topic2\", \"Topic2\", \"Topic2\", \"Topic2\", \"Topic2\", \"Topic2\", \"Topic2\", \"Topic2\", \"Topic2\", \"Topic2\", \"Topic2\", \"Topic2\", \"Topic2\", \"Topic2\", \"Topic2\", \"Topic2\", \"Topic2\", \"Topic2\", \"Topic2\", \"Topic2\", \"Topic2\", \"Topic2\", \"Topic2\", \"Topic2\", \"Topic2\", \"Topic2\", \"Topic2\", \"Topic2\", \"Topic2\", \"Topic2\", \"Topic2\", \"Topic2\", \"Topic2\", \"Topic2\", \"Topic2\", \"Topic2\", \"Topic2\", \"Topic2\", \"Topic2\", \"Topic2\", \"Topic2\", \"Topic2\", \"Topic2\", \"Topic2\", \"Topic2\", \"Topic2\", \"Topic2\", \"Topic2\", \"Topic2\", \"Topic2\", \"Topic2\", \"Topic2\", \"Topic2\", \"Topic2\", \"Topic2\", \"Topic2\", \"Topic3\", \"Topic3\", \"Topic3\", \"Topic3\", \"Topic3\", \"Topic3\", \"Topic3\", \"Topic3\", \"Topic3\", \"Topic3\", \"Topic3\", \"Topic3\", \"Topic3\", \"Topic3\", \"Topic3\", \"Topic3\", \"Topic3\", \"Topic3\", \"Topic3\", \"Topic3\", \"Topic3\", \"Topic3\", \"Topic3\", \"Topic3\", \"Topic3\", \"Topic3\", \"Topic3\", \"Topic3\", \"Topic3\", \"Topic3\", \"Topic3\", \"Topic3\", \"Topic3\", \"Topic3\", \"Topic3\", \"Topic3\", \"Topic3\", \"Topic3\", \"Topic3\", \"Topic3\", \"Topic3\", \"Topic3\", \"Topic3\", \"Topic3\", \"Topic3\", \"Topic3\", \"Topic3\", \"Topic3\", \"Topic3\", \"Topic3\", \"Topic3\", \"Topic3\", \"Topic3\", \"Topic3\", \"Topic3\", \"Topic3\", \"Topic3\", \"Topic3\", \"Topic3\", \"Topic3\", \"Topic3\", \"Topic3\", \"Topic3\", \"Topic3\", \"Topic3\", \"Topic3\", \"Topic3\", \"Topic3\", \"Topic3\", \"Topic4\", \"Topic4\", \"Topic4\", \"Topic4\", \"Topic4\", \"Topic4\", \"Topic4\", \"Topic4\", \"Topic4\", \"Topic4\", \"Topic4\", \"Topic4\", \"Topic4\", \"Topic4\", \"Topic4\", \"Topic4\", \"Topic4\", \"Topic4\", \"Topic4\", \"Topic4\", \"Topic4\", \"Topic4\", \"Topic4\", \"Topic4\", \"Topic4\", \"Topic4\", \"Topic4\", \"Topic4\", \"Topic4\", \"Topic4\", \"Topic4\", \"Topic4\", \"Topic4\", \"Topic4\", \"Topic4\", \"Topic4\", \"Topic4\", \"Topic4\", \"Topic4\", \"Topic4\", \"Topic4\", \"Topic4\", \"Topic4\", \"Topic4\", \"Topic4\", \"Topic4\", \"Topic4\", \"Topic4\", \"Topic4\", \"Topic4\", \"Topic4\", \"Topic4\", \"Topic4\", \"Topic4\", \"Topic4\", \"Topic4\", \"Topic4\", \"Topic4\", \"Topic4\", \"Topic4\", \"Topic4\", \"Topic4\", \"Topic4\", \"Topic4\", \"Topic4\", \"Topic4\", \"Topic4\", \"Topic4\", \"Topic4\", \"Topic4\", \"Topic4\", \"Topic4\", \"Topic4\", \"Topic4\", \"Topic4\", \"Topic4\", \"Topic4\", \"Topic4\", \"Topic4\", \"Topic4\", \"Topic4\", \"Topic4\", \"Topic4\", \"Topic4\", \"Topic4\", \"Topic4\", \"Topic4\", \"Topic5\", \"Topic5\", \"Topic5\", \"Topic5\", \"Topic5\", \"Topic5\", \"Topic5\", \"Topic5\", \"Topic5\", \"Topic5\", \"Topic5\", \"Topic5\", \"Topic5\", \"Topic5\", \"Topic5\", \"Topic5\", \"Topic5\", \"Topic5\", \"Topic5\", \"Topic5\", \"Topic5\", \"Topic5\", \"Topic5\", \"Topic5\", \"Topic5\", \"Topic5\", \"Topic5\", \"Topic5\", \"Topic5\", \"Topic5\", \"Topic5\", \"Topic5\", \"Topic5\", \"Topic5\", \"Topic5\", \"Topic5\", \"Topic5\", \"Topic5\", \"Topic5\", \"Topic5\", \"Topic5\", \"Topic5\", \"Topic5\", \"Topic5\", \"Topic5\", \"Topic5\", \"Topic5\", \"Topic5\", \"Topic5\", \"Topic5\", \"Topic5\", \"Topic5\", \"Topic5\", \"Topic5\", \"Topic5\", \"Topic5\", \"Topic5\", \"Topic5\", \"Topic5\", \"Topic5\", \"Topic5\", \"Topic5\", \"Topic5\", \"Topic5\", \"Topic5\", \"Topic5\", \"Topic5\", \"Topic5\", \"Topic5\", \"Topic5\", \"Topic5\", \"Topic5\", \"Topic5\", \"Topic5\", \"Topic5\", \"Topic5\", \"Topic5\", \"Topic5\", \"Topic5\", \"Topic5\", \"Topic5\", \"Topic5\", \"Topic5\", \"Topic5\", \"Topic6\", \"Topic6\", \"Topic6\", \"Topic6\", \"Topic6\", \"Topic6\", \"Topic6\", \"Topic6\", \"Topic6\", \"Topic6\", \"Topic6\", \"Topic6\", \"Topic6\", \"Topic6\", \"Topic6\", \"Topic6\", \"Topic6\", \"Topic6\", \"Topic6\", \"Topic6\", \"Topic6\", \"Topic6\", \"Topic6\", \"Topic6\", \"Topic6\", \"Topic6\", \"Topic6\", \"Topic6\", \"Topic6\", \"Topic6\", \"Topic6\", \"Topic6\", \"Topic6\", \"Topic6\", \"Topic6\", \"Topic6\", \"Topic6\", \"Topic6\", \"Topic6\", \"Topic6\", \"Topic6\", \"Topic6\", \"Topic6\", \"Topic6\", \"Topic6\", \"Topic6\", \"Topic6\", \"Topic6\", \"Topic6\", \"Topic6\", \"Topic6\", \"Topic6\", \"Topic6\", \"Topic6\", \"Topic6\", \"Topic6\", \"Topic6\", \"Topic6\", \"Topic6\", \"Topic6\", \"Topic6\", \"Topic6\", \"Topic6\", \"Topic6\", \"Topic6\", \"Topic6\", \"Topic6\", \"Topic6\", \"Topic6\", \"Topic6\", \"Topic6\", \"Topic7\", \"Topic7\", \"Topic7\", \"Topic7\", \"Topic7\", \"Topic7\", \"Topic7\", \"Topic7\", \"Topic7\", \"Topic7\", \"Topic7\", \"Topic7\", \"Topic7\", \"Topic7\", \"Topic7\", \"Topic7\", \"Topic7\", \"Topic7\", \"Topic7\", \"Topic7\", \"Topic7\", \"Topic7\", \"Topic7\", \"Topic7\", \"Topic7\", \"Topic7\", \"Topic7\", \"Topic7\", \"Topic7\", \"Topic7\", \"Topic7\", \"Topic7\", \"Topic7\", \"Topic7\", \"Topic7\", \"Topic7\", \"Topic7\", \"Topic7\", \"Topic7\", \"Topic7\", \"Topic7\", \"Topic7\", \"Topic7\", \"Topic7\", \"Topic7\", \"Topic7\", \"Topic7\", \"Topic7\", \"Topic7\", \"Topic7\", \"Topic7\", \"Topic7\", \"Topic7\", \"Topic7\", \"Topic7\", \"Topic7\", \"Topic7\", \"Topic7\", \"Topic7\", \"Topic7\", \"Topic7\", \"Topic7\", \"Topic7\", \"Topic7\", \"Topic7\", \"Topic7\", \"Topic7\", \"Topic7\", \"Topic7\", \"Topic7\", \"Topic7\", \"Topic7\", \"Topic7\", \"Topic7\", \"Topic7\", \"Topic7\", \"Topic7\", \"Topic7\", \"Topic7\", \"Topic7\", \"Topic8\", \"Topic8\", \"Topic8\", \"Topic8\", \"Topic8\", \"Topic8\", \"Topic8\", \"Topic8\", \"Topic8\", \"Topic8\", \"Topic8\", \"Topic8\", \"Topic8\", \"Topic8\", \"Topic8\", \"Topic8\", \"Topic8\", \"Topic8\", \"Topic8\", \"Topic8\", \"Topic8\", \"Topic8\", \"Topic8\", \"Topic8\", \"Topic8\", \"Topic8\", \"Topic8\", \"Topic8\", \"Topic8\", \"Topic8\", \"Topic8\", \"Topic8\", \"Topic8\", \"Topic8\", \"Topic8\", \"Topic8\", \"Topic8\", \"Topic8\", \"Topic8\", \"Topic8\", \"Topic8\", \"Topic8\", \"Topic8\", \"Topic8\", \"Topic8\", \"Topic8\", \"Topic8\", \"Topic8\", \"Topic8\", \"Topic8\", \"Topic8\", \"Topic8\", \"Topic8\", \"Topic8\", \"Topic8\", \"Topic8\", \"Topic8\", \"Topic8\", \"Topic8\", \"Topic8\", \"Topic8\", \"Topic8\", \"Topic8\", \"Topic8\", \"Topic8\", \"Topic8\", \"Topic8\", \"Topic8\", \"Topic8\", \"Topic8\", \"Topic8\", \"Topic8\", \"Topic8\", \"Topic8\", \"Topic8\", \"Topic8\", \"Topic8\", \"Topic8\", \"Topic8\", \"Topic8\", \"Topic8\", \"Topic8\", \"Topic8\", \"Topic8\", \"Topic8\", \"Topic8\", \"Topic8\", \"Topic8\", \"Topic8\", \"Topic8\", \"Topic8\", \"Topic8\", \"Topic8\", \"Topic8\", \"Topic8\", \"Topic8\", \"Topic8\", \"Topic8\", \"Topic8\"], \"logprob\": [30.0, 29.0, 28.0, 27.0, 26.0, 25.0, 24.0, 23.0, 22.0, 21.0, 20.0, 19.0, 18.0, 17.0, 16.0, 15.0, 14.0, 13.0, 12.0, 11.0, 10.0, 9.0, 8.0, 7.0, 6.0, 5.0, 4.0, 3.0, 2.0, 1.0, -6.5943, -6.6844, -7.6586, -7.7507, -7.9692, -8.1441, -8.2952, -8.4947, -7.1398, -8.5363, -8.6763, -8.6902, -8.9137, -9.0093, -8.9966, -9.0571, -9.1268, -9.239, -9.2579, -9.2639, -9.2641, -9.2668, -9.2677, -9.2677, -9.2344, -9.3883, -9.2635, -9.4265, -9.4265, -9.5449, -6.7167, -7.8577, -8.2489, -6.0809, -8.3406, -8.487, -6.4859, -7.6288, -8.8984, -9.0538, -8.9128, -9.1197, -8.1251, -6.0046, -6.5783, -7.5405, -6.949, -8.6253, -7.3035, -6.2194, -7.5125, -7.9988, -8.3949, -5.3375, -7.8748, -7.7362, -6.9583, -7.2585, -6.4205, -6.3733, -6.7154, -6.4249, -6.399, -5.7593, -7.3927, -7.2728, -6.2618, -6.2825, -6.1705, -6.3102, -5.9022, -6.4448, -6.5436, -6.6911, -6.649, -6.3843, -5.8846, -5.9559, -6.1509, -5.9038, -6.1789, -5.9661, -5.924, -5.9107, -5.9834, -5.8843, -6.0157, -5.9517, -6.2445, -6.1816, -6.1737, -6.2379, -6.2481, -6.2341, -6.2545, -5.4835, -5.4973, -6.2375, -6.3224, -6.6475, -6.7114, -6.7359, -6.8001, -6.9304, -7.4114, -6.4825, -7.6966, -6.9096, -8.1452, -8.2289, -8.2303, -8.2502, -8.2722, -8.2962, -8.3056, -8.3243, -8.3267, -8.3314, -8.3341, -8.183, -8.4396, -8.6974, -8.7705, -7.2642, -8.5039, -4.7148, -6.3571, -5.2354, -6.4926, -7.028, -7.6327, -5.723, -5.2253, -6.5761, -7.8263, -6.4984, -5.6275, -6.2258, -6.166, -5.5123, -5.5421, -5.1319, -6.0262, -6.1248, -5.3502, -6.3747, -5.2926, -4.8831, -5.7574, -5.2468, -5.579, -5.7355, -4.9746, -5.4152, -5.9766, -5.7878, -5.6449, -6.0555, -5.5173, -5.4749, -5.2399, -5.326, -5.6071, -5.557, -5.5312, -5.7934, -5.7092, -5.7749, -5.9226, -5.9267, -6.5012, -6.7232, -6.7936, -6.7524, -6.8157, -5.7146, -6.8315, -7.0065, -7.0085, -7.0103, -7.0146, -7.0247, -7.0265, -7.0266, -7.0132, -7.1456, -7.2726, -7.2198, -7.3653, -7.5543, -5.8344, -7.6131, -7.6145, -7.5542, -7.6348, -7.7639, -7.7956, -5.9968, -6.6127, -6.2455, -7.0852, -5.4731, -4.6924, -5.9537, -5.3514, -6.3688, -5.7695, -6.419, -6.5161, -5.2301, -5.5598, -4.8019, -5.1423, -6.5789, -5.2194, -5.5518, -6.4991, -5.9527, -5.5864, -5.2319, -5.2196, -5.252, -5.2122, -5.5503, -6.2222, -6.2688, -6.1147, -6.1281, -5.6406, -5.8377, -5.9741, -5.792, -5.8062, -5.8839, -5.8913, -5.9368, -7.3408, -6.9556, -7.9041, -8.0322, -8.2571, -8.3805, -8.3956, -8.466, -8.4675, -8.49, -8.5031, -8.5089, -8.5298, -8.5884, -8.5926, -8.5929, -8.6088, -8.5996, -8.7366, -8.7593, -8.7718, -8.8169, -8.8186, -8.7462, -8.8671, -8.8967, -8.945, -8.9948, -9.0065, -9.0204, -6.2076, -7.0201, -5.7404, -8.1759, -8.6129, -8.1851, -8.7315, -8.6759, -5.4406, -5.6486, -6.6689, -6.4561, -6.8293, -7.3634, -6.8162, -8.2067, -8.2624, -7.4557, -7.6973, -5.9991, -6.3221, -7.9814, -7.0471, -7.14, -5.4136, -6.2142, -6.0221, -7.614, -5.9858, -6.3801, -6.4869, -6.7708, -6.6829, -5.4073, -5.5412, -6.4078, -5.7541, -6.0213, -5.9457, -6.0974, -6.1146, -5.8078, -5.6671, -6.036, -6.2728, -5.9555, -5.9155, -5.954, -6.1251, -6.1232, -6.0747, -6.0976, -6.1014, -6.2113, -6.1666, -6.2259, -6.2063, -6.1801, -6.3674, -6.5446, -6.554, -6.6555, -6.7824, -6.9438, -7.0338, -7.1436, -7.4256, -7.4619, -7.5304, -7.7039, -7.761, -7.8111, -7.7889, -7.9981, -8.1092, -8.1088, -8.2032, -8.2155, -8.2437, -8.3077, -8.3273, -8.3955, -8.4071, -8.4264, -8.6079, -8.6109, -8.6392, -6.1624, -6.7947, -6.1672, -7.1975, -5.5286, -7.7032, -5.9727, -7.0625, -7.3273, -5.8105, -5.6573, -5.4825, -6.2475, -7.4437, -6.1085, -6.5565, -5.4343, -4.8142, -7.0308, -6.241, -4.7573, -5.9482, -6.492, -5.958, -6.2184, -5.987, -5.4114, -6.1289, -5.9819, -5.143, -5.5873, -5.091, -6.0994, -5.6764, -5.9209, -5.4621, -5.4172, -5.2035, -5.7589, -5.8136, -5.7903, -5.5837, -5.6777, -5.5118, -5.6595, -5.7104, -5.6761, -5.8167, -5.7711, -5.817, -5.7336, -5.8541, -5.7806, -5.8314, -5.0682, -3.6209, -5.8064, -4.6125, -6.2468, -6.299, -5.6704, -6.382, -6.4013, -6.4206, -6.4758, -6.5627, -6.6811, -6.6999, -6.7623, -6.769, -6.8117, -6.9255, -7.0162, -7.0252, -7.1037, -7.1941, -7.2209, -7.2292, -7.299, -7.3212, -7.3266, -7.3585, -7.3663, -7.434, -4.9756, -5.8464, -6.7682, -6.8709, -5.7114, -3.868, -4.8806, -5.8309, -6.2127, -5.4891, -3.9164, -4.8011, -3.7906, -5.5929, -5.246, -5.2605, -5.0187, -5.1988, -4.3472, -4.2291, -5.3363, -5.6819, -4.9298, -4.9739, -4.9881, -5.377, -4.601, -5.4836, -4.723, -4.5244, -5.3064, -5.2453, -4.766, -5.3181, -5.3243, -5.1812, -5.1732, -5.1952, -5.2613, -5.2909, -5.2611, -6.5791, -6.637, -7.4102, -7.5821, -7.716, -7.7392, -7.7611, -7.9587, -8.0616, -8.131, -8.1901, -7.9309, -8.2362, -5.9191, -8.3455, -8.3618, -8.382, -7.7031, -4.8407, -8.4688, -8.4967, -8.5138, -8.2838, -8.6747, -8.7174, -8.6514, -8.7943, -6.2464, -8.8928, -8.908, -5.748, -5.9598, -5.0016, -6.9953, -7.9405, -7.5772, -7.7874, -7.1745, -6.7295, -6.7579, -7.5618, -6.2384, -5.6991, -6.2702, -7.7855, -7.2976, -5.6567, -6.464, -6.1209, -6.7665, -7.3749, -5.5324, -5.7573, -5.9132, -5.7957, -6.1579, -6.8815, -6.7218, -6.7121, -6.2442, -6.1596, -6.3482, -6.1018, -5.2971, -5.2815, -5.2689, -5.589, -6.0263, -5.7222, -5.9752, -5.9154, -5.5366, -6.028, -6.0787, -5.9291, -5.8918, -6.0763, -6.0801, -6.0994, -6.1013, -7.3816, -7.9613, -8.1349, -8.4076, -8.5844, -8.7011, -8.7322, -8.2536, -8.8208, -8.9757, -8.1273, -9.0155, -9.0379, -9.1235, -9.1603, -9.2595, -8.2619, -9.3698, -9.2644, -9.389, -9.4115, -9.422, -8.8795, -9.3866, -9.5831, -8.6403, -9.6862, -9.7502, -9.7524, -9.7595, -6.4767, -7.8369, -7.139, -7.3844, -7.8182, -6.9927, -6.5873, -8.3675, -8.348, -8.8195, -5.2695, -8.8921, -8.1222, -8.5028, -8.4042, -6.4839, -7.7116, -7.9617, -7.7516, -6.5893, -7.1085, -7.3125, -7.2667, -7.9673, -7.1558, -4.6701, -8.156, -6.3068, -6.7363, -6.2191, -6.1322, -6.8879, -7.5796, -7.2519, -7.3233, -6.1229, -5.9279, -6.437, -6.1889, -5.5664, -5.4404, -5.5339, -7.3378, -5.2699, -6.5666, -5.7791, -6.6875, -5.2104, -6.4668, -6.6831, -5.9629, -6.3971, -5.5955, -5.8401, -6.3086, -5.9447, -6.2877, -6.1973, -5.8831, -6.1026, -6.1381, -6.2846, -6.1757, -6.1375, -6.1056, -6.2947, -6.2334, -6.2398, -6.2881], \"loglift\": [30.0, 29.0, 28.0, 27.0, 26.0, 25.0, 24.0, 23.0, 22.0, 21.0, 20.0, 19.0, 18.0, 17.0, 16.0, 15.0, 14.0, 13.0, 12.0, 11.0, 10.0, 9.0, 8.0, 7.0, 6.0, 5.0, 4.0, 3.0, 2.0, 1.0, 1.8136, 1.8135, 1.8135, 1.8134, 1.8134, 1.8134, 1.8133, 1.8132, 1.8132, 1.8132, 1.8132, 1.8131, 1.813, 1.813, 1.813, 1.8129, 1.8128, 1.8128, 1.8128, 1.8128, 1.8128, 1.8128, 1.8128, 1.8128, 1.8128, 1.8127, 1.8127, 1.8126, 1.8126, 1.8125, 1.8069, 1.8115, 1.8109, 1.7878, 1.8098, 1.8075, 1.7871, 1.7981, 1.8103, 1.8117, 1.8101, 1.8119, 1.8018, 1.769, 1.7785, 1.7907, 1.7743, 1.8064, 1.7777, 1.7431, 1.7761, 1.7882, 1.7969, 1.6612, 1.7751, 1.7596, 1.7085, 1.7242, 1.6505, 1.645, 1.6721, 1.627, 1.6173, 1.5255, 1.7189, 1.6984, 1.5556, 1.534, 1.4777, 1.4774, 1.334, 1.471, 1.4924, 1.5254, 1.5026, 1.4052, 1.2105, 1.2286, 1.2993, 1.1931, 1.3061, 1.1852, 1.1492, 1.1144, 1.135, 0.9986, 1.1008, 1.0409, 1.2765, 1.0492, 1.0087, 1.1098, 1.1214, 0.8844, 0.5654, 1.8875, 1.8875, 1.8875, 1.8875, 1.8874, 1.8874, 1.8874, 1.8874, 1.8874, 1.8874, 1.8873, 1.8873, 1.8873, 1.8872, 1.8872, 1.8872, 1.8872, 1.8872, 1.8872, 1.8872, 1.8872, 1.8872, 1.8872, 1.8872, 1.8871, 1.8871, 1.887, 1.8869, 1.8868, 1.8868, 1.8756, 1.8865, 1.8684, 1.8797, 1.8794, 1.8854, 1.8655, 1.8596, 1.873, 1.8839, 1.8694, 1.8492, 1.8606, 1.8427, 1.8192, 1.8128, 1.7942, 1.8225, 1.8251, 1.7878, 1.82, 1.7379, 1.6839, 1.7679, 1.6886, 1.7285, 1.7392, 1.6094, 1.6688, 1.7599, 1.7227, 1.6513, 1.7594, 1.5731, 1.5526, 1.4572, 1.4514, 1.5336, 1.4732, 1.4138, 1.581, 1.3198, 2.3107, 2.3107, 2.3107, 2.3107, 2.3107, 2.3106, 2.3106, 2.3106, 2.3106, 2.3106, 2.3106, 2.3106, 2.3106, 2.3106, 2.3106, 2.3106, 2.3106, 2.3106, 2.3106, 2.3106, 2.3106, 2.3106, 2.3105, 2.3105, 2.3105, 2.3105, 2.3105, 2.3105, 2.3105, 2.3104, 2.3079, 2.3103, 2.3045, 2.3067, 2.2866, 2.2611, 2.2843, 2.2664, 2.2894, 2.2686, 2.2658, 2.2671, 2.1697, 2.1921, 2.1067, 2.0514, 2.2507, 2.0322, 2.0753, 2.2291, 2.0985, 1.9872, 1.8874, 1.8108, 1.7739, 1.7493, 1.8269, 2.0961, 2.0907, 1.9618, 1.9542, 1.4534, 1.5166, 1.6898, 1.3623, 1.356, 1.4435, 1.4368, 1.1755, 1.9282, 1.9282, 1.9282, 1.9281, 1.9281, 1.928, 1.928, 1.928, 1.928, 1.928, 1.928, 1.928, 1.928, 1.9279, 1.9279, 1.9279, 1.9279, 1.9279, 1.9278, 1.9278, 1.9278, 1.9278, 1.9278, 1.9278, 1.9278, 1.9278, 1.9277, 1.9277, 1.9277, 1.9277, 1.917, 1.9211, 1.9054, 1.9261, 1.9274, 1.9228, 1.9276, 1.9268, 1.8938, 1.8907, 1.9015, 1.8944, 1.8893, 1.899, 1.8811, 1.9147, 1.9147, 1.8801, 1.8829, 1.7875, 1.7846, 1.8929, 1.8149, 1.8131, 1.6495, 1.7249, 1.7015, 1.8476, 1.6633, 1.6656, 1.6317, 1.6636, 1.6305, 1.3578, 1.3709, 1.5412, 1.3625, 1.4251, 1.3825, 1.428, 1.4311, 1.2798, 1.2148, 1.3022, 1.4217, 1.2467, 1.1973, 1.177, 1.232, 1.2276, 1.0377, 0.9329, 0.8987, 1.1458, 0.9551, 1.158, 0.8458, 2.043, 2.043, 2.043, 2.043, 2.043, 2.0429, 2.0429, 2.0429, 2.0429, 2.0429, 2.0429, 2.0428, 2.0428, 2.0428, 2.0428, 2.0427, 2.0427, 2.0427, 2.0427, 2.0427, 2.0427, 2.0427, 2.0426, 2.0426, 2.0426, 2.0426, 2.0426, 2.0425, 2.0425, 2.0425, 2.0344, 2.0399, 2.0334, 2.0424, 2.025, 2.04, 2.0221, 2.0315, 2.0339, 2.0182, 2.0147, 2.0063, 2.0174, 2.0344, 2.0049, 2.0107, 1.9737, 1.9367, 2.0191, 1.9835, 1.8919, 1.9538, 1.9811, 1.9458, 1.9559, 1.9196, 1.8232, 1.9123, 1.8769, 1.6687, 1.7612, 1.6425, 1.8573, 1.6534, 1.7356, 1.5091, 1.487, 1.3745, 1.6209, 1.6563, 1.604, 1.4082, 1.4917, 1.1748, 1.3584, 1.2804, 1.1831, 1.4434, 1.2876, 1.3636, 0.9635, 1.4603, 1.0394, 1.1686, 2.747, 2.747, 2.747, 2.747, 2.747, 2.747, 2.747, 2.747, 2.747, 2.747, 2.7469, 2.7469, 2.7469, 2.7469, 2.7469, 2.7469, 2.7469, 2.7469, 2.7468, 2.7468, 2.7468, 2.7468, 2.7468, 2.7468, 2.7468, 2.7468, 2.7468, 2.7468, 2.7468, 2.7467, 2.7416, 2.7377, 2.7465, 2.7451, 2.7329, 2.6967, 2.7128, 2.7316, 2.7326, 2.7169, 2.6699, 2.6973, 2.6644, 2.709, 2.6867, 2.6808, 2.6497, 2.6479, 2.5395, 2.4856, 2.6053, 2.6286, 2.4898, 2.4792, 2.4724, 2.5439, 2.3513, 2.5494, 2.3184, 2.2293, 2.4668, 2.4205, 2.1169, 2.3434, 2.3481, 2.147, 2.0458, 1.9586, 2.0386, 2.1723, 1.9653, 2.1827, 2.1827, 2.1826, 2.1826, 2.1825, 2.1825, 2.1825, 2.1825, 2.1824, 2.1824, 2.1824, 2.1824, 2.1824, 2.1824, 2.1823, 2.1823, 2.1823, 2.1823, 2.1823, 2.1823, 2.1822, 2.1822, 2.1822, 2.1821, 2.1821, 2.1821, 2.182, 2.182, 2.182, 2.182, 2.1799, 2.1738, 2.154, 2.172, 2.1806, 2.175, 2.1765, 2.1698, 2.1595, 2.1526, 2.1676, 2.1375, 2.1194, 2.1352, 2.1708, 2.1546, 2.0853, 2.1172, 2.073, 2.1121, 2.1508, 2.0267, 2.0387, 2.0341, 2.0076, 1.9996, 2.0889, 2.0626, 2.0557, 1.9761, 1.9567, 1.9221, 1.8429, 1.562, 1.4298, 1.4177, 1.411, 1.6507, 1.3668, 1.5341, 1.4453, 1.0447, 1.4952, 1.4086, 1.0537, 0.9281, 1.3027, 1.3113, 1.1033, 0.898, 2.0064, 2.0063, 2.0063, 2.0062, 2.0061, 2.006, 2.006, 2.0059, 2.0059, 2.0058, 2.0058, 2.0058, 2.0058, 2.0057, 2.0057, 2.0056, 2.0055, 2.0055, 2.0055, 2.0054, 2.0054, 2.0054, 2.0053, 2.0053, 2.0052, 2.0052, 2.005, 2.0049, 2.0049, 2.0049, 1.9997, 2.0027, 1.9954, 1.9968, 2.001, 1.9915, 1.9869, 2.0021, 1.9996, 2.0038, 1.9668, 2.0031, 1.9926, 1.996, 1.994, 1.9534, 1.976, 1.9832, 1.9762, 1.9399, 1.9547, 1.956, 1.9514, 1.9786, 1.9435, 1.8284, 1.9848, 1.8799, 1.9026, 1.8657, 1.8513, 1.908, 1.9525, 1.9278, 1.9305, 1.8211, 1.7994, 1.8496, 1.7909, 1.7096, 1.6795, 1.6853, 1.9241, 1.5656, 1.7893, 1.6361, 1.7821, 1.3709, 1.7047, 1.7681, 1.4445, 1.5783, 1.1794, 1.2949, 1.5318, 1.2664, 1.4854, 1.3999, 1.1483, 1.1401, 1.0882, 1.3612, 1.0833, 0.9702, 0.8656, 1.27, 0.946, 0.8553, 0.7038]}, \"token.table\": {\"Topic\": [1, 2, 3, 4, 5, 6, 7, 8, 3, 6, 1, 2, 3, 4, 5, 6, 7, 8, 6, 1, 2, 3, 4, 5, 6, 7, 8, 6, 3, 4, 5, 6, 7, 8, 6, 1, 2, 3, 4, 5, 6, 7, 8, 2, 3, 2, 6, 1, 1, 1, 2, 3, 4, 5, 6, 7, 8, 1, 1, 2, 3, 4, 5, 6, 7, 8, 1, 7, 7, 1, 2, 5, 7, 3, 4, 1, 2, 3, 4, 5, 6, 7, 8, 1, 2, 6, 1, 2, 1, 2, 3, 4, 5, 6, 7, 8, 5, 8, 1, 2, 3, 8, 1, 2, 4, 5, 8, 4, 4, 5, 7, 1, 2, 3, 4, 5, 7, 8, 1, 2, 3, 4, 5, 6, 7, 8, 3, 5, 8, 1, 2, 3, 4, 5, 6, 7, 1, 2, 7, 1, 2, 6, 7, 8, 1, 2, 5, 7, 5, 7, 1, 4, 7, 8, 2, 8, 1, 2, 3, 4, 5, 6, 7, 8, 1, 2, 5, 7, 8, 1, 2, 3, 4, 5, 6, 7, 8, 3, 3, 2, 7, 6, 1, 2, 8, 3, 4, 6, 7, 2, 3, 4, 5, 7, 8, 4, 2, 3, 4, 8, 4, 1, 2, 3, 4, 5, 7, 8, 8, 1, 2, 4, 5, 7, 8, 6, 2, 5, 7, 8, 3, 1, 2, 3, 4, 5, 6, 7, 8, 1, 2, 6, 7, 8, 1, 2, 3, 4, 5, 6, 7, 8, 1, 2, 3, 4, 5, 6, 7, 8, 3, 4, 1, 2, 3, 4, 5, 6, 7, 8, 1, 2, 3, 4, 5, 6, 7, 8, 1, 3, 6, 7, 1, 2, 4, 7, 2, 8, 5, 7, 1, 3, 6, 1, 2, 3, 4, 5, 6, 7, 8, 3, 4, 5, 6, 4, 5, 6, 8, 1, 2, 3, 4, 5, 6, 7, 8, 1, 8, 1, 2, 3, 4, 5, 7, 8, 1, 2, 3, 4, 5, 7, 8, 1, 2, 4, 5, 6, 1, 2, 4, 5, 7, 8, 1, 2, 3, 4, 5, 6, 7, 8, 5, 8, 1, 2, 3, 4, 5, 6, 7, 8, 1, 4, 5, 7, 8, 5, 1, 4, 1, 2, 5, 7, 1, 1, 2, 3, 4, 5, 7, 8, 1, 2, 3, 4, 5, 7, 8, 4, 8, 1, 8, 1, 5, 4, 8, 6, 1, 2, 3, 4, 5, 6, 7, 8, 1, 2, 8, 1, 2, 4, 5, 6, 7, 8, 4, 1, 2, 3, 4, 5, 6, 7, 8, 1, 2, 3, 4, 5, 6, 7, 8, 1, 3, 4, 5, 8, 3, 1, 2, 4, 5, 6, 7, 8, 1, 2, 3, 5, 7, 8, 1, 2, 3, 4, 5, 6, 7, 8, 1, 2, 3, 4, 5, 6, 7, 8, 1, 2, 3, 4, 5, 7, 8, 1, 2, 3, 4, 6, 7, 1, 2, 3, 6, 8, 1, 2, 7, 8, 1, 3, 4, 6, 8, 1, 2, 5, 6, 7, 5, 7, 1, 2, 3, 4, 5, 6, 7, 8, 2, 1, 2, 3, 4, 5, 7, 8, 5, 2, 5, 8, 1, 2, 3, 4, 5, 6, 7, 8, 1, 4, 5, 7, 8, 1, 2, 5, 7, 8, 8, 3, 4, 8, 1, 1, 2, 5, 6, 1, 2, 3, 4, 5, 6, 8, 3, 4, 7, 8, 1, 2, 3, 4, 5, 6, 7, 8, 1, 2, 6, 6, 1, 3, 4, 5, 7, 8, 7, 3, 4, 5, 7, 2, 7, 2, 5, 7, 2, 5, 7, 8, 1, 3, 4, 5, 6, 7, 8, 6, 1, 2, 3, 4, 5, 6, 7, 8, 1, 2, 3, 4, 5, 7, 8, 8, 1, 2, 4, 5, 6, 7, 8, 1, 2, 1, 2, 5, 7, 8, 6, 2, 8, 2, 8, 3, 1, 2, 3, 4, 5, 7, 8, 8, 1, 6, 3, 4, 6, 1, 2, 5, 7, 8, 1, 2, 7, 8, 2, 5, 7, 7, 1, 2, 3, 5, 7, 8, 3, 4, 1, 2, 3, 4, 5, 6, 7, 8, 1, 2, 5, 7, 8, 1, 4, 5, 6, 8, 1, 2, 7, 8, 1, 4, 5, 7, 1, 4, 6, 7, 1, 2, 5, 6, 7, 8, 1, 7, 8, 1, 2, 3, 6, 7, 8, 6, 1, 2, 3, 4, 5, 7, 8, 2, 7, 6, 1, 2, 3, 4, 5, 7, 8, 1, 1, 4, 7, 1, 2, 4, 7, 8, 5, 2, 8, 1, 3, 4, 5, 6, 7, 8, 5, 3, 2, 1, 2, 5, 6, 7, 8, 1, 2, 3, 4, 5, 7, 8, 5, 1, 2, 4, 5, 7, 1, 2, 3, 4, 5, 6, 7, 8, 4, 1, 3, 4, 6, 7, 8, 1, 2, 4, 5, 6, 7, 8, 1, 2, 6, 8, 1, 2, 3, 4, 5, 6, 7, 8, 2, 5, 8, 3, 4, 5, 5, 4, 8, 1, 2, 3, 4, 5, 6, 7, 8, 3, 4, 5, 7, 3, 4, 5, 7, 8, 4, 3, 1, 2, 4, 5, 6, 7, 8, 2, 3, 4, 7, 8, 1, 2, 3, 4, 5, 7, 8, 1, 4, 5, 1, 1, 2, 4, 5, 6, 7, 8, 2, 1, 2, 3, 4, 5, 7, 8, 7, 1, 2, 3, 4, 5, 7, 8, 7, 1, 2, 3, 4, 5, 7, 8, 2, 5, 7, 8, 2, 3, 5, 7, 8, 1, 2, 3, 4, 5, 6, 7, 8, 8, 1, 4, 5, 7, 5, 5, 5, 4, 1, 7, 1, 3, 4, 5, 7, 8, 1, 2, 4, 5, 7, 4, 5, 2, 3, 4, 5, 7, 8, 6, 7, 1, 1, 2, 3, 4, 5, 7, 8, 1, 2, 3, 4, 5, 6, 7, 8, 7, 3, 4, 1, 2, 3, 6, 7, 8, 1, 2, 3, 4, 5, 6, 7, 8, 1, 2, 3, 4, 5, 6, 7, 8, 6, 1, 3, 4, 7, 8, 5, 1, 2, 4, 5, 7, 8, 2, 3, 1, 2, 3, 4, 5, 7, 8, 8, 2, 2, 4, 8, 2, 3, 1, 2, 3, 4, 5, 6, 7, 8, 3, 2, 1, 2, 3, 4, 5, 7, 8, 1, 2, 3, 5, 6, 7, 8, 1, 2, 4, 5, 7, 1, 2, 3, 4, 5, 6, 7, 8, 1, 2, 3, 4, 5, 6, 7, 8, 1, 6, 7, 8, 1, 2, 4, 6, 7, 8, 1, 2, 4, 6, 8, 4, 3, 4, 1, 2, 7, 8, 8, 1, 2, 3, 4, 5, 6, 7, 8, 1, 6, 7, 8, 3, 1, 2, 4, 5, 6, 7, 8, 1, 2, 5, 6, 7, 8, 1, 6, 7, 8, 6, 1, 2, 3, 4, 5, 6, 7, 8, 1, 6, 1, 2, 3, 4, 5, 7, 8, 6, 8, 2, 5, 7, 8, 1, 2, 3, 4, 5, 7, 8, 2, 2, 3, 4, 5, 6, 7, 8, 1, 2, 3, 4, 5, 7, 8, 5, 1, 2, 3, 4, 5, 6, 7, 8, 8, 4, 7, 4, 5, 7, 2, 3, 4, 5, 7, 8, 1, 2, 3, 4, 5, 7, 8, 7, 3, 7, 1, 2, 3, 4, 5, 6, 7, 8, 7, 5, 1, 2, 4, 5, 7, 8, 1, 2, 3, 4, 5, 7, 8, 1, 2, 3, 4, 5, 7, 8, 1, 2, 3, 4, 7, 8, 1, 2, 3, 4, 5, 6, 7, 8, 1, 2, 3, 4, 5, 7, 8, 1, 2, 1, 2, 6, 7, 1, 3, 7, 8, 2, 5, 7, 8, 4, 7, 1, 2, 3, 4, 5, 7, 8, 1, 2, 3, 5, 6, 7, 8, 6, 1, 2, 4, 6, 1, 2, 3, 4, 5, 7, 8, 1, 3, 4, 5, 7, 8, 5, 5, 5, 1, 2, 3, 4, 5, 7, 8, 3, 2, 5, 7, 7, 2, 7, 8, 1, 2, 4, 5, 7, 1, 2, 3, 4, 5, 7, 8, 1, 2, 3, 4, 5, 6, 7, 8, 1, 2, 4, 7, 8, 1, 2, 3, 4, 5, 6, 7, 8, 1, 4, 6, 7, 8, 1, 2, 4, 5, 7, 8, 1, 2, 3, 4, 5, 7, 8, 1, 1, 2, 5, 7, 8, 1, 2, 3, 4, 5, 7, 8, 1, 2, 4, 8, 1, 4, 1, 2, 3, 4, 5, 6, 8, 2, 8, 4, 1, 2, 4, 5, 7, 8, 6, 1, 2, 3, 4, 6, 7, 8, 1, 2, 3, 4, 5, 7, 8, 1, 2, 8, 3, 4, 1, 1, 2, 3, 4, 5, 6, 7, 8, 3, 4, 5, 7, 1, 2, 4, 7, 8, 1, 2, 4, 5, 7, 8, 2, 3, 1, 2, 3, 4, 5, 6, 7, 8, 3, 1, 2, 3, 4, 7, 8, 1, 2, 3, 4, 5, 7, 8, 3, 4, 2, 3, 1, 3, 4, 1, 2, 3, 4, 5, 7, 8, 3, 1, 2, 3, 4, 5, 6, 7, 8, 6, 4, 5, 7, 8, 1, 2, 4, 5, 7, 8, 6, 1, 5, 7, 1, 3, 4, 5, 7, 1, 2, 3, 4, 5, 6, 7, 8, 2, 4, 5, 8, 3, 1, 2, 3, 4, 5, 6, 7, 8, 1, 2, 3, 4, 5, 6, 7, 8, 1, 1, 8, 1, 2, 3, 4, 5, 6, 7, 8, 5, 4, 6, 1, 2, 3, 4, 6, 8, 3, 1, 2, 8, 1, 2, 3, 4, 5, 7, 8, 1, 2, 3, 4, 5, 6, 7, 8, 1, 2, 4, 5, 7, 8, 2, 1, 2, 4, 5, 6, 8, 1, 2, 4, 5, 7, 1, 6, 3, 8, 5, 1, 2, 3, 4, 6, 8, 1, 2, 3, 4, 5, 7, 8, 2, 4, 5, 7, 8, 3, 4, 1, 3, 4, 7, 3, 4, 4, 4, 5, 8, 1, 2, 3, 4, 5, 6, 7, 8, 1, 2, 3, 4, 5, 7, 8, 7, 1, 2, 5, 7, 8, 1, 2, 4, 5, 7, 8, 2, 7, 8, 2, 7, 8, 1, 2, 3, 4, 5, 6, 7, 8, 1, 2, 3, 4, 5, 6, 7, 8, 2, 2, 8, 8, 1, 2, 8, 5, 7, 8, 1, 2, 3, 4, 5, 7, 8, 1, 2, 3, 4, 5, 6, 7, 8, 6, 2, 5, 7, 8, 2, 5, 8, 1, 2, 3, 4, 6, 7, 8, 1, 2, 3, 4, 5, 6, 7, 8, 1, 2, 3, 4, 5, 6, 7, 8, 1, 2, 4, 5, 8, 1, 2, 3, 5, 6, 7, 8, 2, 5, 7, 8, 5, 7, 1, 2, 3, 4, 5, 6, 7, 8, 1, 4, 8, 4, 8, 1, 3, 1, 2, 3, 4, 6, 7, 8, 1, 2, 3, 4, 5, 8, 1, 6, 2, 3, 4, 6, 8, 3, 6, 1, 6, 4, 5, 1, 2, 3, 4, 5, 6, 7, 8, 1, 3, 4, 6, 7, 1, 6, 1, 1, 2, 3, 4, 5, 6, 7, 8, 2, 3, 4, 5, 8, 3, 2, 7, 1, 2, 4, 7, 8, 4, 3, 1, 2, 6, 7, 8, 4, 1, 2, 3, 4, 5, 7, 8, 1, 2, 4, 6, 7, 8, 2, 2, 5, 7, 1, 2, 4, 5, 6, 7, 8, 1, 2, 3, 4, 5, 7, 8, 1, 2, 4, 5, 6, 7, 8, 1, 2, 3, 4, 5, 7, 8, 4, 1, 5, 1, 2, 3, 4, 5, 6, 7, 8, 6, 4, 1, 4, 7, 8, 1, 7, 1, 7, 1, 2, 3, 4, 5, 7, 8, 8, 1, 2, 3, 4, 5, 6, 7, 8, 4, 8, 7, 1, 7, 4, 8, 2, 3, 6, 7, 8, 4, 8, 1, 4, 8, 3, 4, 7, 1, 3, 4, 2, 7, 2, 3, 8, 1, 2, 3, 4, 5, 6, 7, 8, 2, 5, 7, 8, 1, 2, 5, 7, 8, 1, 2, 3, 5, 7, 8, 1, 1, 2, 3, 4, 5, 7, 8, 2, 2, 4, 8, 1, 7, 3, 4, 5, 7, 4, 1, 2, 3, 4, 5, 7, 8, 2, 1, 2, 3, 4, 5, 7, 8, 7, 3, 5, 1, 6, 7, 1, 3, 4, 5, 6, 7, 8, 1, 2, 4, 5, 6, 7, 8, 1, 2, 3, 4, 5, 7, 8, 4, 7, 8, 7, 7, 1, 2, 3, 4, 5, 6, 7, 8, 3, 4, 1, 6, 8, 1, 2, 3, 4, 5, 6, 7, 8, 1, 2, 4, 5, 7, 8, 1, 2, 3, 4, 5, 6, 7, 8, 1, 2, 3, 4, 5, 7, 8, 1, 2, 3, 4, 5, 6, 7, 8, 1, 2, 3, 4, 5, 6, 7, 8, 1, 1, 2, 7, 8, 2, 4, 5, 8, 8, 1, 6, 8, 1, 2, 3, 4, 5, 6, 7, 8, 4, 2, 5, 1, 2, 3, 4, 5, 7, 8, 4, 5, 7, 8, 1, 2, 4, 5, 7, 8, 1, 2, 4, 5, 7, 1, 2, 4, 8, 1, 2, 3, 4, 5, 6, 7, 8, 1, 2, 3, 4, 5, 7, 8, 1, 2, 3, 4, 5, 6, 7, 8, 1, 2, 5, 7, 8, 1, 2, 4, 6, 7, 8, 1, 7, 1, 2, 3, 4, 5, 6, 7, 8, 1, 2, 3, 4, 5, 6, 7, 8, 1, 2, 3, 4, 5, 7, 8, 1, 2, 3, 4, 6, 8, 1, 4, 7, 8, 1, 2, 3, 4, 5, 7, 8, 1, 2, 3, 4, 5, 7, 8, 3, 4, 1, 2, 3, 4, 5, 7, 8, 1, 2, 3, 4, 5, 7, 8, 1, 2, 4, 5, 6, 7, 8, 3, 2, 3, 4, 8, 1, 2, 5, 6, 1, 2, 3, 4, 5, 7, 8, 3, 5, 8, 3, 2, 5, 7, 8, 1, 8, 7, 6, 8, 8, 2, 5, 8, 1, 2, 3, 5, 6, 7, 8, 1, 2, 3, 4, 5, 7, 8, 7, 1, 6, 1, 4, 8, 1, 2, 1, 2, 3, 4, 5, 6, 7, 8, 2, 6, 8, 1, 6, 5, 5, 1, 1, 2, 4, 5, 6, 8, 2, 1, 2, 4, 5, 7, 8, 1, 2, 3, 4, 5, 6, 7, 8, 1, 2, 3, 4, 5, 7, 8, 1, 5, 7, 5, 7, 1, 2, 3, 4, 5, 6, 7, 8, 1, 2, 3, 4, 5, 6, 7, 8, 4, 2, 5, 7, 8, 2, 7, 8, 2, 3, 4, 7, 8, 1, 7, 1, 6, 1, 2, 4, 5, 6, 7, 8, 1, 2, 4, 6, 7, 8, 1, 2, 3, 4, 5, 6, 7, 8, 1, 2, 3, 4, 5, 7, 8, 1, 6, 1, 2, 3, 4, 5, 6, 7, 8, 6, 8, 1, 2, 3, 4, 5, 7, 8, 4, 1, 2, 3, 4, 5, 7, 8, 1, 2, 3, 4, 5, 7, 8, 1, 2, 3, 4, 5, 6, 7, 8, 1, 2, 3, 4, 5, 6, 7, 8, 6, 1, 2, 3, 4, 5, 6, 7, 8, 1, 2, 3, 4, 5, 6, 7, 8, 5, 5, 7, 1, 3, 4, 5, 7, 8, 6, 4, 6], \"Freq\": [0.015633652288164004, 0.02296887303000399, 0.8154394484484255, 0.09820304617408802, 0.021709289670294094, 0.0022376127919552275, 0.010936147287834158, 0.012877387524563527, 0.9959406328511129, 0.0039056495405925995, 0.02014561148628314, 0.26195023542069396, 0.3849052992692031, 0.054574556993172714, 0.06922070297419562, 0.01529538843650502, 0.02724908776391094, 0.16666435739552535, 0.9997200107865358, 0.05600271139880129, 0.17977325049500184, 0.38733945688379307, 0.06259572343086585, 0.08832362670541664, 0.05336929567335021, 0.03158204326853916, 0.1410108866513119, 0.9998553740568162, 0.003959651435507353, 0.015650050911767157, 0.0001885548302622549, 0.0041482062657696075, 0.9721887048321863, 0.0037710966052450982, 0.9996054246937792, 0.09938098334262019, 0.09429982316807937, 0.24751217248795218, 0.09912782945492064, 0.024411267742455833, 0.011500419469779193, 0.06902059923922511, 0.3547228439287082, 0.9999081828826701, 0.9997531736233214, 0.9996034613269426, 0.9997794864224891, 0.9992563339161628, 0.9987218558799906, 0.03311631648815577, 0.10364210085498005, 0.22865420063894348, 0.1041847296552679, 0.07272821890916908, 0.0020587975069745034, 0.32331100694798054, 0.13230566924665607, 0.999232152410486, 0.006817345454604567, 0.8480561321862856, 0.047640259307772395, 0.03024520721526947, 0.02421239754710749, 0.0024077132756341528, 0.014716809235336845, 0.02588968095260544, 0.999232152324137, 0.9998019571301096, 0.9994553280799104, 0.004072923889008735, 0.0022910196875674136, 0.0012727887153152297, 0.9922660824597531, 0.03479953738267088, 0.9651838632747394, 0.664704273818304, 0.07369710626389395, 0.051884765254201895, 0.04029919396380809, 0.06647400317543854, 0.04194405902355536, 0.0435174082111397, 0.0174856307438351, 0.9980066660316718, 0.0007748498959873228, 0.0007748498959873228, 0.9964973067571833, 0.002687787745804945, 0.10681683274974156, 3.130622296299577e-05, 0.05425368439487167, 0.10071211927195739, 0.7353518711778076, 0.0018157609318537546, 0.0009078804659268773, 9.391866888898731e-05, 0.9997902158201734, 0.9994708306529639, 0.009092951768089124, 0.0015351736751319299, 0.004369340459990877, 0.9849910480211868, 0.0003191749387774972, 0.0006915457006845772, 5.319582312958286e-05, 0.1179351398782852, 0.8810292226721513, 0.9998589737331259, 0.00010167469916478911, 0.9968187506115924, 0.0029485662757788842, 0.14947702459649947, 0.017233592133161786, 0.007348663815272762, 0.6024603680060784, 0.016973462440585757, 0.1361778940635501, 0.07033256563024329, 0.16043145359251498, 0.034388606285694436, 0.00470854382570887, 0.08421798904811004, 0.05781767090810099, 0.016707212402256647, 0.46216793103035514, 0.17955788333970482, 0.9997975518870155, 0.0007900365800630487, 0.9986062371996937, 0.01916191775280084, 2.6725129362344268e-05, 0.017023907403813297, 0.004623447379685558, 0.007563211609543427, 0.9514146052994559, 0.0001603507761740656, 0.000481990743025093, 0.9991668102910178, 0.9996166086058307, 0.8448439647630724, 0.06347005470845747, 0.018204937788190708, 0.07223539512499375, 0.0012136625192127137, 0.0033983991274560608, 5.3942843292953344e-05, 0.9904445457019163, 0.006041598448810775, 0.991419369114292, 0.008490664009976591, 0.01786139975896724, 0.07244717285412881, 0.0789574026728178, 0.8307637500041142, 0.9992405869691663, 0.0005580790767769708, 0.051131358986870136, 0.1313513321283672, 0.12993150959488936, 0.000709911266738912, 0.1995383092986397, 0.0007454068300758577, 0.44218598026999983, 0.044440445297855895, 0.17769317156462985, 0.03975449568395821, 0.5761805426705467, 0.20635025843889096, 1.92329442109135e-05, 0.009150666618982619, 0.30383766831961706, 0.06432119060333413, 0.02043352740161167, 1.2691631926466878e-05, 0.5958594273156934, 0.00043151548549987386, 0.005939683741586498, 0.9997118934548711, 0.9998008861882266, 0.0003907748335450457, 0.9995531773540338, 0.9998776430054505, 0.013278053213069978, 0.9855496684346888, 0.001106504434422498, 0.0012487696892027795, 0.006243848446013898, 0.004058501489909033, 0.9880890165816993, 0.0076445229109840295, 0.015414365869689108, 0.9665308680485956, 6.266002386052483e-05, 0.008459103221170852, 0.0018171406919552202, 0.9994170632183839, 0.0016529471008096032, 0.8880802663078929, 0.10737268875675715, 0.002892657426416806, 0.9993916929357342, 0.007718483814456418, 0.0019218714718726823, 0.9515588630292204, 0.01494100079746182, 0.017467331845165426, 0.005564127890341072, 0.0008214450645907432, 0.9994989040429, 0.0003569232864870767, 0.8872838345694506, 0.024270783481121216, 0.03431954677760353, 0.001866983344701632, 0.05189115472773654, 0.999873795161449, 0.0008071650731241815, 0.0028755255730048964, 0.9910978141623543, 0.005145677341166657, 0.9996632578695467, 0.05067598840513843, 0.028914388315638643, 0.4242798522367556, 0.3320606125132196, 0.008169518722123688, 7.134950849016322e-05, 0.08977551905774787, 0.06606964486189114, 0.050270270813806174, 0.3789206197799408, 0.5487800325969944, 0.017989092425747682, 0.004035147298507312, 0.06672072955705284, 0.03417550491338634, 0.05947503946940909, 0.7423813302298322, 0.0006038075073036455, 0.00030190375365182277, 0.05971656247233055, 0.03659073494260092, 0.0021481184466087804, 0.0010562571367302841, 0.003073826948462288, 0.060752587448565445, 0.419701993071121, 0.0003204375583339064, 0.4652990708162643, 0.047662119787739564, 0.9998758158781575, 9.052746182690426e-05, 0.020292974013633457, 0.03467291591671839, 0.07668535418077133, 0.019119570754341727, 0.7544292720034479, 0.00011503953522467946, 0.0026689172172125633, 0.09203162817974356, 0.1113557338652396, 0.09432937731780486, 0.07271623078368461, 0.007996864217624496, 0.0194278172734481, 0.007540586679681957, 0.41833445847152767, 0.26824316309569257, 0.0039755291700024195, 0.0002271730954287097, 0.9855904745174571, 0.010109202746577582, 0.9978155466084148, 0.0018742719823590791, 0.9995618891525765, 0.9997258445798953, 0.00037253831511563866, 0.9991477611401428, 0.0059768707463590445, 0.9937334046183274, 0.04276521764908326, 0.9565856395688955, 0.0006324433595991187, 0.254830827358196, 0.0076000065760746215, 0.0029477598065513703, 0.03826071912176881, 0.12727504416450033, 0.0012432728435794896, 0.09081907594470175, 0.47703576896633026, 0.417318960530265, 0.5793141015399065, 0.0026826359282142143, 0.0006762947718187094, 0.999612516379547, 0.9997360362520585, 0.0012437808897569097, 0.9987560544747986, 0.1526484600330079, 0.0977662297270228, 0.0007740794119320887, 0.12289800796775127, 0.02409967235815236, 0.5628073377687572, 0.0006450661766100739, 0.03834273353770279, 0.02749591822676958, 0.9725522536839397, 0.11208515601388158, 0.034201841570554774, 0.05708659026489424, 0.04564421591772451, 0.029566427145241492, 0.7118493179629752, 0.009563152282853534, 0.061176417078933745, 0.048575713252170874, 0.05172588920886159, 0.0003150175956690718, 6.300351913381437e-05, 0.033391865140921614, 0.8047439498962109, 0.99331588253438, 0.00044703685082555356, 7.450614180425892e-05, 0.006109503627949232, 0.9996573367223098, 0.13776170299870202, 0.006406400873715863, 0.04756632227664973, 0.644638066864206, 2.408421381096189e-05, 0.16360406441786413, 0.21164921923907376, 0.6465398905283016, 0.0007017719414779555, 0.060690277161149116, 0.022664634554399155, 0.005809112182234187, 0.038792393431698095, 0.013164721791058685, 0.999710830673388, 0.9990249655642639, 0.7495544718146513, 0.021152802026645372, 0.0027948002677692075, 0.02361880226291232, 0.15804321514208616, 0.009370800897814401, 0.01978280189538596, 0.015727601506858088, 0.001018030086245529, 0.10089213960001743, 0.0002679026542751392, 0.8960272174886307, 0.001714576987360891, 0.99958064468707, 0.0005597818634831196, 0.9992106263173686, 0.0002487990660609601, 0.014181546765474725, 0.0004975981321219202, 0.984995502535341, 0.9999609433734121, 0.23870236984098528, 0.0022075696494840524, 0.01414743560314511, 0.006527759716216284, 0.6556481858967635, 0.0730159595893865, 0.009732296304177006, 0.02751493016092155, 0.00015328651900234846, 0.001341257041270549, 0.006054817500592765, 0.8469080174879753, 0.1171875437772954, 0.0008430758545129166, 0.0228381833718686, 0.9767952752968124, 0.010978636201973233, 0.988900655892739, 0.9997135267995184, 0.9995191851648806, 0.02981017772102541, 0.9700728666717019, 0.9998460849412122, 0.08455228791642745, 0.028626778107830583, 0.08541305873582097, 0.029438362023258773, 0.011780263499700043, 0.0023117844863711984, 0.06745983878847019, 0.6904119775095602, 0.01026745530345385, 0.009091792482447684, 0.9805811702405429, 0.931875036801964, 0.0022105516132339825, 0.00034008486357445884, 0.051862941695104976, 0.006249059368180682, 0.004718677482095616, 0.002763189516542478, 0.9994163688743852, 0.01100993470226897, 0.24605269406508445, 0.023004783691002895, 0.016743542869904246, 0.08607447353499095, 0.002532636736624172, 0.02078872654645674, 0.5938329637179065, 0.029465970618870855, 0.00022806478807175585, 0.02732216161099635, 0.008484010116269317, 4.561295761435117e-05, 0.8206227204397919, 0.006659491811695271, 0.10719045039372524, 0.003559940240299482, 0.8684558976692498, 0.12779458944258754, 4.843456109250996e-05, 0.0001210864027312749, 0.9998353334275919, 0.8297292447523552, 0.0074838324036486945, 0.0018593372431425328, 0.02714632374988098, 0.07600040981345103, 0.013759095599254742, 0.044066292662478024, 0.05638529938649232, 0.10407901116023753, 0.0045658339991013295, 0.0014852713009124807, 0.813268552321856, 0.02024369773095529, 0.21437260051477847, 0.14963965611571864, 0.004759155964277007, 0.026638638472612452, 0.5489875928703609, 0.0004843388813202264, 0.004295875295188095, 0.050834524326392454, 0.01792962386076416, 0.20616814974569644, 0.4200847801548387, 0.009978421319495633, 0.22612499238468772, 0.000427968408736833, 0.04216615058712376, 0.07712441218499559, 0.011171398307115733, 0.8622074772872758, 0.004124020870383846, 0.026519020280442954, 0.06916870447162779, 0.012789684977772685, 0.01401645067972231, 0.0008676198993804032, 5.42262437112752e-05, 0.008405067775247656, 0.0026028596981412097, 0.9702159524821359, 0.017786207937298265, 0.1156685611965513, 0.6608102060951125, 0.20496361943509264, 0.01852504300413517, 3.3468912383261375e-05, 0.961460388010747, 0.014919056072832103, 0.02246955396335079, 0.0010916382492316174, 0.004390998710481105, 0.0008781997420962209, 0.0012294796389347093, 0.0031615190715463953, 0.9902580291876987, 0.002854511752462044, 0.07796894958153469, 0.05207445011277187, 0.8161456887682194, 0.05093264541178705, 0.012864638591213834, 0.9870224687548403, 0.6019904548985474, 0.21980945553858994, 0.005432603220269889, 0.015585769432910216, 0.018091096160704583, 0.04456844389444715, 0.04148293624021619, 0.05303381104836285, 0.9999857184136846, 0.057151068745624346, 0.1515877964323595, 0.03791823782037273, 0.004038772844518366, 0.2660724086003184, 0.4709671405889414, 0.012262298274923231, 0.9999372169629421, 0.00028428120349663594, 0.006538467680422627, 0.9931363844154977, 0.1627940827072985, 0.7572206405279869, 0.007005351367980867, 0.03339860178190267, 0.003513387230424655, 0.029478175786977593, 0.0027957136193318137, 0.003791887437714414, 0.9996129114923001, 5.294275794325583e-05, 0.9639552652518305, 0.03592166126449908, 7.941413691488374e-05, 0.026090616651838452, 0.0011256352330531229, 0.8839050667549647, 0.08884478089455004, 0.9998631796507844, 0.997693149312527, 0.03398091288579357, 0.9660061249943387, 0.9992503745021241, 0.9989871506956076, 0.02801515620374169, 0.0032684348904365307, 0.9681571064743065, 0.0005447391484060884, 0.7496812386761048, 0.06024995211774386, 0.0010793613779602983, 0.0001295233653552358, 0.0004101573236249134, 0.015931373938694003, 0.1725035354256149, 0.0005225680673549122, 0.8927552862691319, 0.0015677042020647365, 0.10514069515180832, 0.0015177275483073335, 0.009428307497060709, 0.0014717358044192325, 0.08995985104512559, 0.8774764816410793, 0.0009198348777620203, 0.016051118616947253, 0.00317343032827897, 0.01801219919404032, 0.9810884657009882, 0.000900609959702016, 0.9998856323332128, 0.1352085345745858, 0.0027180500962384656, 0.010930031238065319, 0.0017927564464551582, 0.7705382868570493, 0.07876562193780405, 0.9990886637103494, 0.9789248681177086, 0.012701132475578072, 0.005796489988854422, 0.0025572749950828334, 0.9998568032407764, 0.9994688085690228, 0.04516540548783176, 0.08903522962302453, 0.8657722389010108, 0.017154337707066234, 0.04141336892800324, 0.9385925933842656, 0.0028345150288499998, 0.7326683473438635, 0.0005649342367014229, 0.024497602809688972, 0.001438014420694531, 0.04745447588291952, 0.008474013550521343, 0.1848875683750111, 0.9996335424383067, 0.7725460760047134, 0.024927957335389096, 0.005515034808714402, 0.04731899865876957, 0.006470974175558232, 0.008603454301594466, 0.027538407144847246, 0.10706520908650892, 0.006202862255698631, 0.03788588359149758, 0.0686004282925778, 0.49615980355341055, 0.16618597872423804, 0.16295772327517555, 0.062005563589493, 0.9996029534723445, 0.03307913432205887, 0.9394809976239562, 0.00864759095221336, 0.0013852936962283537, 0.00801791199938229, 0.0018050796647824004, 0.007556147433972839, 0.9845003218011134, 0.015259295370586817, 0.0019119680586236225, 0.061012075703118056, 0.0870960198324973, 0.32042021129939346, 0.5295510639239293, 0.9999851361398876, 0.9997337409375647, 0.9993326850159135, 0.9919093293293314, 0.007983393720070694, 0.9998250283134988, 0.011104051041604874, 0.0011528796163414897, 0.8068336978154099, 0.14951028287712792, 6.0677874544288924e-05, 0.02936809127943584, 0.0019416919854172456, 0.9978537826910404, 0.05855388177443027, 0.9414011689935533, 0.008627713071967252, 0.0006332266474838351, 0.9906830899884599, 0.24712857825468965, 0.07024989790167335, 8.851310109408655e-05, 0.13737233289802234, 0.5451816940055104, 0.015364475701061295, 0.018092747087231055, 0.0422164098702058, 0.9243096269881453, 6.645426994132333e-05, 0.00044856632210393246, 0.9994722199175029, 0.9995562780506977, 0.002197109502116194, 0.013182657012697165, 0.008945374401473076, 0.00768988325740668, 0.017263003230912954, 0.9507206688442789, 0.0006303986113002, 0.999181798910817, 0.7252796013663426, 0.0005032851132368009, 0.04072034098006844, 0.07462345633538385, 4.575319211243645e-05, 0.09910141411553736, 0.04625647722567325, 0.013451438481056316, 0.01939861021699946, 0.14221421215730543, 0.8304633785708919, 0.0078186119611, 8.45255347145946e-05, 0.9144737917206809, 0.013677019061320139, 0.010257764295990103, 0.01650674714297258, 0.04503983863296804, 0.9961975564820368, 0.0026534942524255164, 0.0003790706074893595, 0.000758141214978719, 4.9994323615013865e-05, 0.9886877438105142, 0.0002999659416900832, 0.010948756871688036, 7.746092828672102e-05, 0.014717576374476992, 0.9846058594525109, 0.0005422264980070471, 0.16549465980849645, 0.019455473400105984, 0.00098508726076486, 0.755597110694532, 0.028708257313718774, 0.029763707950252554, 0.9474239711846858, 0.051999985112839306, 0.0005909089217368103, 0.1506445528864308, 0.015974921397022397, 0.7568980404659787, 0.046442124427421974, 0.004844682044587184, 0.025183993731776485, 0.9999065017136309, 0.16451687200672444, 0.0673268527369663, 0.04380054979327341, 0.06812592937723391, 0.04443237783441524, 0.12097648670098002, 0.49081888890111897, 0.9978346827602264, 0.002014200005571712, 0.9997575910011268, 0.6189992203623784, 0.005058090290953167, 0.01801173615802835, 0.1439293985230576, 0.007648819464368205, 0.04264422464811735, 0.16370941014865495, 0.9994901180582754, 0.9772833904600102, 0.010359304190206982, 0.012030159704756495, 0.05711892782023003, 0.07170172524749226, 0.8685856433387165, 0.00017827380717924478, 0.0023532142547660314, 0.9997344388698394, 0.9999094381868737, 0.9982955816744631, 0.0008033970405923598, 0.17701514794384995, 0.796969864267621, 0.0002677990135307866, 0.0001338995067653933, 0.0014059448210366296, 0.02339893880725248, 0.9999092970508772, 0.9998412817227872, 0.9998327506672214, 0.062271987004094094, 0.3265952253953822, 0.5124529920444625, 0.0005855632219567747, 0.09688409672375727, 0.0012137128600558603, 0.08962648024532348, 0.035806657548989526, 0.006041000506731362, 0.6062967781301294, 0.05192514526467729, 0.10104946302168823, 0.10923227279898799, 0.9993112470164891, 0.0008015138533910634, 0.9050955390490667, 0.039889294098997115, 0.04986161762374639, 0.004343086693956228, 0.17358662818914164, 0.0031429080771032446, 0.3213396420104173, 0.4103584256971566, 0.00559546640316647, 0.0011445272188295053, 0.006412985845187545, 0.07842736513788848, 0.999174341082236, 0.0013776254418637554, 0.0014501320440671109, 0.14008275545688292, 3.625330110167777e-05, 0.8392639205038405, 0.017836624142025463, 0.3948677819932896, 0.3403956965224997, 0.00029246757299752955, 1.8279223312345597e-05, 0.2560005224894001, 0.003162305633035788, 0.005246137090643186, 0.9881730066022385, 0.00030312055417246577, 0.00939673717934644, 0.0015156027708623288, 0.014077653185468008, 0.0002110836117774903, 0.17133494395969828, 0.3571047595247957, 0.4171012168723209, 0.0007956228443920789, 0.009563711333610907, 0.029795263662438055, 0.009094276717885442, 0.9885083389005916, 0.0022406189015080078, 0.06217767341598109, 0.03046746086147365, 0.9073690909718349, 0.9996919088442521, 0.9538453525019299, 0.04609233187445438, 0.008193966280767866, 0.0008361190082416189, 0.0001672238016483238, 0.013377904131865903, 0.06237447801482477, 0.004013371239559771, 0.009782592396426941, 0.901252678983641, 0.01673766831707384, 0.009114571855832289, 0.9421705307459122, 0.03192862141012765, 0.0009676341952095812, 0.000774107356167665, 0.991437996411737, 0.0019352683904191625, 0.00464464413700599, 0.9994728597918866, 0.9999379032481602, 0.060749518769128256, 0.07348569075733151, 0.0050338203572422415, 0.0208428465394247, 0.11456489945579029, 0.00010108073006510525, 0.7252138059251041, 3.4709985559635756e-05, 0.976183633879196, 0.019645851826753838, 6.941997111927151e-05, 0.0040610683104773835, 0.005775284151818163, 0.0020492943764516065, 0.13252879882256924, 0.1696722593957546, 0.15949564982178469, 0.4783006499765857, 0.0521638568551318, 0.9997281287008668, 0.9997248365062853, 0.9995201824723324, 0.9987668341340559, 0.22959382969086162, 0.20914341022149002, 1.8935573582751473e-05, 0.03167921460394322, 0.45452950828036637, 0.02965310823058881, 0.04535069873068978, 0.9997828289650125, 0.18512505904768053, 0.1480380767020914, 0.04514315203248448, 0.46284839985153964, 0.07236251825270479, 0.049361915448403036, 0.03711081716714801, 0.9990442715406899, 0.22916267512075378, 0.056089097774673594, 0.6164118448981118, 0.0233448081071457, 0.020787770302306212, 0.02358157086685306, 0.030613424830161655, 0.9992412950773109, 0.058507965990368206, 0.028697546149937383, 0.12115728161585133, 0.5678392396165296, 0.14616957390546617, 0.06646227630274754, 0.01114698073592609, 0.8530054324944718, 0.04581895605555343, 0.09994052776261919, 0.0012144783532797294, 0.8035440196991129, 3.531906376419116e-05, 0.030321416241558107, 0.1649400277787727, 0.0011478695723362124, 0.1975852677675199, 0.009680289933715495, 0.04455154468537896, 0.47170590623468334, 0.011956916438203078, 0.004331143106098328, 0.08612311484049369, 0.1740601272211482, 0.9988405585602838, 5.6488059192061414e-05, 0.0037564559362720843, 0.9821013971131798, 0.014065526738823293, 0.9998774238163981, 0.9997922914559885, 0.9998595011984956, 0.9993522789100968, 0.9833115578669013, 0.016197578896160286, 0.008637866870514982, 0.11715106943135944, 0.8158631372025834, 0.014742513168427012, 0.04356308820754912, 4.152820610824511e-05, 0.002880209606624143, 0.008083168896009692, 0.9772582165271488, 0.011582778418036878, 0.00018581997462091248, 0.9997470419353314, 0.9995997049423267, 0.02868972540661543, 0.20271795658341046, 0.5346079863666061, 0.0723846325933575, 0.16104954587380235, 0.0005464709601260082, 0.9998605329235598, 6.699233051414136e-05, 0.9997391099450473, 0.1320613514469783, 0.006664734151688381, 0.08552680196081246, 0.19391767410748828, 0.04964159636826968, 0.4147314639730357, 0.11740367989628998, 0.0016894190822940908, 0.14437576722099146, 0.10798369263651524, 0.5057723222016203, 0.19939120274793315, 0.0007751452259937593, 0.006698049773330689, 0.03333124471773165, 0.9992855748978208, 0.01323630286174545, 0.9864938662253814, 0.00031877737204525296, 0.011263467145598937, 0.02656478100377108, 0.0032940328444676136, 0.9317862584882743, 0.026777299251801247, 0.05982469267526057, 0.07529584030483345, 0.05013879005164695, 0.08684441650991122, 0.07937180837721385, 0.49238132590491934, 0.09738495760031428, 0.0587947437537451, 0.01828784344906937, 0.021429470186828493, 0.02906643274447059, 0.028657765851753957, 0.07670166742675323, 0.7649733398039492, 0.03578389479350026, 0.02513301390207299, 0.9996871703823508, 0.9994482433574582, 0.021002652244905377, 0.9554063643651853, 0.019716775576849945, 0.0038576300041662935, 0.9999211492687045, 0.0029144253507215555, 0.6503006458496849, 0.002590600311752494, 0.33976442699831666, 1.19935199618171e-05, 0.0044136153459486925, 0.9997026538922554, 0.00019582813984177384, 0.0016814212887209445, 0.06711272972409027, 0.0004323654742425286, 0.04145904491903357, 0.017150497144953633, 0.0035550050104385684, 0.8685741971449907, 0.9985497610686962, 0.9999562900932113, 0.996301987097153, 0.003417008284997585, 0.9995019050046207, 0.9999497274788656, 0.9998815355701347, 0.3427991607353545, 0.04605016034671316, 0.19837963091343314, 0.00281896824415695, 0.006100752170190414, 0.0031134873144420044, 0.003492154690522789, 0.3972220775087428, 0.9999600098325001, 0.9998195081481412, 0.015063900238064547, 0.04603915319601357, 0.002784486725979784, 0.7566540016249413, 0.04673095114035638, 0.11243446090431415, 0.020286974717852714, 0.1583447812494444, 0.0003624113825172672, 0.006856823357226696, 0.0007828085862372972, 0.8125118231484124, 0.007639631943463993, 0.01349619988494303, 0.022395341735072523, 0.0009393189690207019, 0.006229167899821497, 0.9626041918843203, 0.0077617409545394835, 0.09069460555103402, 0.7154258864455416, 0.0003838748486701845, 0.0010514832811400706, 0.037185789688572654, 0.14822576221912645, 0.00263705330825605, 0.004406215654301248, 0.4946778019446587, 0.26055636082912204, 0.008413200534932393, 0.01726315191730663, 0.13700184477649469, 0.005608800356621595, 0.04484741596626529, 0.03160696922276514, 0.08030996907003869, 0.9072333665714786, 0.00041184599523096766, 0.012070255706384514, 0.7146684152430445, 0.08543362489678373, 0.0033527730700772685, 0.01868860544617144, 0.011952015110923597, 0.16590017857863817, 0.00016087433338128973, 0.9347335017230871, 0.00396823355673848, 0.004182732667913533, 0.056895889239182804, 0.9994927495966767, 0.00010680557633663928, 0.9998070000872803, 0.004628163199876003, 0.13460601755153384, 0.05471613502657144, 0.8059924585653219, 0.9981353056193678, 0.009391920246715047, 0.0001806138508983663, 0.0015653200411191745, 0.04376875653437076, 0.011077649521766465, 0.8882589187181654, 0.030343126950925534, 0.015412381943327256, 0.014265465065893436, 0.9625906071868764, 0.022323363743280943, 0.0007162576602122228, 0.9998096832768159, 0.868082273069002, 0.008843384954111182, 0.043891800323713585, 0.007217762719899567, 0.020872989487277126, 0.012549803648113662, 0.03849473450613103, 0.30839367592942457, 0.0011954462598508756, 0.007141218447003915, 0.6678454907993221, 0.01132528035648198, 0.004121143685275387, 0.09128512807338753, 0.905581788991822, 0.0029532310202091358, 0.00015144774462610953, 0.9996409372922049, 0.28457826531164576, 0.1699992725979498, 0.024458896396710523, 0.08264323042660889, 0.04090402429921426, 0.002982792243501283, 0.33977980709804284, 0.05466463918256685, 0.9989397381351898, 0.9998768942545114, 0.04231845492506525, 0.02522475588328125, 0.004619918659941621, 0.768893062574084, 0.04721556870460337, 0.10722831209724502, 0.004481321100143373, 0.013534457752713447, 0.9861864351706879, 0.9624376372547384, 0.016136522342015586, 0.02039949339833413, 0.0010199746699167064, 0.4969651145493328, 0.12898216832770548, 0.03203326343907388, 0.16727557056776263, 0.031733575943282126, 0.13251182105591944, 0.010489062352711302, 0.9992086891616269, 0.008150696218193136, 0.05626926425330925, 0.8660360234728346, 0.02651431299894153, 0.04188279442240208, 0.0010802127518087289, 0.0001473017388830085, 0.00048636013156553497, 0.12086049269403544, 0.001053780285058659, 0.002026500548189729, 0.3528272554434864, 0.5227290614037133, 8.106002192758917e-05, 0.9997034703752412, 0.0072216362239948895, 0.003067597688068626, 0.003259322543572915, 0.0004473579961766746, 0.39367503663547365, 3.1954142584048185e-05, 0.5873810489799738, 0.004952892100527469, 0.9993491442278422, 0.986416029898517, 0.013255310592141327, 0.9996149679299107, 0.9999040334174141, 0.9992859215795572, 0.007630310668996056, 0.000317929611208169, 0.010523470130990394, 0.972006200346735, 0.00852051358037893, 0.000985581794745324, 0.0007792116104937401, 0.00021251225740738367, 0.0104131006129618, 0.010554775451233388, 0.9400125519319937, 0.03803969407592168, 7.083741913579455e-05, 0.9989239933107973, 0.9997269019318487, 0.9989818871272911, 0.0011468946733969704, 0.21127264004831853, 0.04389922377534362, 0.008979941272555003, 0.14899869948429578, 0.0021473772608283704, 0.01354311795181529, 0.5700310546926219, 0.9996282421338669, 0.9997322791899423, 0.2870243701525992, 0.06054822889215513, 0.00013560633570471473, 0.36653036477627343, 0.2851665633534446, 0.0005966678771007448, 0.18958580256508759, 0.05396241811079998, 0.4519699616381411, 0.08760793952293684, 0.039661914511968765, 0.14342155551060817, 0.033761221279441325, 0.12041676244759529, 0.15940155713815785, 0.05119562529872521, 0.02822763439289547, 0.10299914909093039, 0.46105136175062605, 0.07670093165560174, 0.0023968795161865893, 0.018512740473704315, 0.5374371557281009, 0.4254461141231196, 0.013876670883185518, 0.002302265851073961, 0.09445517348097769, 0.03578611161765964, 0.0007392436202709033, 0.04499305488830634, 0.007325232237229861, 0.0004368257756146247, 0.0034274022394378246, 0.8128655644533375, 0.03725584426016694, 0.0992976014372218, 0.17225268673089122, 0.3387237043341716, 0.24113665589328437, 0.07599986962714496, 0.03532291937430888, 0.9999167921346727, 7.261559855734732e-05, 0.9748950829819697, 0.0039533458352877925, 0.012914263061940124, 0.008170248059594772, 0.00047724849540629877, 0.02243067928409604, 0.006920103183391332, 0.9700075669133023, 0.2036439779113208, 0.687775926191517, 0.0018831015130505225, 0.10669115143940532, 0.9993179086999536, 0.9994193865317638, 0.1755390233513051, 0.0348989677621101, 0.03190563874528018, 0.49835447515082354, 0.08307068124225675, 0.08490380521380375, 0.09130813706376545, 0.08264975638495074, 0.0005245991908135694, 0.2558351795715981, 0.007632072098610316, 0.6513998919995718, 0.0005584442998983159, 0.001387649472474603, 0.9998364469851224, 0.8586267276713302, 0.12254513174965045, 4.864832542661789e-05, 0.018762037506198963, 0.35388402041893974, 0.07725415827885014, 0.01585066833447757, 0.010367193883631274, 0.02773152964464454, 0.03615665966026775, 0.47874730322675224, 0.02686646475618095, 0.9587109974684298, 0.006281067698970632, 4.584720948153746e-05, 0.006235220489489095, 0.0018338883792614984, 0.9996701089291755, 0.9998972387566559, 0.9999560347762232, 0.033030939370400074, 0.004070604945928889, 0.02047731801043617, 0.7671381290465071, 0.0028276721380116714, 0.064787872612685, 0.10766905448582903, 0.9996588339056528, 0.0005418909600705497, 0.00020320911002645614, 0.9991791940000849, 0.9996697552656708, 0.00029079159149383805, 0.9994506999643215, 0.00029079159149383805, 0.0011885934890255656, 0.8610773901622394, 0.006160597238893073, 0.13015935742498272, 0.0014062232827908101, 4.572799108394331e-05, 0.003783991262196309, 0.013729829322953978, 0.10568881939276398, 0.8597205283714472, 0.014975917079991434, 0.002046327601006463, 0.2860161708906985, 0.2396533303469439, 2.036137046278198e-05, 0.008633221076219558, 0.0034614329786729365, 0.45758107841009943, 0.0003868660387928576, 0.004214803685795869, 0.013275735873096849, 0.0018381788131980254, 0.03492539745076248, 0.002450905084264034, 0.947274815068049, 0.5376868709289282, 0.003184225405907084, 0.004186004185293583, 0.017638462079912275, 3.57778135495178e-05, 0.32139209911531835, 3.57778135495178e-05, 0.11583067136656387, 0.9654855833971423, 0.006558491226211809, 0.011351234814597363, 0.0019549348847362124, 0.014567418012066615, 2.360929730074282e-05, 0.7359962340533566, 0.0179194566512638, 0.07613998379489559, 0.00023609297300742818, 0.16968001970043864, 0.13735161378322455, 0.00215660244949236, 0.7000810796040977, 0.1454508540935403, 0.00043132048989847206, 0.010495465254196153, 0.003929808907963857, 0.9990495609977889, 1.24377808082534e-05, 0.16646725833766352, 0.6699361876749529, 0.039676520778328346, 0.12391761019262862, 0.028422817342136038, 0.008397650578358375, 0.003627387527929949, 0.7432169213047706, 0.10574083095116345, 0.10842410391702943, 0.002136680324671066, 0.03963478792573157, 0.014310481084715936, 0.010564281847879303, 0.9355008734228438, 0.007126809157742425, 0.9927758280690083, 0.17096251642142352, 0.5668053396617202, 0.00016713512212476639, 0.0031922808325830377, 0.22511429598984783, 0.02669147900332519, 0.007069815665877618, 0.9999251249373704, 0.9985468627867607, 0.9995648670382423, 0.9002073078115228, 0.006705774998500504, 0.04410336633629178, 8.597147433975005e-05, 0.04582279582308678, 0.003180944550570752, 0.9998263862507978, 0.10490736982090879, 0.04263946230232214, 0.705385339495175, 0.008194399459217216, 0.0006669860024944246, 0.0031443625831880017, 0.135112307362442, 0.0068288030937630325, 0.02522863365195787, 0.8025108228337074, 0.017451385684061082, 0.12607993860151376, 0.015617725594069157, 0.006322965827558364, 6.38869221896532e-05, 0.9998303322680726, 6.38869221896532e-05, 0.1087573406406776, 0.891123304786352, 0.9986701725226282, 0.5072871322634378, 0.26611694105587486, 0.014163905591532383, 0.07741716656223377, 0.06093220805441157, 0.006085910402555204, 0.056143894164112876, 0.011842852675242559, 0.9999519713460812, 0.004390413451248968, 0.9792378161665699, 0.01633233803864616, 6.834493706039089e-05, 0.011823674111447625, 0.00027337974824156357, 0.03950337362090593, 0.9482176567758632, 0.0015518324894819577, 0.0036069620025796856, 0.6789896262763085, 4.194141863464751e-05, 0.024829319831711324, 0.29094762106854977, 0.9993707755420532, 0.9997555374831751, 0.1513483132466675, 0.13324103220214767, 0.08295925446292998, 0.09689666881529783, 0.10484699830617124, 0.030844033392143536, 0.2767201417690731, 0.12314898129740633, 0.999874272504492, 0.001416521156384304, 0.014772292059436315, 0.9417842088303644, 0.00010118008259887886, 0.0063743452037293685, 0.035413028909607604, 0.1999474212439001, 0.031096743786771835, 0.026873156197822226, 0.457238166291616, 0.09389360101587974, 0.1763463851012531, 0.014596904359611555, 0.999771220129927, 0.00020406617750266408, 0.9999326139671642, 0.9998717190797032, 0.9992887037800354, 0.0021667427755980287, 0.9977850481628922, 0.019016504933773312, 0.027084113087495323, 0.7235491998438112, 0.1431424189560391, 0.010170948850942392, 0.07540332335103751, 0.0016135216307444022, 0.9998014376566678, 0.05720832503996028, 0.13023546451267826, 0.12441283783601327, 0.040025468693438405, 0.20200035624430104, 0.031474758189245056, 0.015493073080217003, 0.39915530986955916, 0.9999658140733183, 0.0008509120949374331, 0.007516390171947326, 0.9893271290472556, 0.002269098919833155, 0.9095460649598207, 0.03675204568632811, 0.00013413155359973762, 0.030984388881539388, 0.01971733837916143, 0.00281676262559449, 0.9998932281899291, 0.00895203272494082, 0.9909211608607569, 0.00017215447547963114, 0.001645563550028316, 0.9216070082130807, 0.02504913403931992, 0.013255928597450322, 0.038396482833994036, 0.5145765005547075, 0.09381028679993139, 0.026553377269254323, 0.04597926906097196, 0.009870169840216245, 0.10188111594361264, 0.009940047148819546, 0.19738592747717407, 0.0012371310182043667, 0.000927848263653275, 0.07098039216947553, 0.9267657740123462, 0.9998025152148696, 0.5471100333292569, 0.045622262896744495, 0.018641738733542565, 0.02431996949720783, 0.02260578662515794, 0.0024284257354040125, 0.023052188414754263, 0.3162310277500372, 0.10960639502096828, 0.24214937744390927, 0.057199057261018905, 0.08233045324564936, 0.04294117860573857, 0.0013068325912007834, 0.040545318855203794, 0.4238996332047567, 0.9992505249003595, 0.9997755503898053, 0.9990266288633478, 0.5004730305071836, 0.17750686566272816, 0.0004934009502206871, 0.11458649686791862, 0.015741839840374302, 0.0008928207670660052, 0.1193560393867186, 0.07093226041505973, 0.9998055164478008, 0.9992377186206013, 0.9998892139712583, 0.007729030378441332, 8.816384462100378e-05, 0.00017632768924200756, 0.003203286354563137, 0.9662757370462014, 0.022511168326562966, 0.9997321457411074, 0.0004261044154944092, 0.0004261044154944092, 0.9987887499188951, 0.02381593961782732, 0.08057798015362552, 4.306679858558285e-05, 0.09362722012505713, 0.08281745368007583, 0.06748567338360834, 0.6516437293984542, 0.0052752127743569, 0.04479110167678496, 0.03371728687108536, 0.01674845622354567, 0.2278533810083191, 0.0003167882344914066, 0.02787736463524378, 0.643424451055046, 0.06534786975534881, 0.1643149580389211, 0.0809108005817799, 0.09400777405895253, 0.502808703513797, 0.09261039822770607, 0.999792103873931, 0.050396228931914935, 0.9339814581811937, 0.013300261495496402, 2.2619492339279593e-05, 0.002284568726267239, 2.2619492339279593e-05, 0.9995892317310324, 0.00034338345301650035, 0.9734050613963373, 0.025217343185035046, 0.001327228588686055, 0.00040147174644671816, 0.9994639127791048, 0.9994852786626024, 0.00033323581195685785, 0.9995659047843514, 0.029636634146492907, 0.8797825577200233, 0.004914986355977784, 0.021457216554082118, 3.667900265655063e-05, 0.06415157564630705, 0.018005033390644305, 0.051432647466063255, 0.05288978558501765, 0.48987252306035844, 0.1315896711186432, 0.06148834319785739, 0.19470827775651886, 0.00037541208283097585, 0.0011262362484929275, 0.019521428307210743, 0.00037541208283097585, 0.978323887857523, 0.005449469105234655, 0.99434646273515, 0.044353804280687394, 0.014848054651903935, 0.9222926254932636, 0.018274528802343305, 0.04699621051216315, 0.9528481681341079, 0.9996579310291746, 0.04127692953464384, 0.009328841659532508, 0.9493693792968083, 0.01431270082897051, 0.006014999999136617, 0.5845546952069527, 0.3176619805638216, 0.0077478531844834535, 1.66620498591042e-05, 0.047553490297883395, 0.02212720221289038, 0.018479257803520274, 0.0033476916310725136, 0.6065515081758733, 0.3695349406959394, 1.6738458155362567e-05, 0.0013725535687397305, 0.0006862767843698653, 0.9994975434160308, 0.009881734092204832, 0.04501213622508557, 0.08269671539027348, 0.8618463255078477, 0.0005862045647918121, 9.511005882541852e-05, 0.04612837853032798, 0.004945723058921763, 0.06448461988363376, 0.8806240346645501, 0.003804402353016741, 0.03125312032290001, 0.9684408453303821, 0.00020294233975909096, 0.0005370283393505911, 0.00966651010831064, 0.9897432294231394, 0.221493145028265, 0.004992590511222984, 0.10015500398020195, 0.08170061071402146, 0.003840454239402295, 0.49596434564323216, 0.08465169660324638, 0.007195798469616932, 0.05781034279858908, 0.7895652785701558, 0.05060588164921808, 0.06213301948821167, 0.0021613383448112985, 0.026591011151314764, 0.004257181588264679, 0.006876985642581404, 0.9999845780143684, 0.9995039717922928, 0.999623481570187, 0.9994166265709667, 0.001485753903870836, 0.000742876951935418, 0.996940869497331, 0.012287033182279005, 0.9702367987863886, 0.017333493239286454, 0.08470357947672963, 0.008858781441653139, 0.05029062079953859, 0.7673749062650461, 0.015128072923438436, 0.05662805675395199, 0.017036118157025267, 0.18359243477009707, 2.4410641506461516e-05, 0.003490721735423997, 0.004442736754175996, 1.2205320753230758e-05, 0.7698872224722898, 0.0017819768299716906, 0.03677463142948428, 0.999697208456929, 0.988180925646016, 0.006608139235294844, 0.004355119496018136, 0.0008516199014490909, 0.9921643660420739, 0.007685239086305762, 0.00012808731810509604, 0.44263572834526316, 2.888512975367157e-05, 0.0013720436632993997, 0.01949746258372831, 0.5325262521386891, 0.00011554051901468629, 0.003841722257238319, 0.7560655994693248, 0.06270546974512377, 0.020461011510271788, 0.09403983746193137, 0.00179998126391978, 0.013554960946661202, 0.022150789839665865, 0.029240511960819286, 0.5979239270863252, 0.007538996524857398, 2.546958285424797e-05, 0.05445396814238215, 0.0027252453654045324, 0.0077936923533998784, 0.12212664978611901, 0.20742428276499544, 0.0015132788884081557, 0.0025221314806802594, 0.0012610657403401297, 0.9763170961713284, 0.018285453234931883, 0.4471354266354304, 0.013308065905176875, 0.2729225170334004, 0.11252427613820858, 0.019991325942476535, 0.016698407731678744, 0.11743442636969405, 0.0013344445361314823, 0.8026375936091759, 0.1958964579041016, 0.00010264957970242171, 0.9146072499652325, 0.0853542730213441, 0.5571056298028519, 0.2966335597912844, 0.002694538655292078, 0.020970539969447043, 0.03493137430664875, 0.0028507437947293, 0.012613565009555669, 0.07220582570485583, 0.0005958334433899886, 0.9986168511216209, 0.0005958334433899886, 0.006463552854290545, 0.9930787278270687, 0.9996241579221795, 0.9996628175652055, 0.8494872758440171, 9.476654125881493e-05, 0.016347228367145576, 0.08865409934762138, 4.7383270629407464e-05, 0.01942714095805706, 0.02596603230491529, 0.9621868015270559, 0.009421939064391998, 0.0006894101754433169, 0.00896233228076312, 0.0006894101754433169, 0.01792466456152624, 0.9938336784151061, 0.005691558510747303, 0.0009132124556181973, 0.07315114206343705, 2.8243684194377237e-05, 0.9206876173683092, 0.005196837891765412, 0.993800045165851, 0.006196428578125928, 0.014040898588803391, 0.9859601582578852, 0.000457491715334624, 0.9993144035292636, 0.09532065292458877, 0.8157539792431638, 0.01160443653589227, 0.018017414621516948, 0.008392682322237876, 0.04921881703154308, 0.00024219785873459367, 0.0014426568107234492, 0.03031291493918417, 0.009204198782227153, 0.00826906899727485, 0.9509114134579015, 0.0012923703769565523, 6.977814489532406e-05, 0.9999208163499939, 0.9995541556415894, 0.17420922252270502, 0.015919576517858167, 0.5703863971216895, 0.08033215157490352, 0.012466950011041037, 0.032839008675699576, 0.08492523842107653, 0.028933322582015038, 0.008286804899225246, 0.9738675514339508, 0.0014557900498638947, 0.010470489974021089, 0.005879152124450344, 0.9999772801040439, 0.9996857453331023, 0.9997881404078036, 0.06087475408482394, 0.9108895888040526, 0.00016587126453630502, 0.0003769801466734205, 0.027685421971696003, 0.9991132773353478, 0.9998265239454197, 0.0789465723363312, 0.064838473035721, 0.0007054049650305096, 0.0007641887121163855, 0.8547156826286342, 0.9995931276629789, 0.005403867067456789, 0.1570591822908542, 0.01883916959296862, 0.0049080994465891935, 0.013931070146379428, 0.7976405252138741, 0.0022805310559909386, 0.8217721547241091, 0.1561093454031279, 0.003543861576680202, 0.002870976467183961, 0.01484833141621705, 0.0008074621313954891, 0.9998127826752083, 0.09199468331036526, 0.0008524340558781064, 0.9071262249032458, 0.2568358766724079, 0.020341289973331567, 0.00029412824162351585, 0.0002786478078538571, 0.6731511820398401, 0.031100191443244385, 0.0180037444741131, 0.049622776150096595, 0.6226744019974029, 0.00021514985013978082, 0.0013216347937157966, 0.1835074543227945, 0.016305285071307674, 0.12635443341780558, 7.321769551355068e-05, 0.2696790770002856, 0.0009152211939193836, 0.008218686321396065, 1.830442387838767e-05, 9.152211939193836e-05, 0.720992952145812, 0.011224945974265663, 0.8802256728339563, 0.0006782444697441488, 0.005222482417029946, 0.018380425130066432, 6.782444697441487e-05, 0.08417013869524886, 0.9989723263138249, 0.9997482547578386, 0.9999323775954748, 0.014499673924834509, 0.008161493107391879, 0.03698719216754192, 0.011634468897771403, 0.06807032549143865, 0.002387670855885922, 0.002083785474227714, 0.8561319445259321, 0.9996340669677071, 0.9995910316105607, 0.9564015881961123, 0.0012670367695245472, 0.026150231104353848, 0.0161899142772581, 0.9632799374238381, 0.03666740453292203, 0.9744679943002534, 0.025504365075811868, 0.04206104048385874, 0.11410373574560795, 0.02134024808054394, 0.21120341315127594, 0.06662245808599422, 0.020194255077670028, 0.524462149126053, 0.999777834753152, 0.03975124379115149, 0.110147479366428, 0.2162235007496745, 0.4813953780560801, 0.036043308842182625, 1.8176151710631684e-05, 0.06719723287420533, 0.04920284268067997, 0.9996216923048546, 0.9993585992576823, 0.9996916473007758, 0.0018404769693960473, 0.9979066128065369, 0.00042274287774527375, 0.9993641629898271, 0.0026841706913676446, 0.00815987890175764, 0.010092481799542344, 0.9769307648301679, 0.00203996972543941, 0.005443479086779849, 0.9945236291546785, 0.9995732023447292, 0.012141290965276445, 0.9873297812962805, 0.9971334417482677, 0.0017956662015996177, 0.00101754418090645, 0.04172278427762695, 0.9572095254063905, 0.0008692246724505614, 0.9997018013309157, 0.9998526716726649, 0.02533643351489043, 0.06857467140516676, 0.9061443384109268, 0.18484308124355417, 0.00031597107904881053, 0.0016746467189586959, 0.016430496110538147, 0.013902727478147664, 0.7213619734684344, 0.013586756399098853, 0.04790121558379968, 0.10057350471809128, 0.011894751038774257, 0.8867875367931702, 0.0007736423439853175, 5.166641919447767e-05, 0.16714086609413528, 5.166641919447767e-05, 0.8326560117382021, 0.00010333283838895534, 0.00011647460099619896, 0.07046713360270036, 0.01665586794245645, 0.0018635936159391833, 0.910365481386291, 0.00034942380298859686, 0.9998517298790174, 0.04716486654640255, 0.008347090421606475, 0.2270713047823038, 0.6045170926310561, 0.018343302051129124, 0.06380830519860269, 0.030724396658253623, 0.999669778640963, 0.9999193979800324, 0.9997239724430083, 0.9994237703053107, 0.8911614168853863, 0.10875782890177442, 0.09697474090907164, 0.0036324393945319187, 0.8991236745210714, 0.0002531316651241755, 0.9997429006659404, 0.04493437252028889, 0.020673350765689658, 0.040606643838599764, 0.15520296874444214, 0.46642940497966895, 0.0784622036453451, 0.19370205697969142, 0.9997105939738522, 0.5334215892256147, 0.18013036245466638, 0.007687224233936166, 0.028406843360786225, 0.022816134827014466, 0.028444618418446845, 0.1990934414002976, 0.9993917331991993, 0.999783986603485, 0.9997430513800826, 0.9646902629082559, 0.010929860005974304, 0.024331950251395177, 0.022773581212826632, 0.2203248562307962, 0.0118638907714865, 0.0006679402311024571, 0.6709936721589255, 0.009987296788865311, 0.06339070859939033, 0.7144878267884193, 0.16331966109115373, 0.002070048151942071, 0.006816882707257509, 0.08522887908340802, 0.027053387916760166, 0.0009993335905927238, 0.06512507206033781, 0.03855942304433082, 0.004932019226600454, 0.6082076437166832, 0.07924858166378457, 0.1530607330437027, 0.050861448274317184, 0.961580053327338, 0.03721369132933483, 0.0010865311337032067, 0.9999525900372125, 0.9997228608624404, 0.017297771314756974, 0.07895128024668406, 0.03333927990833048, 0.035948440944634605, 0.530046232745486, 0.001932711878743796, 0.03071401293970349, 0.27177150201602346, 0.037027941731914094, 0.9629492094913119, 0.0019444262464130063, 0.0016666510683540053, 0.9961017885195772, 0.18323226981540636, 0.04834773443794603, 0.01798460471699471, 0.08766554182133406, 0.008126934349102213, 0.005342706840613491, 0.027315529340037992, 0.6220114752748045, 0.03164262062321214, 0.004633856576621024, 0.00019859385328375819, 0.001985938532837582, 0.9535152875664177, 0.008009952082444913, 0.005433293558148711, 0.06704720838590918, 0.6548490781397012, 0.21791714769248297, 0.00038417227178829267, 0.0004207601071967015, 0.0001463513416336353, 0.05380241196806518, 0.037629206436257716, 0.19748089032361654, 0.2030072919289415, 0.015440807481544696, 0.12127036331685036, 0.0046984762711938955, 0.42044118280511716, 0.09832001339870337, 0.35580538340194673, 0.06587693448626816, 0.08225388988937168, 0.030208974675950157, 0.0029334759974716873, 0.018358508725898972, 0.3462473026684628, 0.00020809349583429952, 0.0011653235766720773, 0.0029549276408470534, 0.012485609750057972, 0.0011237048775052175, 0.9358796881651787, 0.045822187782712756, 0.00033294959333487925, 0.9987219144478351, 0.008146945662872452, 0.956130885254162, 0.02350594158468117, 0.012153640251170378, 0.9734977635397564, 0.0043790556837428486, 0.005774578923616944, 0.016361306950248008, 0.9986487294838086, 1.7259815537354376e-05, 0.9999560430643945, 1.7259815537354376e-05, 0.03142310348126764, 0.0003312676571820384, 7.887325171000913e-05, 0.00974873391135713, 0.5862806546108399, 0.023425355757872714, 0.029230427083729384, 0.319499768026905, 0.9998144037109534, 0.0027749261414518078, 0.9969552828197767, 0.042627855273470114, 0.08006366727487743, 0.00012783439874397033, 1.9666830575995436e-05, 0.001573346446079635, 0.03876332306528701, 0.8368236410086058, 0.07061744950951435, 0.0004676652285398301, 0.007950308885177112, 0.9208328349949254, 0.00844512214676174, 0.03362263583664019, 0.018389845422387713, 0.002446717631304803, 0.9365403681633159, 0.0005524846264236652, 0.0009202984552255258, 0.0021281901777090288, 0.021511976390896668, 0.9747111013907351, 0.0006902238414191444, 0.01581064116599204, 0.9820448246812151, 0.0018488249750555207, 0.00025501034138696835, 0.4617706020742569, 0.21344600639683714, 0.0009187059098859562, 0.02881835380484368, 0.049174942650211446, 0.07020847269233728, 0.10463576784174786, 0.07101435506943023, 0.05724338545148561, 0.0821278867404549, 0.014700372358547192, 0.0743373668269391, 0.6773236081330615, 0.03037173705414128, 0.06388226329082951, 0.06114091568226371, 0.014772633364845938, 0.03910548263637311, 0.01588428637725073, 0.08369512013394322, 0.7731917252279482, 0.005681782063402284, 0.0065464010730504575, 0.10180726811340012, 0.7302467558846294, 0.003039288206597664, 0.13058275119224, 0.034320851034737365, 6.168779253470485e-05, 0.008348414589696722, 2.0562597511568283e-05, 0.004194769892359929, 0.02642293780236524, 0.9609518695081205, 0.9969639011443613, 0.0026497379432408276, 0.7099016229155429, 0.0020690926259396896, 0.049090236811510285, 0.002231374400523195, 0.0033673468226077304, 0.19242561421239116, 0.01748586121137267, 0.023449716427316483, 0.06580865682891511, 0.8195795510855476, 0.023209574852936066, 0.019100338649465417, 0.005752930684858906, 0.05719448019497294, 0.004383185283702024, 0.004946302837510965, 0.017110212133227005, 0.9370022600142806, 0.01942445368561469, 0.012899051275603507, 0.0004931990193613106, 0.011836776464671453, 0.0011760899692462021, 0.043897300364227704, 0.9279787425625583, 0.004236922978192863, 0.0016438335052005098, 0.0006714249528283773, 0.02155505624424894, 0.9996288211761922, 0.013116960647939862, 0.04783053327178071, 0.9388563954676956, 0.04965757946401458, 0.10966491853080736, 0.018058912731559906, 0.5227869152780036, 0.06989632170095414, 0.14571185522952457, 0.0842158521102774, 0.04382162989618734, 0.08935329964241254, 0.01980672243696014, 0.5726551709983273, 0.04569523877535925, 0.21409698922473883, 0.014572513504670374, 0.999820770644624, 0.9997063613529052, 0.010375840344247003, 0.004446788718963001, 0.047926500637712345, 0.0779246785037326, 0.0014116789584009528, 0.059008180461159826, 0.7989397065070192, 0.0011086802470774457, 0.09699979635395126, 0.0023924152700092248, 0.19798695149125123, 0.5069197298128489, 0.12296625477234406, 0.0716168538550729, 0.06447243689863762, 0.00639892962391141, 0.00012883750920627, 0.0014923678149726274, 0.9257726588607536, 0.00060124170962926, 0.001138064664655385, 0.9998679238511237, 0.004376668543278378, 0.9559519432228634, 0.02442181047149335, 0.015230806530608756, 0.13105599742121857, 0.0005412096462756802, 0.0005412096462756802, 0.8678088520474272, 0.02132840946009806, 0.011274805000877403, 0.00028400012596668523, 0.026213211626725047, 0.08531363784039224, 0.8555219794620426, 5.6800025193337046e-05, 0.0007460207854366843, 0.05281827160891725, 0.9462527642478904, 0.9999405082153441, 0.03847326727562354, 0.42317773382417895, 0.5375256997592067, 0.0008179800227222015, 0.0031931350216720636, 0.9962581267616839, 0.999910551955448, 0.9994932863415125, 0.9995262743348111, 0.9980729350495918, 0.9989432909183328, 0.0006757226319627955, 0.00028155109665116483, 0.024029950485074957, 0.07005704175256938, 0.0009415118622825451, 0.07037801170562025, 0.00032096995305086766, 0.09117686466331647, 0.7430882373064988, 0.19115350282239377, 0.10920094315582836, 0.05637641284243798, 0.003253731805806377, 0.10428793775980996, 0.09846751711914438, 0.43725748024563704, 0.9996439058453143, 0.998444513309504, 0.0008278976063926236, 0.028697837804820357, 0.9710474900696279, 0.00015596650980880629, 0.9990334862097275, 0.9997642450099002, 0.032588172256254475, 0.006809468829665114, 0.7902327777997529, 0.04009682761753699, 0.002675148468797009, 0.005623891667357349, 0.09545416127298419, 0.026538688787043057, 0.9782455049341721, 0.0015501244285439984, 0.020180865201799226, 0.005421854184272462, 0.9945609822683841, 0.9994475137336164, 0.9994195389265889, 0.9996270200023157, 0.17829386708638184, 0.11301815496690666, 2.5975213736360988e-05, 0.6792778144195762, 0.004571637617599534, 0.024780353904488385, 0.9999443048447815, 0.00011156348368094348, 0.016139517305843155, 0.007437565578729565, 0.9754739134782762, 0.0005578174184047174, 0.0002975026231491826, 0.04949545431053863, 0.03267732676537796, 0.0377522705158475, 0.21823733401365067, 0.5734538910595968, 0.0026407410794594384, 0.027646641245290433, 0.05808155100464697, 0.025918090240112764, 0.06638911885034232, 0.015176635728836084, 6.929970652436568e-05, 0.09674239030801449, 0.007830866837253321, 0.787799063768989, 2.4416211862155503e-05, 0.9329922876766861, 0.06697366913789254, 0.9165118221476305, 0.08342910711209156, 0.07607599532146395, 0.04270105798002281, 0.0009430908510925282, 0.02478233180926477, 0.001309848404295178, 0.0012574544681233709, 0.11343287181196242, 0.7394356211927139, 1.7675991648330345e-05, 0.972497708507839, 1.7675991648330345e-05, 0.003429142379776087, 0.006381032985047255, 7.070396659332138e-05, 0.0003004918580216159, 0.017269443840418747, 0.9994516796030356, 0.0017071775628257175, 0.0006449337459563822, 0.9715737196437028, 0.02606291079247262, 0.0028745548279143123, 0.9970598745965643, 4.106506897020446e-05, 0.0036636785152314956, 0.007198806907121535, 0.014269063690901614, 0.9557701670437253, 0.019153968377876942, 0.9974497878199109, 0.0024235156246925986, 0.9928751425963465, 0.0065287692735217515, 0.5844198125754062, 0.0063422862998173, 0.03357037748351571, 0.033515702601620734, 0.0017222587796917668, 0.013504695828059252, 0.3269557937319608, 0.9737959114034022, 0.00017395425355544875, 0.004812734348367416, 0.0019134967891099365, 0.009335544940809083, 0.009973377203845729, 0.4902427554914368, 0.07650807905526107, 0.24798541408612756, 0.01163856805847796, 0.01028864010185199, 0.04352605546634548, 0.013499279566259704, 0.10631594771913723, 0.004558422539281842, 0.08323012470503381, 0.0547010704713821, 0.12523432068895282, 0.5583956429582713, 0.0008005034703129088, 0.17308663924765783, 0.001777080044330885, 0.9980525798973333, 0.006938601301522218, 0.04844968749995911, 0.04634916799925015, 0.05993367526203186, 0.4697932384946284, 0.0072657313876982035, 0.08853173174299564, 0.27274040500598873, 0.004247594724100544, 0.9953530303475607, 0.010436601553051924, 0.034249511615673474, 0.05000069255736438, 0.5651554531034575, 0.16262099443304032, 0.16340406047822625, 0.014133700258192088, 0.9995933766658007, 0.005675403160539241, 0.00019706260974094585, 0.7715395296577512, 0.09914219896066985, 0.004098902282611673, 0.1182178595835934, 0.0011232568755233912, 0.46559624118790716, 0.2453961740320521, 0.040043812713956, 0.05744794173314729, 0.06153821882343902, 0.06933019668044475, 0.060658809249026294, 0.0387962461449311, 0.0791793860392927, 0.036448965807231816, 0.11693423316116004, 0.5043016094544346, 0.0005124344399202659, 0.19103886523091979, 0.03279580415489702, 0.0751177439041143, 0.7019462528148587, 0.0001682158982674866, 0.0005981009716177302, 0.09083658506444278, 3.738131072610814e-05, 0.03123208511166335, 0.10005107815842844, 0.99985734010474, 0.1455454821960629, 0.026736211798142836, 0.004822787176208207, 0.37782778318856997, 0.014321660778017527, 0.021216596056550935, 0.17444553006566035, 0.23510629044169362, 0.08496572311741603, 0.0034737651789373603, 0.0034480335850193057, 0.09837188354872244, 0.0029334017066582154, 0.7598025052123139, 0.018809795154097857, 0.028201826934187754, 0.9999552548702592, 0.9996516127076729, 0.9994321164007877, 0.023876973457271432, 0.8087511826675012, 0.01621218625795278, 0.03158821391234353, 9.290651150689273e-05, 0.11947777379786405, 0.9996518575901603, 0.9991604911120981, 0.9998480988433963], \"Term\": [\"0\", \"0\", \"0\", \"0\", \"0\", \"0\", \"0\", \"0\", \"00\", \"00\", \"11\", \"11\", \"11\", \"11\", \"11\", \"11\", \"11\", \"11\", \"11594\", \"12\", \"12\", \"12\", \"12\", \"12\", \"12\", \"12\", \"12\", \"13f\", \"1968\", \"1968\", \"1968\", \"1968\", \"1968\", \"1968\", \"200day\", \"2021\", \"2021\", \"2021\", \"2021\", \"2021\", \"2021\", \"2021\", \"2021\", \"2544100\", \"3point\", \"501c93\", \"50day\", \"60201847\", \"60606v9h8q4\", \"7\", \"7\", \"7\", \"7\", \"7\", \"7\", \"7\", \"7\", \"7578082\", \"80\", \"80\", \"80\", \"80\", \"80\", \"80\", \"80\", \"80\", \"9207220there\", \"abbie\", \"abdulmateen\", \"abortion\", \"abortion\", \"abortion\", \"abortion\", \"abreu\", \"abreu\", \"account\", \"account\", \"account\", \"account\", \"account\", \"account\", \"account\", \"account\", \"actuarial\", \"actuarial\", \"actuarial\", \"adultuse\", \"adultuse\", \"agent\", \"agent\", \"agent\", \"agent\", \"agent\", \"agent\", \"agent\", \"agent\", \"aggravated\", \"airfare\", \"airline\", \"airline\", \"airline\", \"airline\", \"airport\", \"airport\", \"airport\", \"airport\", \"airport\", \"album\", \"allegedly\", \"allegedly\", \"allegedly\", \"always\", \"always\", \"always\", \"always\", \"always\", \"always\", \"always\", \"american\", \"american\", \"american\", \"american\", \"american\", \"american\", \"american\", \"american\", \"amidei\", \"amtrak\", \"amtrak\", \"analyst\", \"analyst\", \"analyst\", \"analyst\", \"analyst\", \"analyst\", \"analyst\", \"antibody\", \"antibody\", \"antiwar\", \"application\", \"application\", \"application\", \"application\", \"application\", \"arrest\", \"arrest\", \"arrest\", \"arrest\", \"arrested\", \"arrested\", \"art\", \"art\", \"art\", \"art\", \"arwady\", \"arwady\", \"associated\", \"associated\", \"associated\", \"associated\", \"associated\", \"associated\", \"associated\", \"associated\", \"attorney\", \"attorney\", \"attorney\", \"attorney\", \"attorney\", \"average\", \"average\", \"average\", \"average\", \"average\", \"average\", \"average\", \"average\", \"ayo\", \"badger\", \"ballot\", \"ballot\", \"bancshares\", \"bankruptcy\", \"bankruptcy\", \"bankruptcy\", \"baron\", \"baron\", \"baron\", \"baron\", \"baseball\", \"baseball\", \"baseball\", \"baseball\", \"baseball\", \"baseball\", \"baseman\", \"basketball\", \"basketball\", \"basketball\", \"basketball\", \"batting\", \"bear\", \"bear\", \"bear\", \"bear\", \"bear\", \"bear\", \"bear\", \"beardstown\", \"bed\", \"bed\", \"bed\", \"bed\", \"bed\", \"bed\", \"beta\", \"biden\", \"biden\", \"biden\", \"biden\", \"bielema\", \"big\", \"big\", \"big\", \"big\", \"big\", \"big\", \"big\", \"big\", \"billion\", \"billion\", \"billion\", \"billion\", \"billion\", \"bit\", \"bit\", \"bit\", \"bit\", \"bit\", \"bit\", \"bit\", \"bit\", \"black\", \"black\", \"black\", \"black\", \"black\", \"black\", \"black\", \"black\", \"blackhawks\", \"blackhawks\", \"block\", \"block\", \"block\", \"block\", \"block\", \"block\", \"block\", \"block\", \"board\", \"board\", \"board\", \"board\", \"board\", \"board\", \"board\", \"board\", \"boosted\", \"boosted\", \"boosted\", \"boosted\", \"borrower\", \"borrower\", \"boylen\", \"branico\", \"brewery\", \"brewery\", \"bribery\", \"bribery\", \"broker\", \"broker\", \"broker\", \"building\", \"building\", \"building\", \"building\", \"building\", \"building\", \"building\", \"building\", \"bull\", \"bull\", \"bull\", \"bull\", \"bullpen\", \"burglary\", \"bushel\", \"bushel\", \"buy\", \"buy\", \"buy\", \"buy\", \"buy\", \"buy\", \"buy\", \"buy\", \"cafe\", \"cafe\", \"campaign\", \"campaign\", \"campaign\", \"campaign\", \"campaign\", \"campaign\", \"campaign\", \"campus\", \"campus\", \"campus\", \"campus\", \"campus\", \"campus\", \"campus\", \"cannabis\", \"cannabis\", \"cannabis\", \"cannabis\", \"capitalization\", \"car\", \"car\", \"car\", \"car\", \"car\", \"car\", \"care\", \"care\", \"care\", \"care\", \"care\", \"care\", \"care\", \"care\", \"carjacking\", \"casecase\", \"cash\", \"cash\", \"cash\", \"cash\", \"cash\", \"cash\", \"cash\", \"cash\", \"cast\", \"cast\", \"cast\", \"cast\", \"cast\", \"catanzara\", \"catcher\", \"catcher\", \"caucus\", \"caucus\", \"caucus\", \"caucus\", \"cbd\", \"charge\", \"charge\", \"charge\", \"charge\", \"charge\", \"charge\", \"charge\", \"charged\", \"charged\", \"charged\", \"charged\", \"charged\", \"charged\", \"charged\", \"cheese\", \"cheese\", \"chef\", \"chef\", \"chicagoaneinu\", \"chicagoillinois\", \"chicken\", \"chicken\", \"citigroup\", \"class\", \"class\", \"class\", \"class\", \"class\", \"class\", \"class\", \"class\", \"classroom\", \"classroom\", \"classroom\", \"client\", \"client\", \"client\", \"client\", \"client\", \"client\", \"client\", \"clipin\", \"closed\", \"closed\", \"closed\", \"closed\", \"closed\", \"closed\", \"closed\", \"closed\", \"co\", \"co\", \"co\", \"co\", \"co\", \"co\", \"co\", \"co\", \"coach\", \"coach\", \"coach\", \"coach\", \"coach\", \"cockburn\", \"commercial\", \"commercial\", \"commercial\", \"commercial\", \"commercial\", \"commercial\", \"commercial\", \"committee\", \"committee\", \"committee\", \"committee\", \"committee\", \"committee\", \"condition\", \"condition\", \"condition\", \"condition\", \"condition\", \"condition\", \"condition\", \"condition\", \"conference\", \"conference\", \"conference\", \"conference\", \"conference\", \"conference\", \"conference\", \"conference\", \"confirmed\", \"confirmed\", \"confirmed\", \"confirmed\", \"confirmed\", \"confirmed\", \"confirmed\", \"consensus\", \"consensus\", \"consensus\", \"consensus\", \"consensus\", \"consensus\", \"consumer\", \"consumer\", \"consumer\", \"consumer\", \"consumer\", \"contractor\", \"contractor\", \"contractor\", \"contractor\", \"corn\", \"corn\", \"corn\", \"corn\", \"corn\", \"correction\", \"correction\", \"correction\", \"correction\", \"correction\", \"corruption\", \"corruption\", \"cost\", \"cost\", \"cost\", \"cost\", \"cost\", \"cost\", \"cost\", \"cost\", \"counseling\", \"court\", \"court\", \"court\", \"court\", \"court\", \"court\", \"court\", \"cpd\", \"cps\", \"cps\", \"cps\", \"credit\", \"credit\", \"credit\", \"credit\", \"credit\", \"credit\", \"credit\", \"credit\", \"cresco\", \"crime\", \"crime\", \"crime\", \"crime\", \"criminal\", \"criminal\", \"criminal\", \"criminal\", \"ctu\", \"ctus\", \"cub\", \"cub\", \"cuisine\", \"cultivation\", \"custody\", \"custody\", \"custody\", \"custody\", \"customer\", \"customer\", \"customer\", \"customer\", \"customer\", \"customer\", \"customer\", \"dance\", \"dance\", \"dance\", \"dance\", \"dead\", \"dead\", \"dead\", \"dead\", \"dead\", \"dead\", \"dead\", \"dead\", \"debt\", \"debt\", \"debt\", \"debttoequity\", \"deck\", \"deck\", \"deck\", \"deck\", \"deck\", \"deck\", \"decking\", \"defensive\", \"defensive\", \"defensive\", \"defensive\", \"delinquent\", \"dellinger\", \"democrat\", \"democrat\", \"democrat\", \"democratic\", \"democratic\", \"democratic\", \"democratic\", \"design\", \"design\", \"design\", \"design\", \"design\", \"design\", \"design\", \"deutsche\", \"development\", \"development\", \"development\", \"development\", \"development\", \"development\", \"development\", \"development\", \"didnt\", \"didnt\", \"didnt\", \"didnt\", \"didnt\", \"didnt\", \"didnt\", \"diocese\", \"disease\", \"disease\", \"disease\", \"disease\", \"disease\", \"disease\", \"disease\", \"dispensary\", \"dispensary\", \"district\", \"district\", \"district\", \"district\", \"district\", \"dividend\", \"dmp\", \"doordash\", \"dos\", \"dos\", \"dosunmu\", \"draft\", \"draft\", \"draft\", \"draft\", \"draft\", \"draft\", \"draft\", \"e96\", \"earnings\", \"earnings\", \"earns\", \"earns\", \"earns\", \"education\", \"education\", \"education\", \"education\", \"education\", \"educator\", \"educator\", \"educator\", \"educator\", \"election\", \"election\", \"election\", \"electoral\", \"elementary\", \"elementary\", \"elementary\", \"elementary\", \"elementary\", \"elementary\", \"eloy\", \"eloy\", \"energy\", \"energy\", \"energy\", \"energy\", \"energy\", \"energy\", \"energy\", \"energy\", \"enforcement\", \"enforcement\", \"enforcement\", \"enforcement\", \"enforcement\", \"engine\", \"engine\", \"engine\", \"engine\", \"engine\", \"epa\", \"epa\", \"epa\", \"epa\", \"episode\", \"episode\", \"episode\", \"episode\", \"eps\", \"eps\", \"eps\", \"eps\", \"equity\", \"equity\", \"equity\", \"equity\", \"equity\", \"equity\", \"essay\", \"essay\", \"essay\", \"estate\", \"estate\", \"estate\", \"estate\", \"estate\", \"estate\", \"etf\", \"event\", \"event\", \"event\", \"event\", \"event\", \"event\", \"event\", \"eviction\", \"eviction\", \"exdividend\", \"experience\", \"experience\", \"experience\", \"experience\", \"experience\", \"experience\", \"experience\", \"experiencefor\", \"expertise\", \"expertise\", \"expertise\", \"extension\", \"extension\", \"extension\", \"extension\", \"extension\", \"extradition\", \"ezike\", \"faa\", \"fan\", \"fan\", \"fan\", \"fan\", \"fan\", \"fan\", \"fan\", \"fatally\", \"fc\", \"fdcpa\", \"federal\", \"federal\", \"federal\", \"federal\", \"federal\", \"federal\", \"feel\", \"feel\", \"feel\", \"feel\", \"feel\", \"feel\", \"feel\", \"felon\", \"female\", \"female\", \"female\", \"female\", \"female\", \"field\", \"field\", \"field\", \"field\", \"field\", \"field\", \"field\", \"field\", \"fielder\", \"film\", \"film\", \"film\", \"film\", \"film\", \"film\", \"financial\", \"financial\", \"financial\", \"financial\", \"financial\", \"financial\", \"financial\", \"financing\", \"financing\", \"financing\", \"financing\", \"fire\", \"fire\", \"fire\", \"fire\", \"fire\", \"fire\", \"fire\", \"fire\", \"firearm\", \"firearm\", \"firearm\", \"fired\", \"fired\", \"fired\", \"firstdegree\", \"flickr\", \"flickr\", \"flight\", \"flight\", \"flight\", \"flight\", \"flight\", \"flight\", \"flight\", \"flight\", \"floyd\", \"floyd\", \"floyd\", \"floyd\", \"floyds\", \"floyds\", \"floyds\", \"floyds\", \"floyds\", \"flute\", \"foles\", \"food\", \"food\", \"food\", \"food\", \"food\", \"food\", \"food\", \"football\", \"football\", \"football\", \"football\", \"football\", \"former\", \"former\", \"former\", \"former\", \"former\", \"former\", \"former\", \"forwardlooking\", \"freestyle\", \"freund\", \"functionality\", \"fund\", \"fund\", \"fund\", \"fund\", \"fund\", \"fund\", \"fund\", \"garnishment\", \"getting\", \"getting\", \"getting\", \"getting\", \"getting\", \"getting\", \"getting\", \"ginsburg\", \"goal\", \"goal\", \"goal\", \"goal\", \"goal\", \"goal\", \"goal\", \"gordonlevitt\", \"got\", \"got\", \"got\", \"got\", \"got\", \"got\", \"got\", \"gov\", \"gov\", \"gov\", \"gov\", \"governor\", \"governor\", \"governor\", \"governor\", \"governor\", \"great\", \"great\", \"great\", \"great\", \"great\", \"great\", \"great\", \"great\", \"grubhub\", \"gun\", \"gun\", \"gun\", \"gun\", \"gunfire\", \"gunman\", \"gunshot\", \"gust\", \"gutter\", \"gutter\", \"guy\", \"guy\", \"guy\", \"guy\", \"guy\", \"guy\", \"hair\", \"hair\", \"hair\", \"hair\", \"hair\", \"halstead\", \"handgun\", \"he\", \"he\", \"he\", \"he\", \"he\", \"he\", \"hedge\", \"hedge\", \"hemp\", \"history\", \"history\", \"history\", \"history\", \"history\", \"history\", \"history\", \"hit\", \"hit\", \"hit\", \"hit\", \"hit\", \"hit\", \"hit\", \"hit\", \"hitler\", \"hitter\", \"hitter\", \"hoffman\", \"hoffman\", \"hoffman\", \"hoffman\", \"hoffman\", \"hoffman\", \"hold\", \"hold\", \"hold\", \"hold\", \"hold\", \"hold\", \"hold\", \"hold\", \"holding\", \"holding\", \"holding\", \"holding\", \"holding\", \"holding\", \"holding\", \"holding\", \"holdingschannelcom\", \"homeadvisor\", \"homer\", \"homer\", \"homer\", \"homer\", \"homicide\", \"hospital\", \"hospital\", \"hospital\", \"hospital\", \"hospital\", \"hospital\", \"hospitalization\", \"hospitalization\", \"hotel\", \"hotel\", \"hotel\", \"hotel\", \"hotel\", \"hotel\", \"hotel\", \"hyderabad\", \"icu\", \"ides\", \"ides\", \"idnr\", \"idph\", \"idx\", \"il\", \"il\", \"il\", \"il\", \"il\", \"il\", \"il\", \"il\", \"illini\", \"illinoisconsumercreditcounseling\", \"im\", \"im\", \"im\", \"im\", \"im\", \"im\", \"im\", \"inc\", \"inc\", \"inc\", \"inc\", \"inc\", \"inc\", \"inc\", \"incident\", \"incident\", \"incident\", \"incident\", \"incident\", \"increase\", \"increase\", \"increase\", \"increase\", \"increase\", \"increase\", \"increase\", \"increase\", \"individual\", \"individual\", \"individual\", \"individual\", \"individual\", \"individual\", \"individual\", \"individual\", \"industrial\", \"industrial\", \"industrial\", \"industrial\", \"industry\", \"industry\", \"industry\", \"industry\", \"industry\", \"industry\", \"infection\", \"infection\", \"infection\", \"infection\", \"infection\", \"infield\", \"inning\", \"inning\", \"inperson\", \"inperson\", \"inperson\", \"inperson\", \"inschool\", \"insider\", \"insider\", \"insider\", \"insider\", \"insider\", \"insider\", \"insider\", \"insider\", \"institutional\", \"institutional\", \"institutional\", \"institutional\", \"interception\", \"internet\", \"internet\", \"internet\", \"internet\", \"internet\", \"internet\", \"internet\", \"investment\", \"investment\", \"investment\", \"investment\", \"investment\", \"investment\", \"investor\", \"investor\", \"investor\", \"investor\", \"ishares\", \"issue\", \"issue\", \"issue\", \"issue\", \"issue\", \"issue\", \"issue\", \"issue\", \"itto\", \"itw\", \"ive\", \"ive\", \"ive\", \"ive\", \"ive\", \"ive\", \"ive\", \"janice\", \"janice\", \"jb\", \"jb\", \"jb\", \"jb\", \"job\", \"job\", \"job\", \"job\", \"job\", \"job\", \"job\", \"jobless\", \"jordan\", \"jordan\", \"jordan\", \"jordan\", \"jordan\", \"jordan\", \"jordan\", \"judge\", \"judge\", \"judge\", \"judge\", \"judge\", \"judge\", \"judge\", \"jussie\", \"justice\", \"justice\", \"justice\", \"justice\", \"justice\", \"justice\", \"justice\", \"justice\", \"k8\", \"kardashian\", \"kardashian\", \"karnisovas\", \"kenosha\", \"kilbride\", \"killed\", \"killed\", \"killed\", \"killed\", \"killed\", \"killed\", \"killing\", \"killing\", \"killing\", \"killing\", \"killing\", \"killing\", \"killing\", \"kinzinger\", \"kofi\", \"kunstler\", \"lake\", \"lake\", \"lake\", \"lake\", \"lake\", \"lake\", \"lake\", \"lake\", \"langella\", \"lausch\", \"law\", \"law\", \"law\", \"law\", \"law\", \"law\", \"lead\", \"lead\", \"lead\", \"lead\", \"lead\", \"lead\", \"lead\", \"leader\", \"leader\", \"leader\", \"leader\", \"leader\", \"leader\", \"leader\", \"league\", \"league\", \"league\", \"league\", \"league\", \"league\", \"learning\", \"learning\", \"learning\", \"learning\", \"learning\", \"learning\", \"learning\", \"learning\", \"left\", \"left\", \"left\", \"left\", \"left\", \"left\", \"left\", \"lender\", \"lender\", \"lending\", \"lending\", \"lending\", \"lending\", \"libertyville\", \"libertyville\", \"libertyville\", \"libertyville\", \"lightfoot\", \"lightfoot\", \"lightfoot\", \"lightfoot\", \"lil\", \"lipinski\", \"little\", \"little\", \"little\", \"little\", \"little\", \"little\", \"little\", \"llc\", \"llc\", \"llc\", \"llc\", \"llc\", \"llc\", \"llc\", \"llcs\", \"loan\", \"loan\", \"loan\", \"loan\", \"location\", \"location\", \"location\", \"location\", \"location\", \"location\", \"location\", \"logo\", \"logo\", \"logo\", \"logo\", \"logo\", \"logo\", \"looted\", \"looter\", \"looting\", \"love\", \"love\", \"love\", \"love\", \"love\", \"love\", \"love\", \"lovie\", \"madigan\", \"madigan\", \"madigan\", \"madigans\", \"mailin\", \"mailin\", \"mailin\", \"male\", \"male\", \"male\", \"male\", \"male\", \"man\", \"man\", \"man\", \"man\", \"man\", \"man\", \"man\", \"management\", \"management\", \"management\", \"management\", \"management\", \"management\", \"management\", \"management\", \"marathon\", \"marathon\", \"marathon\", \"marathon\", \"marathon\", \"market\", \"market\", \"market\", \"market\", \"market\", \"market\", \"market\", \"market\", \"marketing\", \"marketing\", \"marketing\", \"marketing\", \"marketing\", \"mask\", \"mask\", \"mask\", \"mask\", \"mask\", \"mask\", \"match\", \"match\", \"match\", \"match\", \"match\", \"match\", \"match\", \"materially\", \"mayor\", \"mayor\", \"mayor\", \"mayor\", \"mayor\", \"me\", \"me\", \"me\", \"me\", \"me\", \"me\", \"me\", \"meal\", \"meal\", \"meal\", \"meal\", \"med\", \"med\", \"medical\", \"medical\", \"medical\", \"medical\", \"medical\", \"medical\", \"medical\", \"medicalsurgical\", \"meteorite\", \"meteorologist\", \"method\", \"method\", \"method\", \"method\", \"method\", \"method\", \"midillinois\", \"midwest\", \"midwest\", \"midwest\", \"midwest\", \"midwest\", \"midwest\", \"midwest\", \"minnesota\", \"minnesota\", \"minnesota\", \"minnesota\", \"minnesota\", \"minnesota\", \"minnesota\", \"mitigation\", \"mitigation\", \"mitigation\", \"mlb\", \"mlb\", \"mmr\", \"money\", \"money\", \"money\", \"money\", \"money\", \"money\", \"money\", \"money\", \"mred\", \"murder\", \"murder\", \"murder\", \"museum\", \"museum\", \"museum\", \"museum\", \"museum\", \"music\", \"music\", \"music\", \"music\", \"music\", \"music\", \"n95\", \"nagy\", \"national\", \"national\", \"national\", \"national\", \"national\", \"national\", \"national\", \"national\", \"ncaa\", \"nebraska\", \"nebraska\", \"nebraska\", \"nebraska\", \"nebraska\", \"nebraska\", \"never\", \"never\", \"never\", \"never\", \"never\", \"never\", \"never\", \"nfl\", \"nfl\", \"ngozi\", \"nhl\", \"nickelanddime\", \"nl\", \"nl\", \"no\", \"no\", \"no\", \"no\", \"no\", \"no\", \"no\", \"noncommercial\", \"north\", \"north\", \"north\", \"north\", \"north\", \"north\", \"north\", \"north\", \"nyseitw\", \"obama\", \"obama\", \"obama\", \"obama\", \"obtain\", \"obtain\", \"obtain\", \"obtain\", \"obtain\", \"obtain\", \"oem\", \"offender\", \"offender\", \"offender\", \"offensive\", \"offensive\", \"offensive\", \"offensive\", \"offensive\", \"offer\", \"offer\", \"offer\", \"offer\", \"offer\", \"offer\", \"offer\", \"offer\", \"ohare\", \"ohare\", \"ohare\", \"ohare\", \"oiler\", \"online\", \"online\", \"online\", \"online\", \"online\", \"online\", \"online\", \"online\", \"open\", \"open\", \"open\", \"open\", \"open\", \"open\", \"open\", \"open\", \"optimisation\", \"optimization\", \"ord\", \"organization\", \"organization\", \"organization\", \"organization\", \"organization\", \"organization\", \"organization\", \"organization\", \"oshea\", \"outfielder\", \"owensillinois\", \"owns\", \"owns\", \"owns\", \"owns\", \"owns\", \"owns\", \"packer\", \"pantry\", \"pantry\", \"pantry\", \"parent\", \"parent\", \"parent\", \"parent\", \"parent\", \"parent\", \"parent\", \"park\", \"park\", \"park\", \"park\", \"park\", \"park\", \"park\", \"park\", \"party\", \"party\", \"party\", \"party\", \"party\", \"party\", \"pastdue\", \"patient\", \"patient\", \"patient\", \"patient\", \"patient\", \"patient\", \"payday\", \"payday\", \"pd\", \"pd\", \"pd\", \"pe\", \"pe\", \"penn\", \"penn\", \"pfleger\", \"phase\", \"phase\", \"phase\", \"phase\", \"phase\", \"phase\", \"photo\", \"photo\", \"photo\", \"photo\", \"photo\", \"photo\", \"photo\", \"pier\", \"pier\", \"pier\", \"pier\", \"pier\", \"pippen\", \"pippen\", \"pitch\", \"pitch\", \"pitch\", \"pitch\", \"pitcher\", \"pitcher\", \"pitching\", \"pizza\", \"pizza\", \"pizza\", \"play\", \"play\", \"play\", \"play\", \"play\", \"play\", \"play\", \"play\", \"player\", \"player\", \"player\", \"player\", \"player\", \"player\", \"player\", \"poet\", \"political\", \"political\", \"political\", \"political\", \"political\", \"politics\", \"politics\", \"politics\", \"politics\", \"politics\", \"politics\", \"polling\", \"polling\", \"polling\", \"pork\", \"pork\", \"pork\", \"position\", \"position\", \"position\", \"position\", \"position\", \"position\", \"position\", \"position\", \"positive\", \"positive\", \"positive\", \"positive\", \"positive\", \"positive\", \"positive\", \"positive\", \"positivity\", \"prefiling\", \"prek\", \"prekindergarten\", \"preschool\", \"preschool\", \"preschool\", \"presidential\", \"presidential\", \"presidential\", \"pretty\", \"pretty\", \"pretty\", \"pretty\", \"pretty\", \"pretty\", \"pretty\", \"price\", \"price\", \"price\", \"price\", \"price\", \"price\", \"price\", \"price\", \"pricetoearnings\", \"pritzker\", \"pritzker\", \"pritzker\", \"pritzker\", \"pritzkers\", \"pritzkers\", \"pritzkers\", \"product\", \"product\", \"product\", \"product\", \"product\", \"product\", \"product\", \"professional\", \"professional\", \"professional\", \"professional\", \"professional\", \"professional\", \"professional\", \"professional\", \"project\", \"project\", \"project\", \"project\", \"project\", \"project\", \"project\", \"project\", \"pronounced\", \"pronounced\", \"pronounced\", \"pronounced\", \"pronounced\", \"property\", \"property\", \"property\", \"property\", \"property\", \"property\", \"property\", \"protest\", \"protest\", \"protest\", \"protest\", \"protester\", \"protester\", \"provide\", \"provide\", \"provide\", \"provide\", \"provide\", \"provide\", \"provide\", \"provide\", \"psychic\", \"psychic\", \"psychic\", \"pumpkin\", \"pumpkin\", \"purchaser\", \"qb\", \"quality\", \"quality\", \"quality\", \"quality\", \"quality\", \"quality\", \"quality\", \"quantity\", \"quantity\", \"quantity\", \"quantity\", \"quantity\", \"quantity\", \"quantum\", \"quantum\", \"quarter\", \"quarter\", \"quarter\", \"quarter\", \"quarter\", \"quarterback\", \"quarterback\", \"quarterly\", \"quarterly\", \"raid\", \"raid\", \"rate\", \"rate\", \"rate\", \"rate\", \"rate\", \"rate\", \"rate\", \"rate\", \"rating\", \"rating\", \"rating\", \"rating\", \"rating\", \"ratio\", \"ratio\", \"reactor\", \"real\", \"real\", \"real\", \"real\", \"real\", \"real\", \"real\", \"real\", \"rebound\", \"rebound\", \"rebound\", \"rebound\", \"rebound\", \"reciprocity\", \"recourse\", \"redmayne\", \"region\", \"region\", \"region\", \"region\", \"region\", \"reliever\", \"remax\", \"remote\", \"remote\", \"remote\", \"remote\", \"remote\", \"renteria\", \"rep\", \"rep\", \"rep\", \"rep\", \"rep\", \"rep\", \"rep\", \"repair\", \"repair\", \"repair\", \"repair\", \"repair\", \"repair\", \"repossession\", \"republican\", \"republican\", \"republican\", \"research\", \"research\", \"research\", \"research\", \"research\", \"research\", \"research\", \"resident\", \"resident\", \"resident\", \"resident\", \"resident\", \"resident\", \"resident\", \"restaurant\", \"restaurant\", \"restaurant\", \"restaurant\", \"restaurant\", \"restaurant\", \"restaurant\", \"restriction\", \"restriction\", \"restriction\", \"restriction\", \"restriction\", \"restriction\", \"restriction\", \"righthander\", \"rimini\", \"rittenhouse\", \"river\", \"river\", \"river\", \"river\", \"river\", \"river\", \"river\", \"river\", \"rivet\", \"rodman\", \"roof\", \"roof\", \"roof\", \"roof\", \"roofer\", \"roofer\", \"roofing\", \"roofing\", \"room\", \"room\", \"room\", \"room\", \"room\", \"room\", \"room\", \"roundtrip\", \"run\", \"run\", \"run\", \"run\", \"run\", \"run\", \"run\", \"run\", \"russa\", \"rws\", \"rylance\", \"sacha\", \"sacha\", \"salad\", \"salad\", \"sander\", \"sander\", \"sander\", \"sander\", \"sander\", \"sandwich\", \"sandwich\", \"sap\", \"sauce\", \"sauce\", \"scored\", \"scored\", \"scored\", \"scoring\", \"scoring\", \"scoring\", \"scra\", \"seale\", \"seating\", \"seating\", \"seating\", \"sell\", \"sell\", \"sell\", \"sell\", \"sell\", \"sell\", \"sell\", \"sell\", \"sen\", \"sen\", \"sen\", \"sen\", \"senate\", \"senate\", \"senate\", \"senate\", \"senate\", \"senator\", \"senator\", \"senator\", \"senator\", \"senator\", \"senator\", \"seo\", \"series\", \"series\", \"series\", \"series\", \"series\", \"series\", \"series\", \"servicemembers\", \"sevenday\", \"severide\", \"sharkey\", \"shingle\", \"shingle\", \"shooting\", \"shooting\", \"shooting\", \"shooting\", \"shortstop\", \"side\", \"side\", \"side\", \"side\", \"side\", \"side\", \"side\", \"singleday\", \"site\", \"site\", \"site\", \"site\", \"site\", \"site\", \"site\", \"slavery\", \"smartframe\", \"smollett\", \"solar\", \"solar\", \"solar\", \"sold\", \"sold\", \"sold\", \"sold\", \"sold\", \"sold\", \"sold\", \"solution\", \"solution\", \"solution\", \"solution\", \"solution\", \"solution\", \"solution\", \"something\", \"something\", \"something\", \"something\", \"something\", \"something\", \"something\", \"song\", \"song\", \"song\", \"sorkin\", \"sorkins\", \"south\", \"south\", \"south\", \"south\", \"south\", \"south\", \"south\", \"south\", \"sox\", \"sox\", \"soybean\", \"soybean\", \"soybean\", \"space\", \"space\", \"space\", \"space\", \"space\", \"space\", \"space\", \"space\", \"speaker\", \"speaker\", \"speaker\", \"speaker\", \"speaker\", \"speaker\", \"sport\", \"sport\", \"sport\", \"sport\", \"sport\", \"sport\", \"sport\", \"sport\", \"st\", \"st\", \"st\", \"st\", \"st\", \"st\", \"st\", \"staff\", \"staff\", \"staff\", \"staff\", \"staff\", \"staff\", \"staff\", \"staff\", \"stake\", \"stake\", \"stake\", \"stake\", \"stake\", \"stake\", \"stake\", \"stake\", \"statesph\", \"statewide\", \"statewide\", \"statewide\", \"statewide\", \"stayathome\", \"stayathome\", \"stayathome\", \"stayathome\", \"steakhouse\", \"stock\", \"stock\", \"stock\", \"street\", \"street\", \"street\", \"street\", \"street\", \"street\", \"street\", \"street\", \"strikeout\", \"stroger\", \"stroger\", \"student\", \"student\", \"student\", \"student\", \"student\", \"student\", \"student\", \"suck\", \"suck\", \"suck\", \"suck\", \"supreme\", \"supreme\", \"supreme\", \"supreme\", \"supreme\", \"supreme\", \"suspect\", \"suspect\", \"suspect\", \"suspect\", \"suspect\", \"symptom\", \"symptom\", \"symptom\", \"symptom\", \"system\", \"system\", \"system\", \"system\", \"system\", \"system\", \"system\", \"system\", \"taken\", \"taken\", \"taken\", \"taken\", \"taken\", \"taken\", \"taken\", \"target\", \"target\", \"target\", \"target\", \"target\", \"target\", \"target\", \"target\", \"tax\", \"tax\", \"tax\", \"tax\", \"tax\", \"teacher\", \"teacher\", \"teacher\", \"teacher\", \"teacher\", \"teacher\", \"technological\", \"technological\", \"technology\", \"technology\", \"technology\", \"technology\", \"technology\", \"technology\", \"technology\", \"technology\", \"test\", \"test\", \"test\", \"test\", \"test\", \"test\", \"test\", \"test\", \"tested\", \"tested\", \"tested\", \"tested\", \"tested\", \"tested\", \"tested\", \"testing\", \"testing\", \"testing\", \"testing\", \"testing\", \"testing\", \"thc\", \"theatre\", \"theatre\", \"theatre\", \"there\", \"there\", \"there\", \"there\", \"there\", \"there\", \"there\", \"think\", \"think\", \"think\", \"think\", \"think\", \"think\", \"think\", \"thumbnail\", \"thunderstorm\", \"ticket\", \"ticket\", \"ticket\", \"ticket\", \"ticket\", \"ticket\", \"ticket\", \"told\", \"told\", \"told\", \"told\", \"told\", \"told\", \"told\", \"tool\", \"tool\", \"tool\", \"tool\", \"tool\", \"tool\", \"tool\", \"touchdown\", \"tournament\", \"tournament\", \"tournament\", \"tournament\", \"transaction\", \"transaction\", \"transaction\", \"transaction\", \"trial\", \"trial\", \"trial\", \"trial\", \"trial\", \"trial\", \"trial\", \"trinity\", \"trinity\", \"trinity\", \"trubisky\", \"trump\", \"trump\", \"trump\", \"trump\", \"tu\", \"tu\", \"turnout\", \"twohundred\", \"uf\", \"unch\", \"unemployment\", \"unemployment\", \"unemployment\", \"union\", \"union\", \"union\", \"union\", \"union\", \"union\", \"union\", \"university\", \"university\", \"university\", \"university\", \"university\", \"university\", \"university\", \"unopposed\", \"unsecured\", \"unsecured\", \"uploaded\", \"uploaded\", \"uploaded\", \"usto\", \"utc05\", \"v\", \"v\", \"v\", \"v\", \"v\", \"v\", \"v\", \"v\", \"vaccine\", \"vaccine\", \"vaccine\", \"valued\", \"valued\", \"vandalism\", \"vandalized\", \"vape\", \"vehicle\", \"vehicle\", \"vehicle\", \"vehicle\", \"vehicle\", \"vehicle\", \"ventilator\", \"victim\", \"victim\", \"victim\", \"victim\", \"victim\", \"victim\", \"video\", \"video\", \"video\", \"video\", \"video\", \"video\", \"video\", \"video\", \"village\", \"village\", \"village\", \"village\", \"village\", \"village\", \"village\", \"violence\", \"violence\", \"violence\", \"violent\", \"violent\", \"virtual\", \"virtual\", \"virtual\", \"virtual\", \"virtual\", \"virtual\", \"virtual\", \"virtual\", \"virus\", \"virus\", \"virus\", \"virus\", \"virus\", \"virus\", \"virus\", \"virus\", \"voight\", \"vote\", \"vote\", \"vote\", \"vote\", \"voter\", \"voter\", \"voter\", \"voting\", \"voting\", \"voting\", \"voting\", \"voting\", \"warranty\", \"warranty\", \"wastewater\", \"wastewater\", \"water\", \"water\", \"water\", \"water\", \"water\", \"water\", \"water\", \"web\", \"web\", \"web\", \"web\", \"web\", \"web\", \"website\", \"website\", \"website\", \"website\", \"website\", \"website\", \"website\", \"website\", \"weekend\", \"weekend\", \"weekend\", \"weekend\", \"weekend\", \"weekend\", \"weekend\", \"welding\", \"welding\", \"west\", \"west\", \"west\", \"west\", \"west\", \"west\", \"west\", \"west\", \"wheat\", \"wheat\", \"white\", \"white\", \"white\", \"white\", \"white\", \"white\", \"white\", \"willson\", \"win\", \"win\", \"win\", \"win\", \"win\", \"win\", \"win\", \"within\", \"within\", \"within\", \"within\", \"within\", \"within\", \"within\", \"woman\", \"woman\", \"woman\", \"woman\", \"woman\", \"woman\", \"woman\", \"woman\", \"worker\", \"worker\", \"worker\", \"worker\", \"worker\", \"worker\", \"worker\", \"worker\", \"works\", \"world\", \"world\", \"world\", \"world\", \"world\", \"world\", \"world\", \"world\", \"worth\", \"worth\", \"worth\", \"worth\", \"worth\", \"worth\", \"worth\", \"worth\", \"wounded\", \"wounding\", \"yahya\", \"yard\", \"yard\", \"yard\", \"yard\", \"yard\", \"yard\", \"yearoveryear\", \"yoan\", \"zacks\"]}, \"R\": 30, \"lambda.step\": 0.01, \"plot.opts\": {\"xlab\": \"PC1\", \"ylab\": \"PC2\"}, \"topic.order\": [1, 2, 3, 4, 5, 6, 7, 8]};\n",
       "\n",
       "function LDAvis_load_lib(url, callback){\n",
       "  var s = document.createElement('script');\n",
       "  s.src = url;\n",
       "  s.async = true;\n",
       "  s.onreadystatechange = s.onload = callback;\n",
       "  s.onerror = function(){console.warn(\"failed to load library \" + url);};\n",
       "  document.getElementsByTagName(\"head\")[0].appendChild(s);\n",
       "}\n",
       "\n",
       "if(typeof(LDAvis) !== \"undefined\"){\n",
       "   // already loaded: just create the visualization\n",
       "   !function(LDAvis){\n",
       "       new LDAvis(\"#\" + \"ldavis_el934251087173448204618015\", ldavis_el934251087173448204618015_data);\n",
       "   }(LDAvis);\n",
       "}else if(typeof define === \"function\" && define.amd){\n",
       "   // require.js is available: use it to load d3/LDAvis\n",
       "   require.config({paths: {d3: \"https://d3js.org/d3.v5\"}});\n",
       "   require([\"d3\"], function(d3){\n",
       "      window.d3 = d3;\n",
       "      LDAvis_load_lib(\"https://cdn.jsdelivr.net/gh/bmabey/pyLDAvis@3.2.2/pyLDAvis/js/ldavis.v3.0.0.js\", function(){\n",
       "        new LDAvis(\"#\" + \"ldavis_el934251087173448204618015\", ldavis_el934251087173448204618015_data);\n",
       "      });\n",
       "    });\n",
       "}else{\n",
       "    // require.js not available: dynamically load d3 & LDAvis\n",
       "    LDAvis_load_lib(\"https://d3js.org/d3.v5.js\", function(){\n",
       "         LDAvis_load_lib(\"https://cdn.jsdelivr.net/gh/bmabey/pyLDAvis@3.2.2/pyLDAvis/js/ldavis.v3.0.0.js\", function(){\n",
       "                 new LDAvis(\"#\" + \"ldavis_el934251087173448204618015\", ldavis_el934251087173448204618015_data);\n",
       "            })\n",
       "         });\n",
       "}\n",
       "</script>"
      ],
      "text/plain": [
       "<IPython.core.display.HTML object>"
      ]
     },
     "execution_count": 39,
     "metadata": {},
     "output_type": "execute_result"
    }
   ],
   "source": [
    "## Test size of topics and potential overlap\n",
    "## Graphical representation\n",
    "lda_displayN = pyLDAvis.gensim.prepare(ldamodel, doc_term_matrix, dictionary, sort_topics=False, mds='mmds')\n",
    "pyLDAvis.display(lda_displayN)"
   ]
  },
  {
   "cell_type": "code",
   "execution_count": 42,
   "id": "productive-words",
   "metadata": {},
   "outputs": [],
   "source": [
    "## Save LDA model and be able to recall results\n",
    "##https://radimrehurek.com/gensim/models/ldamodel.html\n",
    "#G_LDA = datapath(\"Gensim-LDA-Model\")\n",
    "#ldamodel.save(G_LDA)"
   ]
  },
  {
   "cell_type": "code",
   "execution_count": 40,
   "id": "union-benefit",
   "metadata": {},
   "outputs": [],
   "source": [
    "## Create new dataframe housing the top words\n",
    "top_words_per_topic = []\n",
    "for t in range(ldamodel.num_topics):\n",
    "    top_words_per_topic.extend([(t, ) + x for x in ldamodel.show_topic(t, topn = 25)])\n",
    "top_df = pd.DataFrame(top_words_per_topic, columns=['Topic', 'Word', 'P'])\n",
    "pd.DataFrame(top_words_per_topic, columns=['Topic', 'Word', 'P']).to_csv(\"top_words.csv\")"
   ]
  },
  {
   "cell_type": "code",
   "execution_count": 41,
   "id": "driven-paper",
   "metadata": {},
   "outputs": [],
   "source": [
    "## subset\n",
    "##Topic 0\n",
    "T0 = top_df[top_df['Topic'] == 0]\n",
    "T0 = list(T0['Word'])\n",
    "##Topic 1\n",
    "T1 = top_df[top_df['Topic'] == 1]\n",
    "T1 = list(T1['Word'])\n",
    "##Topic 2\n",
    "T2 = top_df[top_df['Topic'] == 2]\n",
    "T2 = list(T2['Word'])\n",
    "##Topic 3\n",
    "T3 = top_df[top_df['Topic'] == 3]\n",
    "T3 = list(T3['Word'])\n",
    "##Topic 4\n",
    "T4 = top_df[top_df['Topic'] == 4]\n",
    "T4 = list(T4['Word'])\n",
    "##Topic 5\n",
    "T5 = top_df[top_df['Topic'] == 5]\n",
    "T5 = list(T5['Word'])\n",
    "##Topic 6\n",
    "T6 = top_df[top_df['Topic'] == 6]\n",
    "T6 = list(T6['Word'])\n",
    "##Topic 7\n",
    "T7 = top_df[top_df['Topic'] == 7]\n",
    "T7 = list(T7['Word'])"
   ]
  },
  {
   "cell_type": "code",
   "execution_count": 43,
   "id": "russian-stuff",
   "metadata": {},
   "outputs": [
    {
     "data": {
      "text/plain": [
       "['student',\n",
       " 'district',\n",
       " 'teacher',\n",
       " 'park',\n",
       " 'restaurant',\n",
       " 'food',\n",
       " 'union',\n",
       " 'university',\n",
       " 'class',\n",
       " 'event',\n",
       " 'open',\n",
       " 'learning',\n",
       " 'building',\n",
       " 'lake',\n",
       " 'st',\n",
       " 'street',\n",
       " 'art',\n",
       " 'river',\n",
       " '2021',\n",
       " 'north',\n",
       " 'il',\n",
       " 'inperson',\n",
       " 'education',\n",
       " 'hotel',\n",
       " 'staff']"
      ]
     },
     "execution_count": 43,
     "metadata": {},
     "output_type": "execute_result"
    }
   ],
   "source": [
    "T7"
   ]
  },
  {
   "cell_type": "code",
   "execution_count": 47,
   "id": "progressive-archive",
   "metadata": {},
   "outputs": [],
   "source": [
    "## VADER Sentiment analysis on NER- loop to assign polarity score / build lists / append lists and etner\n",
    "## A\n",
    "spot = []\n",
    "neg = []\n",
    "pos = []\n",
    "neu = []\n",
    "compound = []\n",
    "\n",
    "for i in range(len(MEGA)):\n",
    "    for ii in range(0,1):\n",
    "        spot.append([i])\n",
    "        article2 = sid.polarity_scores(MEGA[i])\n",
    "        article_list = list(article2.values()) \n",
    "        #dc.append(article2)\n",
    "        compound.append(article_list[3])\n",
    "        neg.append(article_list[0])\n",
    "        neu.append(article_list[1])\n",
    "        pos.append(article_list[2])\n",
    "MEGA_vader = pd.DataFrame({'Index':spot,'Ind. Compound':compound,'Ind. Negative':neg, 'Ind. Neutral':neu, 'Ind. Positive':pos})"
   ]
  },
  {
   "cell_type": "code",
   "execution_count": 48,
   "id": "particular-beast",
   "metadata": {},
   "outputs": [
    {
     "data": {
      "text/html": [
       "<div>\n",
       "<style scoped>\n",
       "    .dataframe tbody tr th:only-of-type {\n",
       "        vertical-align: middle;\n",
       "    }\n",
       "\n",
       "    .dataframe tbody tr th {\n",
       "        vertical-align: top;\n",
       "    }\n",
       "\n",
       "    .dataframe thead th {\n",
       "        text-align: right;\n",
       "    }\n",
       "</style>\n",
       "<table border=\"1\" class=\"dataframe\">\n",
       "  <thead>\n",
       "    <tr style=\"text-align: right;\">\n",
       "      <th></th>\n",
       "      <th>Index</th>\n",
       "      <th>Ind. Compound</th>\n",
       "      <th>Ind. Negative</th>\n",
       "      <th>Ind. Neutral</th>\n",
       "      <th>Ind. Positive</th>\n",
       "    </tr>\n",
       "  </thead>\n",
       "  <tbody>\n",
       "    <tr>\n",
       "      <th>0</th>\n",
       "      <td>[0]</td>\n",
       "      <td>0.0</td>\n",
       "      <td>0.0</td>\n",
       "      <td>1.0</td>\n",
       "      <td>0.0</td>\n",
       "    </tr>\n",
       "    <tr>\n",
       "      <th>1</th>\n",
       "      <td>[1]</td>\n",
       "      <td>0.0</td>\n",
       "      <td>0.0</td>\n",
       "      <td>1.0</td>\n",
       "      <td>0.0</td>\n",
       "    </tr>\n",
       "    <tr>\n",
       "      <th>2</th>\n",
       "      <td>[2]</td>\n",
       "      <td>0.0</td>\n",
       "      <td>0.0</td>\n",
       "      <td>1.0</td>\n",
       "      <td>0.0</td>\n",
       "    </tr>\n",
       "    <tr>\n",
       "      <th>3</th>\n",
       "      <td>[3]</td>\n",
       "      <td>0.0</td>\n",
       "      <td>0.0</td>\n",
       "      <td>1.0</td>\n",
       "      <td>0.0</td>\n",
       "    </tr>\n",
       "    <tr>\n",
       "      <th>4</th>\n",
       "      <td>[4]</td>\n",
       "      <td>0.0</td>\n",
       "      <td>0.0</td>\n",
       "      <td>1.0</td>\n",
       "      <td>0.0</td>\n",
       "    </tr>\n",
       "    <tr>\n",
       "      <th>5</th>\n",
       "      <td>[5]</td>\n",
       "      <td>0.0</td>\n",
       "      <td>0.0</td>\n",
       "      <td>1.0</td>\n",
       "      <td>0.0</td>\n",
       "    </tr>\n",
       "    <tr>\n",
       "      <th>6</th>\n",
       "      <td>[6]</td>\n",
       "      <td>0.0</td>\n",
       "      <td>0.0</td>\n",
       "      <td>1.0</td>\n",
       "      <td>0.0</td>\n",
       "    </tr>\n",
       "    <tr>\n",
       "      <th>7</th>\n",
       "      <td>[7]</td>\n",
       "      <td>0.0</td>\n",
       "      <td>0.0</td>\n",
       "      <td>1.0</td>\n",
       "      <td>0.0</td>\n",
       "    </tr>\n",
       "  </tbody>\n",
       "</table>\n",
       "</div>"
      ],
      "text/plain": [
       "  Index  Ind. Compound  Ind. Negative  Ind. Neutral  Ind. Positive\n",
       "0   [0]            0.0            0.0           1.0            0.0\n",
       "1   [1]            0.0            0.0           1.0            0.0\n",
       "2   [2]            0.0            0.0           1.0            0.0\n",
       "3   [3]            0.0            0.0           1.0            0.0\n",
       "4   [4]            0.0            0.0           1.0            0.0\n",
       "5   [5]            0.0            0.0           1.0            0.0\n",
       "6   [6]            0.0            0.0           1.0            0.0\n",
       "7   [7]            0.0            0.0           1.0            0.0"
      ]
     },
     "execution_count": 48,
     "metadata": {},
     "output_type": "execute_result"
    }
   ],
   "source": [
    "MEGA_vader"
   ]
  },
  {
   "cell_type": "code",
   "execution_count": 45,
   "id": "extra-munich",
   "metadata": {},
   "outputs": [],
   "source": [
    "MEGA = [T0,T1,T2,T3,T4,T5,T6,T7]"
   ]
  },
  {
   "cell_type": "code",
   "execution_count": null,
   "id": "fifteen-eight",
   "metadata": {},
   "outputs": [],
   "source": []
  },
  {
   "cell_type": "code",
   "execution_count": null,
   "id": "diagnostic-folder",
   "metadata": {},
   "outputs": [],
   "source": []
  },
  {
   "cell_type": "code",
   "execution_count": null,
   "id": "straight-return",
   "metadata": {},
   "outputs": [],
   "source": []
  },
  {
   "cell_type": "code",
   "execution_count": null,
   "id": "analyzed-volunteer",
   "metadata": {},
   "outputs": [],
   "source": []
  },
  {
   "cell_type": "code",
   "execution_count": 46,
   "id": "solid-research",
   "metadata": {},
   "outputs": [
    {
     "data": {
      "text/plain": [
       "['black',\n",
       " 'trump',\n",
       " 'shooting',\n",
       " 'federal',\n",
       " 'mayor',\n",
       " 'man',\n",
       " 'election',\n",
       " 'court',\n",
       " 'lightfoot',\n",
       " 'video',\n",
       " 'protest',\n",
       " 'law',\n",
       " 'vote',\n",
       " 'violence',\n",
       " 'woman',\n",
       " 'told',\n",
       " 'attorney',\n",
       " 'crime',\n",
       " 'gun',\n",
       " 'associated',\n",
       " 'district',\n",
       " 'charge',\n",
       " 'child',\n",
       " 'judge',\n",
       " 'white']"
      ]
     },
     "execution_count": 46,
     "metadata": {},
     "output_type": "execute_result"
    }
   ],
   "source": [
    "T1"
   ]
  },
  {
   "cell_type": "code",
   "execution_count": null,
   "id": "least-pressure",
   "metadata": {},
   "outputs": [],
   "source": []
  },
  {
   "cell_type": "markdown",
   "id": "floppy-transport",
   "metadata": {},
   "source": [
    "### TF-IDF | textblob"
   ]
  },
  {
   "cell_type": "code",
   "execution_count": 47,
   "id": "harmful-possible",
   "metadata": {
    "tags": []
   },
   "outputs": [],
   "source": [
    "## Utilizing TF-IDF will penalize the often used words / remove stop words in order to simplify\n",
    "## could this be used in conjunciton with LDA? pre-feed\n",
    "tfidfvectorizer = TfidfVectorizer(stop_words='english')"
   ]
  },
  {
   "cell_type": "code",
   "execution_count": 48,
   "id": "leading-charm",
   "metadata": {},
   "outputs": [],
   "source": [
    "## Degining functions that will assist in the text blob analysis\n",
    "# http://stevenloria.com/finding-important-words-in-a-document-using-tf-idf/\n",
    "\n",
    "def tf(word, blob):\n",
    "    return blob.words.count(word) / len(blob.words)\n",
    "# tf(word, blob) computes \"term frequency\" which is the number of times a word appears in a document blob, \n",
    "# normalized by dividing by the total number of words in blob. We use TextBlob for breaking up the text into words \n",
    "# and getting the word counts.\n",
    "def n_containing(word, bloblist):\n",
    "    return sum(1 for blob in bloblist if word in blob.words)\n",
    "# n_containing(word, bloblist) returns the number of documents containing word. \n",
    "# A generator expression is passed to the sum() function.\n",
    "def idf(word, bloblist):\n",
    "    return math.log(len(bloblist) / (1 + n_containing(word, bloblist)))\n",
    "# idf(word, bloblist) computes \"inverse document frequency\" which measures how common a word is \n",
    "# among all documents in bloblist. The more common a word is, the lower its idf. \n",
    "# We take the ratio of the total number of documents to the number of documents containing word, \n",
    "# then take the log of that. Add 1 to the divisor to prevent division by zero\n",
    "def tfidf(word, blob, bloblist):\n",
    "    return tf(word, blob) * idf(word, bloblist)\n",
    "# tfidf(word, blob, bloblist) computes the TF-IDF score. It is simply the product of tf and idf."
   ]
  },
  {
   "cell_type": "code",
   "execution_count": 49,
   "id": "adjusted-concord",
   "metadata": {},
   "outputs": [],
   "source": [
    "## Create mini list and empty dictionary\n",
    "bloblist = []\n",
    "position1 = []\n",
    "#del bloblist[:]\n",
    "\n",
    "for i  in range(0,len(df)):\n",
    "    bloblist.append(TextBlob(df['combo'].iloc[i]))\n",
    "    #position1.append([i])\n",
    "    \n",
    "len(bloblist)\n",
    "df_blob = pd.DataFrame({'Blob':bloblist}) #,'Position':position1})"
   ]
  },
  {
   "cell_type": "code",
   "execution_count": 50,
   "id": "buried-destiny",
   "metadata": {},
   "outputs": [
    {
     "data": {
      "text/html": [
       "<div>\n",
       "<style scoped>\n",
       "    .dataframe tbody tr th:only-of-type {\n",
       "        vertical-align: middle;\n",
       "    }\n",
       "\n",
       "    .dataframe tbody tr th {\n",
       "        vertical-align: top;\n",
       "    }\n",
       "\n",
       "    .dataframe thead th {\n",
       "        text-align: right;\n",
       "    }\n",
       "</style>\n",
       "<table border=\"1\" class=\"dataframe\">\n",
       "  <thead>\n",
       "    <tr style=\"text-align: right;\">\n",
       "      <th></th>\n",
       "      <th>Blob</th>\n",
       "    </tr>\n",
       "  </thead>\n",
       "  <tbody>\n",
       "    <tr>\n",
       "      <th>0</th>\n",
       "      <td>(A, l, l,  , I, n,  , I, l, l, i, n, o, i, s, ...</td>\n",
       "    </tr>\n",
       "    <tr>\n",
       "      <th>1</th>\n",
       "      <td>(T, h, e,  , I, l, l, i, n, o, i, s,  , D, e, ...</td>\n",
       "    </tr>\n",
       "    <tr>\n",
       "      <th>2</th>\n",
       "      <td>(F, o, t, o,  , F, r, i, d, a, y, :,  , A, l, ...</td>\n",
       "    </tr>\n",
       "    <tr>\n",
       "      <th>3</th>\n",
       "      <td>(C, h, r, i, s,  , B, r, o, u, s, s, a, r, d, ...</td>\n",
       "    </tr>\n",
       "    <tr>\n",
       "      <th>4</th>\n",
       "      <td>(P, o, r, k,  , c, h, o, p, s,  , v, s, .,  , ...</td>\n",
       "    </tr>\n",
       "    <tr>\n",
       "      <th>...</th>\n",
       "      <td>...</td>\n",
       "    </tr>\n",
       "    <tr>\n",
       "      <th>370581</th>\n",
       "      <td>(D, o,  , I, l, l, i, n, o, i, s,  , l, a, w, ...</td>\n",
       "    </tr>\n",
       "    <tr>\n",
       "      <th>370582</th>\n",
       "      <td>(Q, u, i, c, k,  , h, i, t, s, :,  , I, l, l, ...</td>\n",
       "    </tr>\n",
       "    <tr>\n",
       "      <th>370583</th>\n",
       "      <td>(B, a, i, l,  , f, o, r,  , I, l, l, i, n, o, ...</td>\n",
       "    </tr>\n",
       "    <tr>\n",
       "      <th>370584</th>\n",
       "      <td>(6,  , D, a, y,  , T, r, i, p,  , t, o,  , D, ...</td>\n",
       "    </tr>\n",
       "    <tr>\n",
       "      <th>370585</th>\n",
       "      <td>(I, S, K, C, O, N,  , C, h, i, c, a, g, o,  , ...</td>\n",
       "    </tr>\n",
       "  </tbody>\n",
       "</table>\n",
       "<p>370586 rows × 1 columns</p>\n",
       "</div>"
      ],
      "text/plain": [
       "                                                     Blob\n",
       "0       (A, l, l,  , I, n,  , I, l, l, i, n, o, i, s, ...\n",
       "1       (T, h, e,  , I, l, l, i, n, o, i, s,  , D, e, ...\n",
       "2       (F, o, t, o,  , F, r, i, d, a, y, :,  , A, l, ...\n",
       "3       (C, h, r, i, s,  , B, r, o, u, s, s, a, r, d, ...\n",
       "4       (P, o, r, k,  , c, h, o, p, s,  , v, s, .,  , ...\n",
       "...                                                   ...\n",
       "370581  (D, o,  , I, l, l, i, n, o, i, s,  , l, a, w, ...\n",
       "370582  (Q, u, i, c, k,  , h, i, t, s, :,  , I, l, l, ...\n",
       "370583  (B, a, i, l,  , f, o, r,  , I, l, l, i, n, o, ...\n",
       "370584  (6,  , D, a, y,  , T, r, i, p,  , t, o,  , D, ...\n",
       "370585  (I, S, K, C, O, N,  , C, h, i, c, a, g, o,  , ...\n",
       "\n",
       "[370586 rows x 1 columns]"
      ]
     },
     "execution_count": 50,
     "metadata": {},
     "output_type": "execute_result"
    }
   ],
   "source": [
    "df_blob"
   ]
  },
  {
   "cell_type": "code",
   "execution_count": 51,
   "id": "cleared-coaching",
   "metadata": {},
   "outputs": [],
   "source": [
    "#for i, blob in enumerate(bloblist):\n",
    "# Print top 5 values\n",
    "#    if i == 5:\n",
    "#        break\n",
    "#    print(\"Top words in tweet {}\".format(i + 1))\n",
    "#    scores = {word: tfidf(word, blob, bloblist) for word in blob.words}\n",
    "#    sorted_words = sorted(scores.items(), key=lambda x: x[1], reverse=True)\n",
    "#    for word, score in sorted_words[:5]:\n",
    "#        print(\"\\tWord: {}, TF-IDF: {}\".format(word, round(score, 5)))"
   ]
  },
  {
   "cell_type": "markdown",
   "id": "theoretical-cattle",
   "metadata": {},
   "source": [
    "### Name Entity Recognition with SpaCy"
   ]
  },
  {
   "cell_type": "code",
   "execution_count": 159,
   "id": "hollow-pearl",
   "metadata": {},
   "outputs": [
    {
     "data": {
      "text/plain": [
       "<spacy.pipeline.sentencizer.Sentencizer at 0x7eefe8800>"
      ]
     },
     "execution_count": 159,
     "metadata": {},
     "output_type": "execute_result"
    }
   ],
   "source": [
    "## Load SpaCy model\n",
    "#nlp = spacy.load(\"en_core_web_sm\") ## \n",
    "#nlp = spacy.load(\"en_core_web_md\") ## 47.1MB\n",
    "nlp = spacy.load(\"en_core_web_lg\") ## \n",
    "nlp.add_pipe('sentencizer')"
   ]
  },
  {
   "cell_type": "code",
   "execution_count": 53,
   "id": "positive-spouse",
   "metadata": {},
   "outputs": [],
   "source": [
    "## Create a table utilizing spacy to identify the entities and labels\n",
    "doc = nlp(str(df['doc_clean']))\n",
    "entities = []\n",
    "labels = []\n",
    "position = []\n",
    "\n",
    "for outerloop in range(len(df['doc_clean'])):\n",
    "    for ent in doc.ents:\n",
    "        entities.append(ent.text)\n",
    "        labels.append(ent.label_)\n",
    "        position.append([outerloop])\n",
    "        \n",
    "df_spacy = pd.DataFrame({'Entities':entities,'Labels':labels,'Position':position})"
   ]
  },
  {
   "cell_type": "code",
   "execution_count": 54,
   "id": "systematic-algeria",
   "metadata": {},
   "outputs": [],
   "source": [
    "#df_spacy.shape"
   ]
  },
  {
   "cell_type": "code",
   "execution_count": 55,
   "id": "wrong-corrections",
   "metadata": {},
   "outputs": [],
   "source": [
    "## Group by for top names -- top 15\n",
    "#spacy_l = df_spacy['Entities'].groupby(df_spacy['Entities']).agg(pd.Series.count)\n",
    "#spacy_l"
   ]
  },
  {
   "cell_type": "code",
   "execution_count": 56,
   "id": "local-range",
   "metadata": {},
   "outputs": [],
   "source": [
    "## Export spacy DF\n",
    "#df_spacy.to_csv('Spacy.csv')"
   ]
  },
  {
   "cell_type": "markdown",
   "id": "living-supply",
   "metadata": {},
   "source": [
    "### Keyword Extraction via Rake"
   ]
  },
  {
   "cell_type": "code",
   "execution_count": 57,
   "id": "reflected-writing",
   "metadata": {},
   "outputs": [],
   "source": [
    "## Defines a variable and a function for use with rake\n",
    "r = Rake() # Uses stopwords for english from NLTK, and all puntuation characters.\n",
    "##\n",
    "def rake_implement(x,r):\n",
    "    r.extract_keywords_from_text(x) # r.extract_keywords_from_text(<text to process>)\n",
    "    return r.get_ranked_phrases() # r.get_ranked_phrases() # To get keyword phrases ranked highest to lowest."
   ]
  },
  {
   "cell_type": "code",
   "execution_count": 58,
   "id": "still-listening",
   "metadata": {},
   "outputs": [
    {
     "data": {
      "text/html": [
       "<div>\n",
       "<style scoped>\n",
       "    .dataframe tbody tr th:only-of-type {\n",
       "        vertical-align: middle;\n",
       "    }\n",
       "\n",
       "    .dataframe tbody tr th {\n",
       "        vertical-align: top;\n",
       "    }\n",
       "\n",
       "    .dataframe thead th {\n",
       "        text-align: right;\n",
       "    }\n",
       "</style>\n",
       "<table border=\"1\" class=\"dataframe\">\n",
       "  <thead>\n",
       "    <tr style=\"text-align: right;\">\n",
       "      <th></th>\n",
       "      <th>combo</th>\n",
       "      <th>doc_clean</th>\n",
       "      <th>rake_phrases</th>\n",
       "    </tr>\n",
       "  </thead>\n",
       "  <tbody>\n",
       "    <tr>\n",
       "      <th>0</th>\n",
       "      <td>All In Illinois .  Gov. Jay Fatso Pritzker cal...</td>\n",
       "      <td>illinois gov jay fatso pritzker called illinoi...</td>\n",
       "      <td>[kayleen carlson executive director illinois r...</td>\n",
       "    </tr>\n",
       "    <tr>\n",
       "      <th>1</th>\n",
       "      <td>The Illinois Department of Public Health Annou...</td>\n",
       "      <td>illinois department public health announces 16...</td>\n",
       "      <td>[illinois department public health announces 1...</td>\n",
       "    </tr>\n",
       "    <tr>\n",
       "      <th>2</th>\n",
       "      <td>Foto Friday: Alton, Illinois Gloria Lawrence s...</td>\n",
       "      <td>foto friday alton illinois gloria lawrence sai...</td>\n",
       "      <td>[army corp engineer raise lower water level us...</td>\n",
       "    </tr>\n",
       "    <tr>\n",
       "      <th>3</th>\n",
       "      <td>Chris Broussard on Michael Jordan returning to...</td>\n",
       "      <td>chris broussard michael jordan returning chica...</td>\n",
       "      <td>[chris broussard michael jordan returning chic...</td>\n",
       "    </tr>\n",
       "    <tr>\n",
       "      <th>4</th>\n",
       "      <td>Pork chops vs. people: Can Americans appetite ...</td>\n",
       "      <td>pork chop v people american appetite meat fill...</td>\n",
       "      <td>[pork chop v people american appetite meat fil...</td>\n",
       "    </tr>\n",
       "  </tbody>\n",
       "</table>\n",
       "</div>"
      ],
      "text/plain": [
       "                                               combo  \\\n",
       "0  All In Illinois .  Gov. Jay Fatso Pritzker cal...   \n",
       "1  The Illinois Department of Public Health Annou...   \n",
       "2  Foto Friday: Alton, Illinois Gloria Lawrence s...   \n",
       "3  Chris Broussard on Michael Jordan returning to...   \n",
       "4  Pork chops vs. people: Can Americans appetite ...   \n",
       "\n",
       "                                           doc_clean  \\\n",
       "0  illinois gov jay fatso pritzker called illinoi...   \n",
       "1  illinois department public health announces 16...   \n",
       "2  foto friday alton illinois gloria lawrence sai...   \n",
       "3  chris broussard michael jordan returning chica...   \n",
       "4  pork chop v people american appetite meat fill...   \n",
       "\n",
       "                                        rake_phrases  \n",
       "0  [kayleen carlson executive director illinois r...  \n",
       "1  [illinois department public health announces 1...  \n",
       "2  [army corp engineer raise lower water level us...  \n",
       "3  [chris broussard michael jordan returning chic...  \n",
       "4  [pork chop v people american appetite meat fil...  "
      ]
     },
     "execution_count": 58,
     "metadata": {},
     "output_type": "execute_result"
    }
   ],
   "source": [
    "## Create a new column in df2 based on the keywords removed\n",
    "df['rake_phrases'] = df['doc_clean'].apply(lambda x: rake_implement(x,r))\n",
    "df.head()"
   ]
  },
  {
   "cell_type": "code",
   "execution_count": 59,
   "id": "emerging-magnitude",
   "metadata": {},
   "outputs": [],
   "source": [
    "## Import Raked data\n",
    "#df = pd.read_csv('Rake+.csv')\n",
    "#df.drop(['Unnamed: 0'],axis=1)"
   ]
  },
  {
   "cell_type": "code",
   "execution_count": 60,
   "id": "iraqi-estate",
   "metadata": {},
   "outputs": [],
   "source": [
    "## Create a doc_clean to mimic earlier functions in order to serve as a load point\n",
    "#combo = []\n",
    "\n",
    "#for i in range(len(df['combo'])):\n",
    "#    A = (df['combo'][i])\n",
    "#    AA = A.split()\n",
    "#    combo.append(AA)"
   ]
  },
  {
   "cell_type": "code",
   "execution_count": 61,
   "id": "premier-control",
   "metadata": {},
   "outputs": [],
   "source": [
    "## Create a doc_clean to mimic earlier functions in order to serve as a load point\n",
    "#doc_clean = []\n",
    "\n",
    "#for i in range(len(df['doc_clean'])):\n",
    "#    A = (df['doc_clean'][i])\n",
    "#    AA = A.split()\n",
    "#    combo.append(AA)"
   ]
  },
  {
   "cell_type": "markdown",
   "id": "romance-athens",
   "metadata": {},
   "source": [
    "### Sentiment Analysis"
   ]
  },
  {
   "cell_type": "markdown",
   "id": "synthetic-biotechnology",
   "metadata": {},
   "source": [
    "### VADER (Valence Aware Dictionary and sEntiment Reasoner)"
   ]
  },
  {
   "cell_type": "code",
   "execution_count": 62,
   "id": "intended-discrimination",
   "metadata": {},
   "outputs": [
    {
     "name": "stdout",
     "output_type": "stream",
     "text": [
      "{'neg': 0.0, 'neu': 0.911, 'pos': 0.089, 'compound': 0.9868}\n",
      "CPU times: user 3.3 ms, sys: 0 ns, total: 3.3 ms\n",
      "Wall time: 3.3 ms\n"
     ]
    }
   ],
   "source": [
    "## Testing of vader - subset with clean data but small sample\n",
    "## Combined but unclean dataset\n",
    "V0 = df['combo'][458]\n",
    "\n",
    "print(sid.polarity_scores(V0))\n",
    "%time a0 = sid.polarity_scores(V0)\n",
    "\n",
    "## {'neg': 0.0, 'neu': 0.911, 'pos': 0.089, 'compound': 0.9868}"
   ]
  },
  {
   "cell_type": "code",
   "execution_count": 63,
   "id": "aerial-seeking",
   "metadata": {},
   "outputs": [
    {
     "name": "stdout",
     "output_type": "stream",
     "text": [
      "{'neg': 0.0, 'neu': 0.88, 'pos': 0.12, 'compound': 0.9819}\n",
      "CPU times: user 2.18 ms, sys: 0 ns, total: 2.18 ms\n",
      "Wall time: 2.18 ms\n"
     ]
    }
   ],
   "source": [
    "## Testing of vader - subset with clean data but small sample\n",
    "## Cleaned dataset \n",
    "V0 = df['doc_clean'][458]\n",
    "\n",
    "print(sid.polarity_scores(V0))\n",
    "%time a0 = sid.polarity_scores(V0)\n",
    "\n",
    "## {'neg': 0.0, 'neu': 0.88, 'pos': 0.12, 'compound': 0.9819}"
   ]
  },
  {
   "cell_type": "code",
   "execution_count": 64,
   "id": "interracial-right",
   "metadata": {},
   "outputs": [
    {
     "name": "stdout",
     "output_type": "stream",
     "text": [
      "{'neg': 0.0, 'neu': 0.879, 'pos': 0.121, 'compound': 0.9819}\n",
      "CPU times: user 2 ms, sys: 7 µs, total: 2 ms\n",
      "Wall time: 2.02 ms\n"
     ]
    }
   ],
   "source": [
    "## Testing of vader - subset with clean data but small sample\n",
    "## Raked dataset\n",
    "V0 = df['rake_phrases'][458]\n",
    "\n",
    "print(sid.polarity_scores(V0))\n",
    "%time a0 = sid.polarity_scores(V0)\n",
    "\n",
    "## {'neg': 0.0, 'neu': 0.879, 'pos': 0.121, 'compound': 0.9819}"
   ]
  },
  {
   "cell_type": "code",
   "execution_count": 65,
   "id": "dress-stand",
   "metadata": {},
   "outputs": [
    {
     "data": {
      "text/plain": [
       "'lecturer physic department physic nontenure track loyola university chicago department physic loyola university chicago luc college art science department physic invite application lecturer position department physic beginning august 10 2020 20202021 academic year department physic extensive undergraduate teaching duty college art science well program physic major minor information department please visit httpsifttt2z0rgnh teaching responsibility shall include 44 teaching load includes introductory physic course lab nonphysics major well course physic major addition candidate must willing support mission luc goal jesuit catholic education experience wide variety different educational research work activity including industry plus loyola universitychicago job httpsifttt35wyng3 via ifttt source loyola university chicago loyola university chicago often referred loyola luc private catholic research university chicago illinois founded 1870 jesuit today loyola one largest catholic university united state loyola professional school educated generation local business civic leader distinguished program medicine nursing health science anchored nationally recognized loyola university medical center comprising eleven college school loyola offer 80 undergraduate 140 graduateprofessional program enrolls approximately 16000 student loyola six campus across chicago metropolitan area well campus rome guest program beijing ho chi minh city flagship lake shore campus shore lake michigan rogers park edgewater neighborhood chicago eight mile north loop loyola athletic team nicknamed rambler compete ncaa division member missouri valley conference loyola 1963 ncaa men basketball championship remains school illinois so rambler also twotime 2014 2015 ncaa champion men volleyball among 150000 loyola alumnus executive major chicagobased corporation mcdonalds baxter international well dozen local national political leader including current illinois attorney general speaker house loyola alumnus emmy grammy peabody pulitzer award well guggenheim macarthur fellowship share this'"
      ]
     },
     "execution_count": 65,
     "metadata": {},
     "output_type": "execute_result"
    }
   ],
   "source": [
    "## Actual cleaned words that VADER is going to try and resolve\n",
    "df['doc_clean'][458]"
   ]
  },
  {
   "cell_type": "code",
   "execution_count": 66,
   "id": "timely-bangladesh",
   "metadata": {},
   "outputs": [],
   "source": [
    "## Note that there was no discernable difference in perforamnce between cleaned / raked / unchanged models driven by the lexicon\n",
    "## and stopword removals"
   ]
  },
  {
   "cell_type": "code",
   "execution_count": 67,
   "id": "metallic-hudson",
   "metadata": {},
   "outputs": [],
   "source": [
    "## VADER Sentiment analysis - loop to assign polarity score / build lists / append lists and etner\n",
    "## A\n",
    "spot = []\n",
    "neg = []\n",
    "pos = []\n",
    "neu = []\n",
    "compound = []\n",
    "\n",
    "for i in range(len(df['doc_clean'])):\n",
    "    for ii in range(0,1):\n",
    "        spot.append([i])\n",
    "        article2 = sid.polarity_scores(df['doc_clean'][i])\n",
    "        article_list = list(article2.values()) \n",
    "        #dc.append(article2)\n",
    "        compound.append(article_list[3])\n",
    "        neg.append(article_list[0])\n",
    "        neu.append(article_list[1])\n",
    "        pos.append(article_list[2])\n",
    "df_vader = pd.DataFrame({'Index':spot,'Compound':compound,'Negative':neg, 'Neutral':neu, 'Positive':pos})"
   ]
  },
  {
   "cell_type": "code",
   "execution_count": 68,
   "id": "boring-florist",
   "metadata": {},
   "outputs": [
    {
     "data": {
      "text/plain": [
       "(370586, 5)"
      ]
     },
     "execution_count": 68,
     "metadata": {},
     "output_type": "execute_result"
    }
   ],
   "source": [
    "## Validate - dataset length\n",
    "df_vader.shape"
   ]
  },
  {
   "cell_type": "code",
   "execution_count": 69,
   "id": "false-overview",
   "metadata": {},
   "outputs": [],
   "source": [
    "## Save Vader set in order to reduce churn/re-running\n",
    "#df_vader.to_csv('Vader.csv')"
   ]
  },
  {
   "cell_type": "code",
   "execution_count": 70,
   "id": "loose-diversity",
   "metadata": {},
   "outputs": [],
   "source": [
    "## Load VADER\n",
    "#df_vader = pd.read_csv('Vader.csv')"
   ]
  },
  {
   "cell_type": "markdown",
   "id": "portuguese-persian",
   "metadata": {},
   "source": [
    "### Dataset Consolidation for Analysis"
   ]
  },
  {
   "cell_type": "code",
   "execution_count": 71,
   "id": "racial-barrel",
   "metadata": {},
   "outputs": [],
   "source": [
    "## Combine Rake DF with df_vader \n",
    "df = df.join(df_vader, lsuffix='Unnamed: 0',rsuffix='Index')"
   ]
  },
  {
   "cell_type": "code",
   "execution_count": 74,
   "id": "labeled-valve",
   "metadata": {},
   "outputs": [],
   "source": [
    "#df.drop(['Unnamed: 0Unnamed: 0', 'Unnamed: 0.1','Unnamed: 0Index','Index'],axis=1, inplace=True)"
   ]
  },
  {
   "cell_type": "code",
   "execution_count": 73,
   "id": "scientific-diana",
   "metadata": {},
   "outputs": [
    {
     "data": {
      "text/html": [
       "<div>\n",
       "<style scoped>\n",
       "    .dataframe tbody tr th:only-of-type {\n",
       "        vertical-align: middle;\n",
       "    }\n",
       "\n",
       "    .dataframe tbody tr th {\n",
       "        vertical-align: top;\n",
       "    }\n",
       "\n",
       "    .dataframe thead th {\n",
       "        text-align: right;\n",
       "    }\n",
       "</style>\n",
       "<table border=\"1\" class=\"dataframe\">\n",
       "  <thead>\n",
       "    <tr style=\"text-align: right;\">\n",
       "      <th></th>\n",
       "      <th>combo</th>\n",
       "      <th>doc_clean</th>\n",
       "      <th>rake_phrases</th>\n",
       "      <th>Index</th>\n",
       "      <th>Compound</th>\n",
       "      <th>Negative</th>\n",
       "      <th>Neutral</th>\n",
       "      <th>Positive</th>\n",
       "    </tr>\n",
       "  </thead>\n",
       "  <tbody>\n",
       "    <tr>\n",
       "      <th>0</th>\n",
       "      <td>All In Illinois .  Gov. Jay Fatso Pritzker cal...</td>\n",
       "      <td>illinois gov jay fatso pritzker called illinoi...</td>\n",
       "      <td>[kayleen carlson executive director illinois r...</td>\n",
       "      <td>[0]</td>\n",
       "      <td>0.9893</td>\n",
       "      <td>0.069</td>\n",
       "      <td>0.796</td>\n",
       "      <td>0.135</td>\n",
       "    </tr>\n",
       "    <tr>\n",
       "      <th>1</th>\n",
       "      <td>The Illinois Department of Public Health Annou...</td>\n",
       "      <td>illinois department public health announces 16...</td>\n",
       "      <td>[illinois department public health announces 1...</td>\n",
       "      <td>[1]</td>\n",
       "      <td>-0.9136</td>\n",
       "      <td>0.083</td>\n",
       "      <td>0.917</td>\n",
       "      <td>0.000</td>\n",
       "    </tr>\n",
       "    <tr>\n",
       "      <th>2</th>\n",
       "      <td>Foto Friday: Alton, Illinois Gloria Lawrence s...</td>\n",
       "      <td>foto friday alton illinois gloria lawrence sai...</td>\n",
       "      <td>[army corp engineer raise lower water level us...</td>\n",
       "      <td>[2]</td>\n",
       "      <td>0.9413</td>\n",
       "      <td>0.030</td>\n",
       "      <td>0.728</td>\n",
       "      <td>0.243</td>\n",
       "    </tr>\n",
       "    <tr>\n",
       "      <th>3</th>\n",
       "      <td>Chris Broussard on Michael Jordan returning to...</td>\n",
       "      <td>chris broussard michael jordan returning chica...</td>\n",
       "      <td>[chris broussard michael jordan returning chic...</td>\n",
       "      <td>[3]</td>\n",
       "      <td>0.9948</td>\n",
       "      <td>0.015</td>\n",
       "      <td>0.649</td>\n",
       "      <td>0.336</td>\n",
       "    </tr>\n",
       "    <tr>\n",
       "      <th>4</th>\n",
       "      <td>Pork chops vs. people: Can Americans appetite ...</td>\n",
       "      <td>pork chop v people american appetite meat fill...</td>\n",
       "      <td>[pork chop v people american appetite meat fil...</td>\n",
       "      <td>[4]</td>\n",
       "      <td>-0.4479</td>\n",
       "      <td>0.091</td>\n",
       "      <td>0.858</td>\n",
       "      <td>0.052</td>\n",
       "    </tr>\n",
       "    <tr>\n",
       "      <th>...</th>\n",
       "      <td>...</td>\n",
       "      <td>...</td>\n",
       "      <td>...</td>\n",
       "      <td>...</td>\n",
       "      <td>...</td>\n",
       "      <td>...</td>\n",
       "      <td>...</td>\n",
       "      <td>...</td>\n",
       "    </tr>\n",
       "    <tr>\n",
       "      <th>370581</th>\n",
       "      <td>Do Illinois laws encourage corruptionprone uti...</td>\n",
       "      <td>illinois law encourage corruptionprone utility...</td>\n",
       "      <td>[illinois law encourage corruptionprone utilit...</td>\n",
       "      <td>[370581]</td>\n",
       "      <td>0.9870</td>\n",
       "      <td>0.046</td>\n",
       "      <td>0.783</td>\n",
       "      <td>0.171</td>\n",
       "    </tr>\n",
       "    <tr>\n",
       "      <th>370582</th>\n",
       "      <td>Quick hits: Illinois news in brief for Monday,...</td>\n",
       "      <td>quick hit illinois news brief monday nov 2 202...</td>\n",
       "      <td>[quick hit illinois news brief monday nov 2 20...</td>\n",
       "      <td>[370582]</td>\n",
       "      <td>0.9308</td>\n",
       "      <td>0.036</td>\n",
       "      <td>0.871</td>\n",
       "      <td>0.093</td>\n",
       "    </tr>\n",
       "    <tr>\n",
       "      <th>370583</th>\n",
       "      <td>Bail for Illinois teen charged in Kenosha kill...</td>\n",
       "      <td>bail illinois teen charged kenosha killing set...</td>\n",
       "      <td>[bail illinois teen charged kenosha killing se...</td>\n",
       "      <td>[370583]</td>\n",
       "      <td>-0.9538</td>\n",
       "      <td>0.286</td>\n",
       "      <td>0.661</td>\n",
       "      <td>0.053</td>\n",
       "    </tr>\n",
       "    <tr>\n",
       "      <th>370584</th>\n",
       "      <td>6 Day Trip to Detroit, Chicago  On 4th Nov 202...</td>\n",
       "      <td>6 day trip detroit chicago 4th nov 2020 tripho...</td>\n",
       "      <td>[6 day trip detroit chicago 4th nov 2020 triph...</td>\n",
       "      <td>[370584]</td>\n",
       "      <td>0.6369</td>\n",
       "      <td>0.000</td>\n",
       "      <td>0.819</td>\n",
       "      <td>0.181</td>\n",
       "    </tr>\n",
       "    <tr>\n",
       "      <th>370585</th>\n",
       "      <td>ISKCON Chicago Temple Closes Immediately .  PA...</td>\n",
       "      <td>iskcon chicago temple close immediately pada v...</td>\n",
       "      <td>[whole temple could infected worse mess sure d...</td>\n",
       "      <td>[370585]</td>\n",
       "      <td>0.5413</td>\n",
       "      <td>0.192</td>\n",
       "      <td>0.564</td>\n",
       "      <td>0.243</td>\n",
       "    </tr>\n",
       "  </tbody>\n",
       "</table>\n",
       "<p>370586 rows × 8 columns</p>\n",
       "</div>"
      ],
      "text/plain": [
       "                                                    combo  \\\n",
       "0       All In Illinois .  Gov. Jay Fatso Pritzker cal...   \n",
       "1       The Illinois Department of Public Health Annou...   \n",
       "2       Foto Friday: Alton, Illinois Gloria Lawrence s...   \n",
       "3       Chris Broussard on Michael Jordan returning to...   \n",
       "4       Pork chops vs. people: Can Americans appetite ...   \n",
       "...                                                   ...   \n",
       "370581  Do Illinois laws encourage corruptionprone uti...   \n",
       "370582  Quick hits: Illinois news in brief for Monday,...   \n",
       "370583  Bail for Illinois teen charged in Kenosha kill...   \n",
       "370584  6 Day Trip to Detroit, Chicago  On 4th Nov 202...   \n",
       "370585  ISKCON Chicago Temple Closes Immediately .  PA...   \n",
       "\n",
       "                                                doc_clean  \\\n",
       "0       illinois gov jay fatso pritzker called illinoi...   \n",
       "1       illinois department public health announces 16...   \n",
       "2       foto friday alton illinois gloria lawrence sai...   \n",
       "3       chris broussard michael jordan returning chica...   \n",
       "4       pork chop v people american appetite meat fill...   \n",
       "...                                                   ...   \n",
       "370581  illinois law encourage corruptionprone utility...   \n",
       "370582  quick hit illinois news brief monday nov 2 202...   \n",
       "370583  bail illinois teen charged kenosha killing set...   \n",
       "370584  6 day trip detroit chicago 4th nov 2020 tripho...   \n",
       "370585  iskcon chicago temple close immediately pada v...   \n",
       "\n",
       "                                             rake_phrases     Index  Compound  \\\n",
       "0       [kayleen carlson executive director illinois r...       [0]    0.9893   \n",
       "1       [illinois department public health announces 1...       [1]   -0.9136   \n",
       "2       [army corp engineer raise lower water level us...       [2]    0.9413   \n",
       "3       [chris broussard michael jordan returning chic...       [3]    0.9948   \n",
       "4       [pork chop v people american appetite meat fil...       [4]   -0.4479   \n",
       "...                                                   ...       ...       ...   \n",
       "370581  [illinois law encourage corruptionprone utilit...  [370581]    0.9870   \n",
       "370582  [quick hit illinois news brief monday nov 2 20...  [370582]    0.9308   \n",
       "370583  [bail illinois teen charged kenosha killing se...  [370583]   -0.9538   \n",
       "370584  [6 day trip detroit chicago 4th nov 2020 triph...  [370584]    0.6369   \n",
       "370585  [whole temple could infected worse mess sure d...  [370585]    0.5413   \n",
       "\n",
       "        Negative  Neutral  Positive  \n",
       "0          0.069    0.796     0.135  \n",
       "1          0.083    0.917     0.000  \n",
       "2          0.030    0.728     0.243  \n",
       "3          0.015    0.649     0.336  \n",
       "4          0.091    0.858     0.052  \n",
       "...          ...      ...       ...  \n",
       "370581     0.046    0.783     0.171  \n",
       "370582     0.036    0.871     0.093  \n",
       "370583     0.286    0.661     0.053  \n",
       "370584     0.000    0.819     0.181  \n",
       "370585     0.192    0.564     0.243  \n",
       "\n",
       "[370586 rows x 8 columns]"
      ]
     },
     "execution_count": 73,
     "metadata": {},
     "output_type": "execute_result"
    }
   ],
   "source": [
    "df"
   ]
  },
  {
   "cell_type": "code",
   "execution_count": 75,
   "id": "furnished-editor",
   "metadata": {},
   "outputs": [
    {
     "name": "stderr",
     "output_type": "stream",
     "text": [
      "<ipython-input-75-3eb9cfa80714>:15: SettingWithCopyWarning: \n",
      "A value is trying to be set on a copy of a slice from a DataFrame\n",
      "\n",
      "See the caveats in the documentation: https://pandas.pydata.org/pandas-docs/stable/user_guide/indexing.html#returning-a-view-versus-a-copy\n",
      "  df['Vader'][i] = b\n"
     ]
    }
   ],
   "source": [
    "## Adding column to act as a flag for the compound for easier sorting of pos/ neut/ neg\n",
    "df['Vader'] = 0\n",
    "df['Vader-i'] = 0\n",
    "\n",
    "for i in range(len(df['Compound'])):\n",
    "    #df['Vader-i'][i] = [i]\n",
    "    if df['Compound'][i] >= .25:\n",
    "        b = 1\n",
    "    elif 0.25<=df['Compound'][i]>=-0.25:\n",
    "        b= 0\n",
    "    elif df['Compound'][i] <= (-0.25):\n",
    "        b= -1\n",
    "    else:\n",
    "        b=5\n",
    "    df['Vader'][i] = b"
   ]
  },
  {
   "cell_type": "code",
   "execution_count": 76,
   "id": "modern-pharmacology",
   "metadata": {},
   "outputs": [
    {
     "data": {
      "text/html": [
       "<div>\n",
       "<style scoped>\n",
       "    .dataframe tbody tr th:only-of-type {\n",
       "        vertical-align: middle;\n",
       "    }\n",
       "\n",
       "    .dataframe tbody tr th {\n",
       "        vertical-align: top;\n",
       "    }\n",
       "\n",
       "    .dataframe thead th {\n",
       "        text-align: right;\n",
       "    }\n",
       "</style>\n",
       "<table border=\"1\" class=\"dataframe\">\n",
       "  <thead>\n",
       "    <tr style=\"text-align: right;\">\n",
       "      <th></th>\n",
       "      <th>combo</th>\n",
       "      <th>doc_clean</th>\n",
       "      <th>rake_phrases</th>\n",
       "      <th>Index</th>\n",
       "      <th>Compound</th>\n",
       "      <th>Negative</th>\n",
       "      <th>Neutral</th>\n",
       "      <th>Positive</th>\n",
       "      <th>Vader</th>\n",
       "      <th>Vader-i</th>\n",
       "    </tr>\n",
       "  </thead>\n",
       "  <tbody>\n",
       "    <tr>\n",
       "      <th>0</th>\n",
       "      <td>All In Illinois .  Gov. Jay Fatso Pritzker cal...</td>\n",
       "      <td>illinois gov jay fatso pritzker called illinoi...</td>\n",
       "      <td>[kayleen carlson executive director illinois r...</td>\n",
       "      <td>[0]</td>\n",
       "      <td>0.9893</td>\n",
       "      <td>0.069</td>\n",
       "      <td>0.796</td>\n",
       "      <td>0.135</td>\n",
       "      <td>1</td>\n",
       "      <td>0</td>\n",
       "    </tr>\n",
       "    <tr>\n",
       "      <th>1</th>\n",
       "      <td>The Illinois Department of Public Health Annou...</td>\n",
       "      <td>illinois department public health announces 16...</td>\n",
       "      <td>[illinois department public health announces 1...</td>\n",
       "      <td>[1]</td>\n",
       "      <td>-0.9136</td>\n",
       "      <td>0.083</td>\n",
       "      <td>0.917</td>\n",
       "      <td>0.000</td>\n",
       "      <td>-1</td>\n",
       "      <td>0</td>\n",
       "    </tr>\n",
       "    <tr>\n",
       "      <th>2</th>\n",
       "      <td>Foto Friday: Alton, Illinois Gloria Lawrence s...</td>\n",
       "      <td>foto friday alton illinois gloria lawrence sai...</td>\n",
       "      <td>[army corp engineer raise lower water level us...</td>\n",
       "      <td>[2]</td>\n",
       "      <td>0.9413</td>\n",
       "      <td>0.030</td>\n",
       "      <td>0.728</td>\n",
       "      <td>0.243</td>\n",
       "      <td>1</td>\n",
       "      <td>0</td>\n",
       "    </tr>\n",
       "    <tr>\n",
       "      <th>3</th>\n",
       "      <td>Chris Broussard on Michael Jordan returning to...</td>\n",
       "      <td>chris broussard michael jordan returning chica...</td>\n",
       "      <td>[chris broussard michael jordan returning chic...</td>\n",
       "      <td>[3]</td>\n",
       "      <td>0.9948</td>\n",
       "      <td>0.015</td>\n",
       "      <td>0.649</td>\n",
       "      <td>0.336</td>\n",
       "      <td>1</td>\n",
       "      <td>0</td>\n",
       "    </tr>\n",
       "    <tr>\n",
       "      <th>4</th>\n",
       "      <td>Pork chops vs. people: Can Americans appetite ...</td>\n",
       "      <td>pork chop v people american appetite meat fill...</td>\n",
       "      <td>[pork chop v people american appetite meat fil...</td>\n",
       "      <td>[4]</td>\n",
       "      <td>-0.4479</td>\n",
       "      <td>0.091</td>\n",
       "      <td>0.858</td>\n",
       "      <td>0.052</td>\n",
       "      <td>-1</td>\n",
       "      <td>0</td>\n",
       "    </tr>\n",
       "    <tr>\n",
       "      <th>...</th>\n",
       "      <td>...</td>\n",
       "      <td>...</td>\n",
       "      <td>...</td>\n",
       "      <td>...</td>\n",
       "      <td>...</td>\n",
       "      <td>...</td>\n",
       "      <td>...</td>\n",
       "      <td>...</td>\n",
       "      <td>...</td>\n",
       "      <td>...</td>\n",
       "    </tr>\n",
       "    <tr>\n",
       "      <th>370581</th>\n",
       "      <td>Do Illinois laws encourage corruptionprone uti...</td>\n",
       "      <td>illinois law encourage corruptionprone utility...</td>\n",
       "      <td>[illinois law encourage corruptionprone utilit...</td>\n",
       "      <td>[370581]</td>\n",
       "      <td>0.9870</td>\n",
       "      <td>0.046</td>\n",
       "      <td>0.783</td>\n",
       "      <td>0.171</td>\n",
       "      <td>1</td>\n",
       "      <td>0</td>\n",
       "    </tr>\n",
       "    <tr>\n",
       "      <th>370582</th>\n",
       "      <td>Quick hits: Illinois news in brief for Monday,...</td>\n",
       "      <td>quick hit illinois news brief monday nov 2 202...</td>\n",
       "      <td>[quick hit illinois news brief monday nov 2 20...</td>\n",
       "      <td>[370582]</td>\n",
       "      <td>0.9308</td>\n",
       "      <td>0.036</td>\n",
       "      <td>0.871</td>\n",
       "      <td>0.093</td>\n",
       "      <td>1</td>\n",
       "      <td>0</td>\n",
       "    </tr>\n",
       "    <tr>\n",
       "      <th>370583</th>\n",
       "      <td>Bail for Illinois teen charged in Kenosha kill...</td>\n",
       "      <td>bail illinois teen charged kenosha killing set...</td>\n",
       "      <td>[bail illinois teen charged kenosha killing se...</td>\n",
       "      <td>[370583]</td>\n",
       "      <td>-0.9538</td>\n",
       "      <td>0.286</td>\n",
       "      <td>0.661</td>\n",
       "      <td>0.053</td>\n",
       "      <td>-1</td>\n",
       "      <td>0</td>\n",
       "    </tr>\n",
       "    <tr>\n",
       "      <th>370584</th>\n",
       "      <td>6 Day Trip to Detroit, Chicago  On 4th Nov 202...</td>\n",
       "      <td>6 day trip detroit chicago 4th nov 2020 tripho...</td>\n",
       "      <td>[6 day trip detroit chicago 4th nov 2020 triph...</td>\n",
       "      <td>[370584]</td>\n",
       "      <td>0.6369</td>\n",
       "      <td>0.000</td>\n",
       "      <td>0.819</td>\n",
       "      <td>0.181</td>\n",
       "      <td>1</td>\n",
       "      <td>0</td>\n",
       "    </tr>\n",
       "    <tr>\n",
       "      <th>370585</th>\n",
       "      <td>ISKCON Chicago Temple Closes Immediately .  PA...</td>\n",
       "      <td>iskcon chicago temple close immediately pada v...</td>\n",
       "      <td>[whole temple could infected worse mess sure d...</td>\n",
       "      <td>[370585]</td>\n",
       "      <td>0.5413</td>\n",
       "      <td>0.192</td>\n",
       "      <td>0.564</td>\n",
       "      <td>0.243</td>\n",
       "      <td>1</td>\n",
       "      <td>0</td>\n",
       "    </tr>\n",
       "  </tbody>\n",
       "</table>\n",
       "<p>370586 rows × 10 columns</p>\n",
       "</div>"
      ],
      "text/plain": [
       "                                                    combo  \\\n",
       "0       All In Illinois .  Gov. Jay Fatso Pritzker cal...   \n",
       "1       The Illinois Department of Public Health Annou...   \n",
       "2       Foto Friday: Alton, Illinois Gloria Lawrence s...   \n",
       "3       Chris Broussard on Michael Jordan returning to...   \n",
       "4       Pork chops vs. people: Can Americans appetite ...   \n",
       "...                                                   ...   \n",
       "370581  Do Illinois laws encourage corruptionprone uti...   \n",
       "370582  Quick hits: Illinois news in brief for Monday,...   \n",
       "370583  Bail for Illinois teen charged in Kenosha kill...   \n",
       "370584  6 Day Trip to Detroit, Chicago  On 4th Nov 202...   \n",
       "370585  ISKCON Chicago Temple Closes Immediately .  PA...   \n",
       "\n",
       "                                                doc_clean  \\\n",
       "0       illinois gov jay fatso pritzker called illinoi...   \n",
       "1       illinois department public health announces 16...   \n",
       "2       foto friday alton illinois gloria lawrence sai...   \n",
       "3       chris broussard michael jordan returning chica...   \n",
       "4       pork chop v people american appetite meat fill...   \n",
       "...                                                   ...   \n",
       "370581  illinois law encourage corruptionprone utility...   \n",
       "370582  quick hit illinois news brief monday nov 2 202...   \n",
       "370583  bail illinois teen charged kenosha killing set...   \n",
       "370584  6 day trip detroit chicago 4th nov 2020 tripho...   \n",
       "370585  iskcon chicago temple close immediately pada v...   \n",
       "\n",
       "                                             rake_phrases     Index  Compound  \\\n",
       "0       [kayleen carlson executive director illinois r...       [0]    0.9893   \n",
       "1       [illinois department public health announces 1...       [1]   -0.9136   \n",
       "2       [army corp engineer raise lower water level us...       [2]    0.9413   \n",
       "3       [chris broussard michael jordan returning chic...       [3]    0.9948   \n",
       "4       [pork chop v people american appetite meat fil...       [4]   -0.4479   \n",
       "...                                                   ...       ...       ...   \n",
       "370581  [illinois law encourage corruptionprone utilit...  [370581]    0.9870   \n",
       "370582  [quick hit illinois news brief monday nov 2 20...  [370582]    0.9308   \n",
       "370583  [bail illinois teen charged kenosha killing se...  [370583]   -0.9538   \n",
       "370584  [6 day trip detroit chicago 4th nov 2020 triph...  [370584]    0.6369   \n",
       "370585  [whole temple could infected worse mess sure d...  [370585]    0.5413   \n",
       "\n",
       "        Negative  Neutral  Positive  Vader  Vader-i  \n",
       "0          0.069    0.796     0.135      1        0  \n",
       "1          0.083    0.917     0.000     -1        0  \n",
       "2          0.030    0.728     0.243      1        0  \n",
       "3          0.015    0.649     0.336      1        0  \n",
       "4          0.091    0.858     0.052     -1        0  \n",
       "...          ...      ...       ...    ...      ...  \n",
       "370581     0.046    0.783     0.171      1        0  \n",
       "370582     0.036    0.871     0.093      1        0  \n",
       "370583     0.286    0.661     0.053     -1        0  \n",
       "370584     0.000    0.819     0.181      1        0  \n",
       "370585     0.192    0.564     0.243      1        0  \n",
       "\n",
       "[370586 rows x 10 columns]"
      ]
     },
     "execution_count": 76,
     "metadata": {},
     "output_type": "execute_result"
    }
   ],
   "source": [
    "df"
   ]
  },
  {
   "cell_type": "code",
   "execution_count": 77,
   "id": "thick-priority",
   "metadata": {},
   "outputs": [],
   "source": [
    "## Send final to DF CSV\n",
    "#df.to_csv('DF+Vader.csv')"
   ]
  },
  {
   "cell_type": "code",
   "execution_count": null,
   "id": "agricultural-collective",
   "metadata": {},
   "outputs": [],
   "source": [
    "## Call forward Spacy_df - for reference\n",
    "#Spacy_df = pd.read_csv('Spacy')"
   ]
  },
  {
   "cell_type": "code",
   "execution_count": null,
   "id": "spanish-olympus",
   "metadata": {},
   "outputs": [],
   "source": [
    "### 2:18:12 Runtime for this entire set"
   ]
  },
  {
   "cell_type": "code",
   "execution_count": null,
   "id": "express-washer",
   "metadata": {},
   "outputs": [],
   "source": []
  },
  {
   "cell_type": "code",
   "execution_count": null,
   "id": "removable-surgeon",
   "metadata": {},
   "outputs": [],
   "source": [
    "#####\n",
    "####\n",
    "###\n",
    "##\n",
    "#\n",
    "\n",
    "#Start of POS / NEG NER SET based on lists this time..."
   ]
  },
  {
   "cell_type": "code",
   "execution_count": 9,
   "id": "wound-occasions",
   "metadata": {},
   "outputs": [],
   "source": [
    "df = pd.read_csv('DF+Vader.csv')"
   ]
  },
  {
   "cell_type": "code",
   "execution_count": 10,
   "id": "stylish-delta",
   "metadata": {},
   "outputs": [],
   "source": [
    "## Create positive and negative sentiment analysis datasets for NER \n",
    "pos_sent = df['doc_clean'][df['Vader'] == 1]\n",
    "neg_sent = df['doc_clean'][df['Vader'] == -1]"
   ]
  },
  {
   "cell_type": "code",
   "execution_count": 13,
   "id": "stock-egyptian",
   "metadata": {},
   "outputs": [
    {
     "data": {
      "text/plain": [
       "<spacy.pipeline.sentencizer.Sentencizer at 0x173a47c00>"
      ]
     },
     "execution_count": 13,
     "metadata": {},
     "output_type": "execute_result"
    }
   ],
   "source": [
    "## Load SpaCy model\n",
    "#nlp = spacy.load(\"en_core_web_sm\") ## \n",
    "#nlp = spacy.load(\"en_core_web_md\") ## 47.1MB\n",
    "nlp = spacy.load(\"en_core_web_lg\") ## \n",
    "nlp.add_pipe('sentencizer')"
   ]
  },
  {
   "cell_type": "code",
   "execution_count": 14,
   "id": "thirty-latin",
   "metadata": {},
   "outputs": [],
   "source": [
    "pos_sent2 = list(pos_sent)\n",
    "neg_sent2 = list(neg_sent)"
   ]
  },
  {
   "cell_type": "code",
   "execution_count": 15,
   "id": "sensitive-simpson",
   "metadata": {},
   "outputs": [],
   "source": [
    "## Reset threshold\n",
    "nlp.max_length = 10000000"
   ]
  },
  {
   "cell_type": "code",
   "execution_count": 18,
   "id": "public-chancellor",
   "metadata": {},
   "outputs": [
    {
     "name": "stdout",
     "output_type": "stream",
     "text": [
      "CPU times: user 7.16 ms, sys: 1.33 ms, total: 8.5 ms\n",
      "Wall time: 11.5 ms\n"
     ]
    }
   ],
   "source": [
    "doc = nlp(str(pos_sent2[0:4500]))\n",
    "entities = []\n",
    "labels = []\n",
    "#position_start = []\n",
    "#position_end = []\n",
    "\n",
    "for ent in doc.ents:\n",
    "    entities.append(ent.text)\n",
    "    labels.append(ent.label_)\n",
    "    #position_start.append(ent.start_char)\n",
    "    #position_end.append(ent.end_char)\n",
    "    \n",
    "%time df2 = pd.DataFrame({'Entities':entities,'Labels':labels}) #,'Position_Start':position_start, 'Position_End':position_end})"
   ]
  },
  {
   "cell_type": "code",
   "execution_count": 21,
   "id": "legal-lease",
   "metadata": {},
   "outputs": [
    {
     "data": {
      "text/html": [
       "<div>\n",
       "<style scoped>\n",
       "    .dataframe tbody tr th:only-of-type {\n",
       "        vertical-align: middle;\n",
       "    }\n",
       "\n",
       "    .dataframe tbody tr th {\n",
       "        vertical-align: top;\n",
       "    }\n",
       "\n",
       "    .dataframe thead th {\n",
       "        text-align: right;\n",
       "    }\n",
       "</style>\n",
       "<table border=\"1\" class=\"dataframe\">\n",
       "  <thead>\n",
       "    <tr style=\"text-align: right;\">\n",
       "      <th></th>\n",
       "      <th>Entities</th>\n",
       "    </tr>\n",
       "    <tr>\n",
       "      <th>Labels</th>\n",
       "      <th></th>\n",
       "    </tr>\n",
       "  </thead>\n",
       "  <tbody>\n",
       "    <tr>\n",
       "      <th>CARDINAL</th>\n",
       "      <td>45142</td>\n",
       "    </tr>\n",
       "    <tr>\n",
       "      <th>DATE</th>\n",
       "      <td>31843</td>\n",
       "    </tr>\n",
       "    <tr>\n",
       "      <th>EVENT</th>\n",
       "      <td>9</td>\n",
       "    </tr>\n",
       "    <tr>\n",
       "      <th>FAC</th>\n",
       "      <td>86</td>\n",
       "    </tr>\n",
       "    <tr>\n",
       "      <th>GPE</th>\n",
       "      <td>6242</td>\n",
       "    </tr>\n",
       "    <tr>\n",
       "      <th>LANGUAGE</th>\n",
       "      <td>5</td>\n",
       "    </tr>\n",
       "    <tr>\n",
       "      <th>LAW</th>\n",
       "      <td>58</td>\n",
       "    </tr>\n",
       "    <tr>\n",
       "      <th>LOC</th>\n",
       "      <td>102</td>\n",
       "    </tr>\n",
       "    <tr>\n",
       "      <th>MONEY</th>\n",
       "      <td>938</td>\n",
       "    </tr>\n",
       "    <tr>\n",
       "      <th>NORP</th>\n",
       "      <td>2229</td>\n",
       "    </tr>\n",
       "    <tr>\n",
       "      <th>ORDINAL</th>\n",
       "      <td>5428</td>\n",
       "    </tr>\n",
       "    <tr>\n",
       "      <th>ORG</th>\n",
       "      <td>1470</td>\n",
       "    </tr>\n",
       "    <tr>\n",
       "      <th>PERCENT</th>\n",
       "      <td>716</td>\n",
       "    </tr>\n",
       "    <tr>\n",
       "      <th>PERSON</th>\n",
       "      <td>9182</td>\n",
       "    </tr>\n",
       "    <tr>\n",
       "      <th>PRODUCT</th>\n",
       "      <td>466</td>\n",
       "    </tr>\n",
       "    <tr>\n",
       "      <th>QUANTITY</th>\n",
       "      <td>1112</td>\n",
       "    </tr>\n",
       "    <tr>\n",
       "      <th>TIME</th>\n",
       "      <td>3682</td>\n",
       "    </tr>\n",
       "    <tr>\n",
       "      <th>WORK_OF_ART</th>\n",
       "      <td>11</td>\n",
       "    </tr>\n",
       "  </tbody>\n",
       "</table>\n",
       "</div>"
      ],
      "text/plain": [
       "             Entities\n",
       "Labels               \n",
       "CARDINAL        45142\n",
       "DATE            31843\n",
       "EVENT               9\n",
       "FAC                86\n",
       "GPE              6242\n",
       "LANGUAGE            5\n",
       "LAW                58\n",
       "LOC               102\n",
       "MONEY             938\n",
       "NORP             2229\n",
       "ORDINAL          5428\n",
       "ORG              1470\n",
       "PERCENT           716\n",
       "PERSON           9182\n",
       "PRODUCT           466\n",
       "QUANTITY         1112\n",
       "TIME             3682\n",
       "WORK_OF_ART        11"
      ]
     },
     "execution_count": 21,
     "metadata": {},
     "output_type": "execute_result"
    }
   ],
   "source": [
    "df2.groupby('Labels').count()"
   ]
  },
  {
   "cell_type": "code",
   "execution_count": 22,
   "id": "continued-property",
   "metadata": {},
   "outputs": [],
   "source": [
    "df2.to_csv('Pos_NER.csv')"
   ]
  },
  {
   "cell_type": "code",
   "execution_count": 23,
   "id": "painted-uniform",
   "metadata": {},
   "outputs": [
    {
     "data": {
      "text/plain": [
       "Entities\n",
       "nbc                 259\n",
       "shaw                 67\n",
       "gop                  58\n",
       "lincoln              54\n",
       "mvp                  40\n",
       "abc                  33\n",
       "41f                  32\n",
       "nba                  26\n",
       "k9                   25\n",
       "cnn                  23\n",
       "104                  16\n",
       "ecf                  14\n",
       "mlb                  10\n",
       "k12                  10\n",
       "cbs                  10\n",
       "york mellon corp     10\n",
       "oakland               9\n",
       "misericordia          8\n",
       "909pm                 8\n",
       "1248                  8\n",
       "Name: Labels, dtype: int64"
      ]
     },
     "execution_count": 23,
     "metadata": {},
     "output_type": "execute_result"
    }
   ],
   "source": [
    "Entities = df2[df2.Labels == \"ORG\"].groupby('Entities')['Labels'].count()\n",
    "organizations_p = Entities.sort_values(ascending=False)\n",
    "organizations_p.head(20)"
   ]
  },
  {
   "cell_type": "code",
   "execution_count": 29,
   "id": "disabled-fields",
   "metadata": {},
   "outputs": [
    {
     "name": "stdout",
     "output_type": "stream",
     "text": [
      "CPU times: user 6.13 ms, sys: 1.79 ms, total: 7.92 ms\n",
      "Wall time: 12.3 ms\n"
     ]
    }
   ],
   "source": [
    "doc = nlp(str(neg_sent2[0:4500]))\n",
    "entities = []\n",
    "labels = []\n",
    "#position_start = []\n",
    "#position_end = []\n",
    "\n",
    "for ent in doc.ents:\n",
    "    entities.append(ent.text)\n",
    "    labels.append(ent.label_)\n",
    "    #position_start.append(ent.start_char)\n",
    "    #position_end.append(ent.end_char)\n",
    "    \n",
    "%time df3 = pd.DataFrame({'Entities':entities,'Labels':labels}) #,'Position_Start':position_start, 'Position_End':position_end})"
   ]
  },
  {
   "cell_type": "code",
   "execution_count": 30,
   "id": "loving-lying",
   "metadata": {},
   "outputs": [
    {
     "data": {
      "text/html": [
       "<div>\n",
       "<style scoped>\n",
       "    .dataframe tbody tr th:only-of-type {\n",
       "        vertical-align: middle;\n",
       "    }\n",
       "\n",
       "    .dataframe tbody tr th {\n",
       "        vertical-align: top;\n",
       "    }\n",
       "\n",
       "    .dataframe thead th {\n",
       "        text-align: right;\n",
       "    }\n",
       "</style>\n",
       "<table border=\"1\" class=\"dataframe\">\n",
       "  <thead>\n",
       "    <tr style=\"text-align: right;\">\n",
       "      <th></th>\n",
       "      <th>Entities</th>\n",
       "    </tr>\n",
       "    <tr>\n",
       "      <th>Labels</th>\n",
       "      <th></th>\n",
       "    </tr>\n",
       "  </thead>\n",
       "  <tbody>\n",
       "    <tr>\n",
       "      <th>CARDINAL</th>\n",
       "      <td>34292</td>\n",
       "    </tr>\n",
       "    <tr>\n",
       "      <th>DATE</th>\n",
       "      <td>23885</td>\n",
       "    </tr>\n",
       "    <tr>\n",
       "      <th>EVENT</th>\n",
       "      <td>21</td>\n",
       "    </tr>\n",
       "    <tr>\n",
       "      <th>FAC</th>\n",
       "      <td>132</td>\n",
       "    </tr>\n",
       "    <tr>\n",
       "      <th>GPE</th>\n",
       "      <td>5814</td>\n",
       "    </tr>\n",
       "    <tr>\n",
       "      <th>LANGUAGE</th>\n",
       "      <td>3</td>\n",
       "    </tr>\n",
       "    <tr>\n",
       "      <th>LAW</th>\n",
       "      <td>17</td>\n",
       "    </tr>\n",
       "    <tr>\n",
       "      <th>LOC</th>\n",
       "      <td>49</td>\n",
       "    </tr>\n",
       "    <tr>\n",
       "      <th>MONEY</th>\n",
       "      <td>433</td>\n",
       "    </tr>\n",
       "    <tr>\n",
       "      <th>NORP</th>\n",
       "      <td>1786</td>\n",
       "    </tr>\n",
       "    <tr>\n",
       "      <th>ORDINAL</th>\n",
       "      <td>3609</td>\n",
       "    </tr>\n",
       "    <tr>\n",
       "      <th>ORG</th>\n",
       "      <td>1782</td>\n",
       "    </tr>\n",
       "    <tr>\n",
       "      <th>PERCENT</th>\n",
       "      <td>609</td>\n",
       "    </tr>\n",
       "    <tr>\n",
       "      <th>PERSON</th>\n",
       "      <td>7517</td>\n",
       "    </tr>\n",
       "    <tr>\n",
       "      <th>PRODUCT</th>\n",
       "      <td>363</td>\n",
       "    </tr>\n",
       "    <tr>\n",
       "      <th>QUANTITY</th>\n",
       "      <td>1195</td>\n",
       "    </tr>\n",
       "    <tr>\n",
       "      <th>TIME</th>\n",
       "      <td>5671</td>\n",
       "    </tr>\n",
       "    <tr>\n",
       "      <th>WORK_OF_ART</th>\n",
       "      <td>6</td>\n",
       "    </tr>\n",
       "  </tbody>\n",
       "</table>\n",
       "</div>"
      ],
      "text/plain": [
       "             Entities\n",
       "Labels               \n",
       "CARDINAL        34292\n",
       "DATE            23885\n",
       "EVENT              21\n",
       "FAC               132\n",
       "GPE              5814\n",
       "LANGUAGE            3\n",
       "LAW                17\n",
       "LOC                49\n",
       "MONEY             433\n",
       "NORP             1786\n",
       "ORDINAL          3609\n",
       "ORG              1782\n",
       "PERCENT           609\n",
       "PERSON           7517\n",
       "PRODUCT           363\n",
       "QUANTITY         1195\n",
       "TIME             5671\n",
       "WORK_OF_ART         6"
      ]
     },
     "execution_count": 30,
     "metadata": {},
     "output_type": "execute_result"
    }
   ],
   "source": [
    "df3.groupby('Labels').count()"
   ]
  },
  {
   "cell_type": "code",
   "execution_count": 31,
   "id": "reserved-arnold",
   "metadata": {},
   "outputs": [
    {
     "data": {
      "text/plain": [
       "Entities\n",
       "nbc                        293\n",
       "cnn                        126\n",
       "ecf                        114\n",
       "fbi                        111\n",
       "gop                         86\n",
       "abc                         79\n",
       "lincoln                     79\n",
       "faa                         56\n",
       "52900 le 2018               38\n",
       "mcsweeney                   31\n",
       "cdc                         26\n",
       "pa28                        22\n",
       "charles missouri daniel     21\n",
       "sr22                        21\n",
       "chevrolet                   20\n",
       "cpd                         20\n",
       "shaw                        18\n",
       "h3                          14\n",
       "msnbc                       12\n",
       "cbs                         11\n",
       "Name: Labels, dtype: int64"
      ]
     },
     "execution_count": 31,
     "metadata": {},
     "output_type": "execute_result"
    }
   ],
   "source": [
    "Entities4 = df3[df3.Labels == \"ORG\"].groupby('Entities')['Labels'].count()\n",
    "organizations_p4 = Entities4.sort_values(ascending=False)\n",
    "organizations_p4.head(20)"
   ]
  },
  {
   "cell_type": "code",
   "execution_count": 32,
   "id": "incomplete-emergency",
   "metadata": {},
   "outputs": [],
   "source": [
    "df3.to_csv('Neg_NERSENT.csv')"
   ]
  },
  {
   "cell_type": "code",
   "execution_count": null,
   "id": "headed-portugal",
   "metadata": {},
   "outputs": [],
   "source": []
  },
  {
   "cell_type": "code",
   "execution_count": null,
   "id": "fourth-sugar",
   "metadata": {},
   "outputs": [],
   "source": [
    "## Export data for use in Analysis workbook\n",
    "df2.to_csv('Pos_sent.csv')\n",
    "df3.to_csv('Neg_sent.csv')\n",
    "#rake_ner.to_csv('RAKE_NER.csv')"
   ]
  },
  {
   "cell_type": "code",
   "execution_count": null,
   "id": "italian-veteran",
   "metadata": {},
   "outputs": [],
   "source": []
  },
  {
   "cell_type": "code",
   "execution_count": 109,
   "id": "unlikely-advance",
   "metadata": {},
   "outputs": [
    {
     "data": {
      "text/plain": [
       "Entities\n",
       "201807             201807\n",
       "370580             201807\n",
       "370582             201807\n",
       "370584             201807\n",
       "370585             201807\n",
       "42 percent         201807\n",
       "4th                201807\n",
       "6 day              201807\n",
       "72win              201807\n",
       "73win              201807\n",
       "chicago            201807\n",
       "detroit            201807\n",
       "friday             201807\n",
       "illinois gloria    201807\n",
       "monday nov 2       201807\n",
       "nov 2020           201807\n",
       "Name: Entities, dtype: int64"
      ]
     },
     "execution_count": 109,
     "metadata": {},
     "output_type": "execute_result"
    }
   ],
   "source": [
    "pos_ner.groupby('Entities')['Entities'].count()"
   ]
  },
  {
   "cell_type": "code",
   "execution_count": 108,
   "id": "charming-institution",
   "metadata": {},
   "outputs": [
    {
     "data": {
      "text/plain": [
       "Index(['Entities', 'Labels', 'Position'], dtype='object')"
      ]
     },
     "execution_count": 108,
     "metadata": {},
     "output_type": "execute_result"
    }
   ],
   "source": [
    "pos_ner.columns"
   ]
  },
  {
   "cell_type": "code",
   "execution_count": null,
   "id": "chemical-birmingham",
   "metadata": {},
   "outputs": [],
   "source": []
  },
  {
   "cell_type": "code",
   "execution_count": null,
   "id": "boxed-kernel",
   "metadata": {},
   "outputs": [],
   "source": []
  },
  {
   "cell_type": "code",
   "execution_count": null,
   "id": "coastal-patient",
   "metadata": {},
   "outputs": [],
   "source": []
  },
  {
   "cell_type": "code",
   "execution_count": null,
   "id": "expired-tourist",
   "metadata": {},
   "outputs": [],
   "source": []
  },
  {
   "cell_type": "code",
   "execution_count": null,
   "id": "olive-married",
   "metadata": {},
   "outputs": [],
   "source": []
  },
  {
   "cell_type": "code",
   "execution_count": null,
   "id": "canadian-istanbul",
   "metadata": {},
   "outputs": [],
   "source": []
  },
  {
   "cell_type": "code",
   "execution_count": 80,
   "id": "sensitive-depression",
   "metadata": {},
   "outputs": [],
   "source": [
    "## VADER Sentiment analysis on NER- loop to assign polarity score / build lists / append lists and etner\n",
    "## A\n",
    "spot = []\n",
    "neg = []\n",
    "pos = []\n",
    "neu = []\n",
    "compound = []\n",
    "\n",
    "for i in range(len(df_spacy['Entities'])):\n",
    "    for ii in range(0,1):\n",
    "        spot.append([i])\n",
    "        article2 = sid.polarity_scores(df_spacy['Entities'][i])\n",
    "        article_list = list(article2.values()) \n",
    "        #dc.append(article2)\n",
    "        compound.append(article_list[3])\n",
    "        neg.append(article_list[0])\n",
    "        neu.append(article_list[1])\n",
    "        pos.append(article_list[2])\n",
    "df_space_vader = pd.DataFrame({'Index':spot,'Ind. Compound':compound,'Ind. Negative':neg, 'Ind. Neutral':neu, 'Ind. Positive':pos})"
   ]
  },
  {
   "cell_type": "code",
   "execution_count": 82,
   "id": "lonely-clock",
   "metadata": {},
   "outputs": [
    {
     "data": {
      "text/html": [
       "<div>\n",
       "<style scoped>\n",
       "    .dataframe tbody tr th:only-of-type {\n",
       "        vertical-align: middle;\n",
       "    }\n",
       "\n",
       "    .dataframe tbody tr th {\n",
       "        vertical-align: top;\n",
       "    }\n",
       "\n",
       "    .dataframe thead th {\n",
       "        text-align: right;\n",
       "    }\n",
       "</style>\n",
       "<table border=\"1\" class=\"dataframe\">\n",
       "  <thead>\n",
       "    <tr style=\"text-align: right;\">\n",
       "      <th></th>\n",
       "      <th>Index</th>\n",
       "      <th>Compound</th>\n",
       "      <th>Negative</th>\n",
       "      <th>Neutral</th>\n",
       "      <th>Positive</th>\n",
       "    </tr>\n",
       "  </thead>\n",
       "  <tbody>\n",
       "    <tr>\n",
       "      <th>0</th>\n",
       "      <td>[0]</td>\n",
       "      <td>0.0</td>\n",
       "      <td>0.0</td>\n",
       "      <td>1.0</td>\n",
       "      <td>0.0</td>\n",
       "    </tr>\n",
       "    <tr>\n",
       "      <th>1</th>\n",
       "      <td>[1]</td>\n",
       "      <td>0.0</td>\n",
       "      <td>0.0</td>\n",
       "      <td>1.0</td>\n",
       "      <td>0.0</td>\n",
       "    </tr>\n",
       "    <tr>\n",
       "      <th>2</th>\n",
       "      <td>[2]</td>\n",
       "      <td>0.0</td>\n",
       "      <td>0.0</td>\n",
       "      <td>1.0</td>\n",
       "      <td>0.0</td>\n",
       "    </tr>\n",
       "    <tr>\n",
       "      <th>3</th>\n",
       "      <td>[3]</td>\n",
       "      <td>0.0</td>\n",
       "      <td>0.0</td>\n",
       "      <td>1.0</td>\n",
       "      <td>0.0</td>\n",
       "    </tr>\n",
       "    <tr>\n",
       "      <th>4</th>\n",
       "      <td>[4]</td>\n",
       "      <td>0.0</td>\n",
       "      <td>0.0</td>\n",
       "      <td>1.0</td>\n",
       "      <td>0.0</td>\n",
       "    </tr>\n",
       "    <tr>\n",
       "      <th>...</th>\n",
       "      <td>...</td>\n",
       "      <td>...</td>\n",
       "      <td>...</td>\n",
       "      <td>...</td>\n",
       "      <td>...</td>\n",
       "    </tr>\n",
       "    <tr>\n",
       "      <th>5558785</th>\n",
       "      <td>[5558785]</td>\n",
       "      <td>0.0</td>\n",
       "      <td>0.0</td>\n",
       "      <td>1.0</td>\n",
       "      <td>0.0</td>\n",
       "    </tr>\n",
       "    <tr>\n",
       "      <th>5558786</th>\n",
       "      <td>[5558786]</td>\n",
       "      <td>0.0</td>\n",
       "      <td>0.0</td>\n",
       "      <td>1.0</td>\n",
       "      <td>0.0</td>\n",
       "    </tr>\n",
       "    <tr>\n",
       "      <th>5558787</th>\n",
       "      <td>[5558787]</td>\n",
       "      <td>0.0</td>\n",
       "      <td>0.0</td>\n",
       "      <td>1.0</td>\n",
       "      <td>0.0</td>\n",
       "    </tr>\n",
       "    <tr>\n",
       "      <th>5558788</th>\n",
       "      <td>[5558788]</td>\n",
       "      <td>0.0</td>\n",
       "      <td>0.0</td>\n",
       "      <td>1.0</td>\n",
       "      <td>0.0</td>\n",
       "    </tr>\n",
       "    <tr>\n",
       "      <th>5558789</th>\n",
       "      <td>[5558789]</td>\n",
       "      <td>0.0</td>\n",
       "      <td>0.0</td>\n",
       "      <td>1.0</td>\n",
       "      <td>0.0</td>\n",
       "    </tr>\n",
       "  </tbody>\n",
       "</table>\n",
       "<p>5558790 rows × 5 columns</p>\n",
       "</div>"
      ],
      "text/plain": [
       "             Index  Compound  Negative  Neutral  Positive\n",
       "0              [0]       0.0       0.0      1.0       0.0\n",
       "1              [1]       0.0       0.0      1.0       0.0\n",
       "2              [2]       0.0       0.0      1.0       0.0\n",
       "3              [3]       0.0       0.0      1.0       0.0\n",
       "4              [4]       0.0       0.0      1.0       0.0\n",
       "...            ...       ...       ...      ...       ...\n",
       "5558785  [5558785]       0.0       0.0      1.0       0.0\n",
       "5558786  [5558786]       0.0       0.0      1.0       0.0\n",
       "5558787  [5558787]       0.0       0.0      1.0       0.0\n",
       "5558788  [5558788]       0.0       0.0      1.0       0.0\n",
       "5558789  [5558789]       0.0       0.0      1.0       0.0\n",
       "\n",
       "[5558790 rows x 5 columns]"
      ]
     },
     "execution_count": 82,
     "metadata": {},
     "output_type": "execute_result"
    }
   ],
   "source": [
    "df_space_vader"
   ]
  },
  {
   "cell_type": "code",
   "execution_count": 93,
   "id": "thorough-economics",
   "metadata": {},
   "outputs": [],
   "source": [
    "## Combine \n",
    "df_space_vader2 = df_spacy.join(df_space_vader, lsuffix='Index',rsuffix='Index')"
   ]
  },
  {
   "cell_type": "code",
   "execution_count": 94,
   "id": "medical-texas",
   "metadata": {},
   "outputs": [
    {
     "data": {
      "text/html": [
       "<div>\n",
       "<style scoped>\n",
       "    .dataframe tbody tr th:only-of-type {\n",
       "        vertical-align: middle;\n",
       "    }\n",
       "\n",
       "    .dataframe tbody tr th {\n",
       "        vertical-align: top;\n",
       "    }\n",
       "\n",
       "    .dataframe thead th {\n",
       "        text-align: right;\n",
       "    }\n",
       "</style>\n",
       "<table border=\"1\" class=\"dataframe\">\n",
       "  <thead>\n",
       "    <tr style=\"text-align: right;\">\n",
       "      <th></th>\n",
       "      <th>Entities</th>\n",
       "      <th>Labels</th>\n",
       "      <th>Position</th>\n",
       "      <th>Index</th>\n",
       "      <th>Compound</th>\n",
       "      <th>Negative</th>\n",
       "      <th>Neutral</th>\n",
       "      <th>Positive</th>\n",
       "    </tr>\n",
       "  </thead>\n",
       "  <tbody>\n",
       "    <tr>\n",
       "      <th>0</th>\n",
       "      <td>16</td>\n",
       "      <td>CARDINAL</td>\n",
       "      <td>[0]</td>\n",
       "      <td>[0]</td>\n",
       "      <td>0.0</td>\n",
       "      <td>0.0</td>\n",
       "      <td>1.0</td>\n",
       "      <td>0.0</td>\n",
       "    </tr>\n",
       "    <tr>\n",
       "      <th>1</th>\n",
       "      <td>friday</td>\n",
       "      <td>DATE</td>\n",
       "      <td>[0]</td>\n",
       "      <td>[1]</td>\n",
       "      <td>0.0</td>\n",
       "      <td>0.0</td>\n",
       "      <td>1.0</td>\n",
       "      <td>0.0</td>\n",
       "    </tr>\n",
       "    <tr>\n",
       "      <th>2</th>\n",
       "      <td>illinois gloria</td>\n",
       "      <td>PERSON</td>\n",
       "      <td>[0]</td>\n",
       "      <td>[2]</td>\n",
       "      <td>0.0</td>\n",
       "      <td>0.0</td>\n",
       "      <td>1.0</td>\n",
       "      <td>0.0</td>\n",
       "    </tr>\n",
       "    <tr>\n",
       "      <th>3</th>\n",
       "      <td>370581</td>\n",
       "      <td>CARDINAL</td>\n",
       "      <td>[0]</td>\n",
       "      <td>[3]</td>\n",
       "      <td>0.0</td>\n",
       "      <td>0.0</td>\n",
       "      <td>1.0</td>\n",
       "      <td>0.0</td>\n",
       "    </tr>\n",
       "    <tr>\n",
       "      <th>4</th>\n",
       "      <td>370582</td>\n",
       "      <td>CARDINAL</td>\n",
       "      <td>[0]</td>\n",
       "      <td>[4]</td>\n",
       "      <td>0.0</td>\n",
       "      <td>0.0</td>\n",
       "      <td>1.0</td>\n",
       "      <td>0.0</td>\n",
       "    </tr>\n",
       "    <tr>\n",
       "      <th>...</th>\n",
       "      <td>...</td>\n",
       "      <td>...</td>\n",
       "      <td>...</td>\n",
       "      <td>...</td>\n",
       "      <td>...</td>\n",
       "      <td>...</td>\n",
       "      <td>...</td>\n",
       "      <td>...</td>\n",
       "    </tr>\n",
       "    <tr>\n",
       "      <th>5558785</th>\n",
       "      <td>chicago</td>\n",
       "      <td>GPE</td>\n",
       "      <td>[370585]</td>\n",
       "      <td>[5558785]</td>\n",
       "      <td>0.0</td>\n",
       "      <td>0.0</td>\n",
       "      <td>1.0</td>\n",
       "      <td>0.0</td>\n",
       "    </tr>\n",
       "    <tr>\n",
       "      <th>5558786</th>\n",
       "      <td>4th</td>\n",
       "      <td>ORDINAL</td>\n",
       "      <td>[370585]</td>\n",
       "      <td>[5558786]</td>\n",
       "      <td>0.0</td>\n",
       "      <td>0.0</td>\n",
       "      <td>1.0</td>\n",
       "      <td>0.0</td>\n",
       "    </tr>\n",
       "    <tr>\n",
       "      <th>5558787</th>\n",
       "      <td>nov 2020</td>\n",
       "      <td>DATE</td>\n",
       "      <td>[370585]</td>\n",
       "      <td>[5558787]</td>\n",
       "      <td>0.0</td>\n",
       "      <td>0.0</td>\n",
       "      <td>1.0</td>\n",
       "      <td>0.0</td>\n",
       "    </tr>\n",
       "    <tr>\n",
       "      <th>5558788</th>\n",
       "      <td>370585</td>\n",
       "      <td>CARDINAL</td>\n",
       "      <td>[370585]</td>\n",
       "      <td>[5558788]</td>\n",
       "      <td>0.0</td>\n",
       "      <td>0.0</td>\n",
       "      <td>1.0</td>\n",
       "      <td>0.0</td>\n",
       "    </tr>\n",
       "    <tr>\n",
       "      <th>5558789</th>\n",
       "      <td>370586</td>\n",
       "      <td>CARDINAL</td>\n",
       "      <td>[370585]</td>\n",
       "      <td>[5558789]</td>\n",
       "      <td>0.0</td>\n",
       "      <td>0.0</td>\n",
       "      <td>1.0</td>\n",
       "      <td>0.0</td>\n",
       "    </tr>\n",
       "  </tbody>\n",
       "</table>\n",
       "<p>5558790 rows × 8 columns</p>\n",
       "</div>"
      ],
      "text/plain": [
       "                Entities    Labels  Position      Index  Compound  Negative  \\\n",
       "0                     16  CARDINAL       [0]        [0]       0.0       0.0   \n",
       "1                 friday      DATE       [0]        [1]       0.0       0.0   \n",
       "2        illinois gloria    PERSON       [0]        [2]       0.0       0.0   \n",
       "3                 370581  CARDINAL       [0]        [3]       0.0       0.0   \n",
       "4                 370582  CARDINAL       [0]        [4]       0.0       0.0   \n",
       "...                  ...       ...       ...        ...       ...       ...   \n",
       "5558785          chicago       GPE  [370585]  [5558785]       0.0       0.0   \n",
       "5558786              4th   ORDINAL  [370585]  [5558786]       0.0       0.0   \n",
       "5558787         nov 2020      DATE  [370585]  [5558787]       0.0       0.0   \n",
       "5558788           370585  CARDINAL  [370585]  [5558788]       0.0       0.0   \n",
       "5558789           370586  CARDINAL  [370585]  [5558789]       0.0       0.0   \n",
       "\n",
       "         Neutral  Positive  \n",
       "0            1.0       0.0  \n",
       "1            1.0       0.0  \n",
       "2            1.0       0.0  \n",
       "3            1.0       0.0  \n",
       "4            1.0       0.0  \n",
       "...          ...       ...  \n",
       "5558785      1.0       0.0  \n",
       "5558786      1.0       0.0  \n",
       "5558787      1.0       0.0  \n",
       "5558788      1.0       0.0  \n",
       "5558789      1.0       0.0  \n",
       "\n",
       "[5558790 rows x 8 columns]"
      ]
     },
     "execution_count": 94,
     "metadata": {},
     "output_type": "execute_result"
    }
   ],
   "source": [
    "df_space_vader"
   ]
  },
  {
   "cell_type": "code",
   "execution_count": 96,
   "id": "liberal-savings",
   "metadata": {},
   "outputs": [
    {
     "data": {
      "text/plain": [
       "Compound  Compound\n",
       "0.0       0.0         5558790\n",
       "Name: Compound, dtype: int64"
      ]
     },
     "execution_count": 96,
     "metadata": {},
     "output_type": "execute_result"
    }
   ],
   "source": [
    "## View group by\n",
    "df_space_vader.groupby('Compound')['Compound'].value_counts()"
   ]
  },
  {
   "cell_type": "code",
   "execution_count": 103,
   "id": "caring-madness",
   "metadata": {},
   "outputs": [],
   "source": [
    "## Export Space Vader\n",
    "df_space_vader.to_csv('Space_Vader.csv')"
   ]
  }
 ],
 "metadata": {
  "kernelspec": {
   "display_name": "Python 3 (ipykernel)",
   "language": "python",
   "name": "python3"
  },
  "language_info": {
   "codemirror_mode": {
    "name": "ipython",
    "version": 3
   },
   "file_extension": ".py",
   "mimetype": "text/x-python",
   "name": "python",
   "nbconvert_exporter": "python",
   "pygments_lexer": "ipython3",
   "version": "3.9.5"
  }
 },
 "nbformat": 4,
 "nbformat_minor": 5
}
